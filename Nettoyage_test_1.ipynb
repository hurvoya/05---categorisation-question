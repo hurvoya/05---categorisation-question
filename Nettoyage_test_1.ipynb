{
 "cells": [
  {
   "cell_type": "markdown",
   "id": "2641b64a",
   "metadata": {},
   "source": [
    "Notre projet est décomposé en 3 parties :\n",
    "\n",
    "- <b>L'Exploration</b>, le Nettoyage (Exploratory Data Analysis (EDA)) et la Normalisation du Texte.\n",
    "- <b>La Transformation</b> du texte et la création de features\n",
    "- <b>La Classification</b> du Texte à l'aide du ML"
   ]
  },
  {
   "cell_type": "markdown",
   "id": "d727c8e7",
   "metadata": {},
   "source": [
    "# <font color = Green>Partie 1 : Exploratory Data Analysis</font>"
   ]
  },
  {
   "cell_type": "markdown",
   "id": "c0d5ecf1",
   "metadata": {},
   "source": [
    "Objectifs :\n",
    "- Comprendre la forme et la structure de nos données\n",
    "- Faire un premier netttoyage de nos données\n",
    "- Avoir une première représentation de nos données\n",
    "- Repérer des patterns dans nos données"
   ]
  },
  {
   "cell_type": "markdown",
   "id": "db7138b7",
   "metadata": {},
   "source": [
    "## <font color = purple>1. Préléminaires</font>"
   ]
  },
  {
   "cell_type": "markdown",
   "id": "822856db",
   "metadata": {},
   "source": [
    "### <font color = grey>1.1 Contexte</font>"
   ]
  },
  {
   "cell_type": "markdown",
   "id": "cc65a8a6",
   "metadata": {},
   "source": [
    "Bibliothèque de prétraitement : nltk.\n",
    "</br>nltk est simple mais un peu désuet. Il reste néanmoins très pertinent lors d'une première approche au NLP."
   ]
  },
  {
   "cell_type": "markdown",
   "id": "c1ae55ed",
   "metadata": {},
   "source": [
    "### <font color = grey>1.2 Librairies</font>"
   ]
  },
  {
   "cell_type": "code",
   "execution_count": 1,
   "id": "2926f5a1",
   "metadata": {},
   "outputs": [],
   "source": [
    "#Librairies classiques\n",
    "import os, sys, time\n",
    "\n",
    "import numpy as np\n",
    "import pandas as pd\n",
    "\n",
    "import matplotlib.pyplot as plt\n",
    "import seaborn as sns\n",
    "sns.set()"
   ]
  },
  {
   "cell_type": "code",
   "execution_count": 2,
   "id": "d4ed0b7d",
   "metadata": {},
   "outputs": [
    {
     "name": "stdout",
     "output_type": "stream",
     "text": [
      "Folder PATH listing for volume OS\n",
      "Volume serial number is 6A45-4B07\n",
      "C:.\n",
      "+---cleaned\n",
      "�   +---.ipynb_checkpoints\n",
      "+---source\n"
     ]
    }
   ],
   "source": [
    "#Contenu du repertoire\n",
    "!tree"
   ]
  },
  {
   "cell_type": "markdown",
   "id": "bdd09136",
   "metadata": {},
   "source": [
    "### <font color = grey>1.3 Chargement des données</font>"
   ]
  },
  {
   "cell_type": "code",
   "execution_count": 3,
   "id": "3d1e5e42",
   "metadata": {},
   "outputs": [
    {
     "data": {
      "text/plain": [
       "['QueryResults.csv']"
      ]
     },
     "execution_count": 3,
     "metadata": {},
     "output_type": "execute_result"
    }
   ],
   "source": [
    "#Chemin de notre fichier source\n",
    "data = \"./source/\"\n",
    "os.listdir(data)"
   ]
  },
  {
   "cell_type": "code",
   "execution_count": 4,
   "id": "b4d1ee90",
   "metadata": {},
   "outputs": [
    {
     "data": {
      "text/html": [
       "<div>\n",
       "<style scoped>\n",
       "    .dataframe tbody tr th:only-of-type {\n",
       "        vertical-align: middle;\n",
       "    }\n",
       "\n",
       "    .dataframe tbody tr th {\n",
       "        vertical-align: top;\n",
       "    }\n",
       "\n",
       "    .dataframe thead th {\n",
       "        text-align: right;\n",
       "    }\n",
       "</style>\n",
       "<table border=\"1\" class=\"dataframe\">\n",
       "  <thead>\n",
       "    <tr style=\"text-align: right;\">\n",
       "      <th></th>\n",
       "      <th>Title</th>\n",
       "      <th>Body</th>\n",
       "      <th>Tags</th>\n",
       "      <th>Id</th>\n",
       "      <th>Score</th>\n",
       "      <th>ViewCount</th>\n",
       "      <th>FavoriteCount</th>\n",
       "      <th>AnswerCount</th>\n",
       "    </tr>\n",
       "  </thead>\n",
       "  <tbody>\n",
       "    <tr>\n",
       "      <th>0</th>\n",
       "      <td>Differences between declare, typeset and local...</td>\n",
       "      <td>&lt;p&gt;When typing variables in Bash, what is the ...</td>\n",
       "      <td>&lt;bash&gt;&lt;shell&gt;&lt;variables&gt;&lt;scope&gt;&lt;declare&gt;</td>\n",
       "      <td>4419704</td>\n",
       "      <td>57</td>\n",
       "      <td>25057</td>\n",
       "      <td>11</td>\n",
       "      <td>3</td>\n",
       "    </tr>\n",
       "    <tr>\n",
       "      <th>1</th>\n",
       "      <td>Dealing with PHP server and MySQL server in di...</td>\n",
       "      <td>&lt;p&gt;For those of us who use standard shared hos...</td>\n",
       "      <td>&lt;php&gt;&lt;mysql&gt;&lt;datetime&gt;&lt;date&gt;&lt;timezone&gt;</td>\n",
       "      <td>18449</td>\n",
       "      <td>12</td>\n",
       "      <td>7651</td>\n",
       "      <td>11</td>\n",
       "      <td>5</td>\n",
       "    </tr>\n",
       "    <tr>\n",
       "      <th>2</th>\n",
       "      <td>Difference between async/await and ES6 yield w...</td>\n",
       "      <td>&lt;p&gt;I was just reading this fantastic article «...</td>\n",
       "      <td>&lt;javascript&gt;&lt;node.js&gt;&lt;ecmascript-6&gt;&lt;generator&gt;...</td>\n",
       "      <td>36196608</td>\n",
       "      <td>97</td>\n",
       "      <td>56536</td>\n",
       "      <td>31</td>\n",
       "      <td>8</td>\n",
       "    </tr>\n",
       "    <tr>\n",
       "      <th>3</th>\n",
       "      <td>Loading System.ServiceModel configuration sect...</td>\n",
       "      <td>&lt;p&gt;Using C# .NET 3.5 and WCF, I'm trying to wr...</td>\n",
       "      <td>&lt;c#&gt;&lt;.net&gt;&lt;xml&gt;&lt;wcf&gt;&lt;configurationmanager&gt;</td>\n",
       "      <td>19589</td>\n",
       "      <td>64</td>\n",
       "      <td>59775</td>\n",
       "      <td>16</td>\n",
       "      <td>5</td>\n",
       "    </tr>\n",
       "    <tr>\n",
       "      <th>4</th>\n",
       "      <td>XML Serialization and Inherited Types</td>\n",
       "      <td>&lt;p&gt;Following on from my &lt;a href=\"https://stack...</td>\n",
       "      <td>&lt;c#&gt;&lt;xml&gt;&lt;inheritance&gt;&lt;serialization&gt;&lt;xml-seri...</td>\n",
       "      <td>20084</td>\n",
       "      <td>86</td>\n",
       "      <td>56971</td>\n",
       "      <td>42</td>\n",
       "      <td>7</td>\n",
       "    </tr>\n",
       "  </tbody>\n",
       "</table>\n",
       "</div>"
      ],
      "text/plain": [
       "                                               Title  \\\n",
       "0  Differences between declare, typeset and local...   \n",
       "1  Dealing with PHP server and MySQL server in di...   \n",
       "2  Difference between async/await and ES6 yield w...   \n",
       "3  Loading System.ServiceModel configuration sect...   \n",
       "4              XML Serialization and Inherited Types   \n",
       "\n",
       "                                                Body  \\\n",
       "0  <p>When typing variables in Bash, what is the ...   \n",
       "1  <p>For those of us who use standard shared hos...   \n",
       "2  <p>I was just reading this fantastic article «...   \n",
       "3  <p>Using C# .NET 3.5 and WCF, I'm trying to wr...   \n",
       "4  <p>Following on from my <a href=\"https://stack...   \n",
       "\n",
       "                                                Tags        Id  Score  \\\n",
       "0           <bash><shell><variables><scope><declare>   4419704     57   \n",
       "1             <php><mysql><datetime><date><timezone>     18449     12   \n",
       "2  <javascript><node.js><ecmascript-6><generator>...  36196608     97   \n",
       "3         <c#><.net><xml><wcf><configurationmanager>     19589     64   \n",
       "4  <c#><xml><inheritance><serialization><xml-seri...     20084     86   \n",
       "\n",
       "   ViewCount  FavoriteCount  AnswerCount  \n",
       "0      25057             11            3  \n",
       "1       7651             11            5  \n",
       "2      56536             31            8  \n",
       "3      59775             16            5  \n",
       "4      56971             42            7  "
      ]
     },
     "execution_count": 4,
     "metadata": {},
     "output_type": "execute_result"
    }
   ],
   "source": [
    "#Chargement du Dataframe\n",
    "fn = data + 'QueryResults.csv'\n",
    "df = pd.read_csv(fn)\n",
    "df.head()"
   ]
  },
  {
   "cell_type": "markdown",
   "id": "b3260b85",
   "metadata": {},
   "source": [
    "### <font color = grey>1.4 Filtre / échantillonage</font>"
   ]
  },
  {
   "cell_type": "markdown",
   "id": "2aebe475",
   "metadata": {},
   "source": [
    "Suite a des contrainte machine et de pertinence des thread, nous ne conservons que les thread ayant plus de 5 de score.\n",
    "</br>Il s'agit d'un choix arbitraire donc contestable."
   ]
  },
  {
   "cell_type": "code",
   "execution_count": 5,
   "id": "1f19bdf8",
   "metadata": {},
   "outputs": [],
   "source": [
    "df = df[df['Score']>5]"
   ]
  },
  {
   "cell_type": "markdown",
   "id": "7bad1e9f",
   "metadata": {},
   "source": [
    "-----"
   ]
  },
  {
   "cell_type": "markdown",
   "id": "d6100477",
   "metadata": {},
   "source": [
    "## <font color = purple>2. Premier apperçu des données</font>"
   ]
  },
  {
   "cell_type": "markdown",
   "id": "be14ef97",
   "metadata": {},
   "source": [
    "### <font color = grey>2.1 Affichage du dataframe</font>"
   ]
  },
  {
   "cell_type": "code",
   "execution_count": 6,
   "id": "bf453b3c",
   "metadata": {},
   "outputs": [
    {
     "data": {
      "text/html": [
       "<div>\n",
       "<style scoped>\n",
       "    .dataframe tbody tr th:only-of-type {\n",
       "        vertical-align: middle;\n",
       "    }\n",
       "\n",
       "    .dataframe tbody tr th {\n",
       "        vertical-align: top;\n",
       "    }\n",
       "\n",
       "    .dataframe thead th {\n",
       "        text-align: right;\n",
       "    }\n",
       "</style>\n",
       "<table border=\"1\" class=\"dataframe\">\n",
       "  <thead>\n",
       "    <tr style=\"text-align: right;\">\n",
       "      <th></th>\n",
       "      <th>Title</th>\n",
       "      <th>Body</th>\n",
       "      <th>Tags</th>\n",
       "      <th>Id</th>\n",
       "      <th>Score</th>\n",
       "      <th>ViewCount</th>\n",
       "      <th>FavoriteCount</th>\n",
       "      <th>AnswerCount</th>\n",
       "    </tr>\n",
       "  </thead>\n",
       "  <tbody>\n",
       "    <tr>\n",
       "      <th>0</th>\n",
       "      <td>Differences between declare, typeset and local...</td>\n",
       "      <td>&lt;p&gt;When typing variables in Bash, what is the ...</td>\n",
       "      <td>&lt;bash&gt;&lt;shell&gt;&lt;variables&gt;&lt;scope&gt;&lt;declare&gt;</td>\n",
       "      <td>4419704</td>\n",
       "      <td>57</td>\n",
       "      <td>25057</td>\n",
       "      <td>11</td>\n",
       "      <td>3</td>\n",
       "    </tr>\n",
       "    <tr>\n",
       "      <th>1</th>\n",
       "      <td>Dealing with PHP server and MySQL server in di...</td>\n",
       "      <td>&lt;p&gt;For those of us who use standard shared hos...</td>\n",
       "      <td>&lt;php&gt;&lt;mysql&gt;&lt;datetime&gt;&lt;date&gt;&lt;timezone&gt;</td>\n",
       "      <td>18449</td>\n",
       "      <td>12</td>\n",
       "      <td>7651</td>\n",
       "      <td>11</td>\n",
       "      <td>5</td>\n",
       "    </tr>\n",
       "    <tr>\n",
       "      <th>2</th>\n",
       "      <td>Difference between async/await and ES6 yield w...</td>\n",
       "      <td>&lt;p&gt;I was just reading this fantastic article «...</td>\n",
       "      <td>&lt;javascript&gt;&lt;node.js&gt;&lt;ecmascript-6&gt;&lt;generator&gt;...</td>\n",
       "      <td>36196608</td>\n",
       "      <td>97</td>\n",
       "      <td>56536</td>\n",
       "      <td>31</td>\n",
       "      <td>8</td>\n",
       "    </tr>\n",
       "    <tr>\n",
       "      <th>3</th>\n",
       "      <td>Loading System.ServiceModel configuration sect...</td>\n",
       "      <td>&lt;p&gt;Using C# .NET 3.5 and WCF, I'm trying to wr...</td>\n",
       "      <td>&lt;c#&gt;&lt;.net&gt;&lt;xml&gt;&lt;wcf&gt;&lt;configurationmanager&gt;</td>\n",
       "      <td>19589</td>\n",
       "      <td>64</td>\n",
       "      <td>59775</td>\n",
       "      <td>16</td>\n",
       "      <td>5</td>\n",
       "    </tr>\n",
       "    <tr>\n",
       "      <th>4</th>\n",
       "      <td>XML Serialization and Inherited Types</td>\n",
       "      <td>&lt;p&gt;Following on from my &lt;a href=\"https://stack...</td>\n",
       "      <td>&lt;c#&gt;&lt;xml&gt;&lt;inheritance&gt;&lt;serialization&gt;&lt;xml-seri...</td>\n",
       "      <td>20084</td>\n",
       "      <td>86</td>\n",
       "      <td>56971</td>\n",
       "      <td>42</td>\n",
       "      <td>7</td>\n",
       "    </tr>\n",
       "  </tbody>\n",
       "</table>\n",
       "</div>"
      ],
      "text/plain": [
       "                                               Title  \\\n",
       "0  Differences between declare, typeset and local...   \n",
       "1  Dealing with PHP server and MySQL server in di...   \n",
       "2  Difference between async/await and ES6 yield w...   \n",
       "3  Loading System.ServiceModel configuration sect...   \n",
       "4              XML Serialization and Inherited Types   \n",
       "\n",
       "                                                Body  \\\n",
       "0  <p>When typing variables in Bash, what is the ...   \n",
       "1  <p>For those of us who use standard shared hos...   \n",
       "2  <p>I was just reading this fantastic article «...   \n",
       "3  <p>Using C# .NET 3.5 and WCF, I'm trying to wr...   \n",
       "4  <p>Following on from my <a href=\"https://stack...   \n",
       "\n",
       "                                                Tags        Id  Score  \\\n",
       "0           <bash><shell><variables><scope><declare>   4419704     57   \n",
       "1             <php><mysql><datetime><date><timezone>     18449     12   \n",
       "2  <javascript><node.js><ecmascript-6><generator>...  36196608     97   \n",
       "3         <c#><.net><xml><wcf><configurationmanager>     19589     64   \n",
       "4  <c#><xml><inheritance><serialization><xml-seri...     20084     86   \n",
       "\n",
       "   ViewCount  FavoriteCount  AnswerCount  \n",
       "0      25057             11            3  \n",
       "1       7651             11            5  \n",
       "2      56536             31            8  \n",
       "3      59775             16            5  \n",
       "4      56971             42            7  "
      ]
     },
     "execution_count": 6,
     "metadata": {},
     "output_type": "execute_result"
    }
   ],
   "source": [
    "#5 premiers éléments\n",
    "df.head(5)"
   ]
  },
  {
   "cell_type": "code",
   "execution_count": 7,
   "id": "361f8b88",
   "metadata": {},
   "outputs": [
    {
     "data": {
      "text/html": [
       "<div>\n",
       "<style scoped>\n",
       "    .dataframe tbody tr th:only-of-type {\n",
       "        vertical-align: middle;\n",
       "    }\n",
       "\n",
       "    .dataframe tbody tr th {\n",
       "        vertical-align: top;\n",
       "    }\n",
       "\n",
       "    .dataframe thead th {\n",
       "        text-align: right;\n",
       "    }\n",
       "</style>\n",
       "<table border=\"1\" class=\"dataframe\">\n",
       "  <thead>\n",
       "    <tr style=\"text-align: right;\">\n",
       "      <th></th>\n",
       "      <th>Title</th>\n",
       "      <th>Body</th>\n",
       "      <th>Tags</th>\n",
       "      <th>Id</th>\n",
       "      <th>Score</th>\n",
       "      <th>ViewCount</th>\n",
       "      <th>FavoriteCount</th>\n",
       "      <th>AnswerCount</th>\n",
       "    </tr>\n",
       "  </thead>\n",
       "  <tbody>\n",
       "    <tr>\n",
       "      <th>27650</th>\n",
       "      <td>ETL in Java Spring Batch vs Apache Spark Bench...</td>\n",
       "      <td>&lt;p&gt;I have been working with Apache Spark + Sca...</td>\n",
       "      <td>&lt;spring&gt;&lt;spring-boot&gt;&lt;apache-spark&gt;&lt;spring-bat...</td>\n",
       "      <td>53689531</td>\n",
       "      <td>20</td>\n",
       "      <td>11914</td>\n",
       "      <td>12</td>\n",
       "      <td>1</td>\n",
       "    </tr>\n",
       "    <tr>\n",
       "      <th>27651</th>\n",
       "      <td>Errors installing Composer on macOS (JIT compi...</td>\n",
       "      <td>&lt;p&gt;When I run &lt;code&gt;composer --version&lt;/code&gt; ...</td>\n",
       "      <td>&lt;php&gt;&lt;macos&gt;&lt;composer-php&gt;&lt;jit&gt;&lt;php-7.3&gt;</td>\n",
       "      <td>53690624</td>\n",
       "      <td>63</td>\n",
       "      <td>34213</td>\n",
       "      <td>18</td>\n",
       "      <td>8</td>\n",
       "    </tr>\n",
       "    <tr>\n",
       "      <th>27652</th>\n",
       "      <td>Performant cartesian product (CROSS JOIN) with...</td>\n",
       "      <td>&lt;blockquote&gt;\\n  &lt;p&gt;The contents of this post w...</td>\n",
       "      <td>&lt;python&gt;&lt;pandas&gt;&lt;numpy&gt;&lt;dataframe&gt;&lt;merge&gt;</td>\n",
       "      <td>53699012</td>\n",
       "      <td>68</td>\n",
       "      <td>23298</td>\n",
       "      <td>24</td>\n",
       "      <td>5</td>\n",
       "    </tr>\n",
       "    <tr>\n",
       "      <th>27653</th>\n",
       "      <td>What is the spring-boot-configuration-processo...</td>\n",
       "      <td>&lt;h1&gt;Introduction&lt;/h1&gt;\\n\\n&lt;p&gt;So I noticed the f...</td>\n",
       "      <td>&lt;java&gt;&lt;spring&gt;&lt;maven&gt;&lt;spring-boot&gt;&lt;gradle&gt;</td>\n",
       "      <td>53707080</td>\n",
       "      <td>59</td>\n",
       "      <td>53974</td>\n",
       "      <td>12</td>\n",
       "      <td>2</td>\n",
       "    </tr>\n",
       "    <tr>\n",
       "      <th>27654</th>\n",
       "      <td>Cannot add task 'wrapper' as a task with that ...</td>\n",
       "      <td>&lt;p&gt;When installing &lt;strong&gt;'react-native init ...</td>\n",
       "      <td>&lt;android&gt;&lt;reactjs&gt;&lt;react-native&gt;&lt;wrapper&gt;&lt;expo&gt;</td>\n",
       "      <td>53709282</td>\n",
       "      <td>141</td>\n",
       "      <td>97914</td>\n",
       "      <td>19</td>\n",
       "      <td>7</td>\n",
       "    </tr>\n",
       "  </tbody>\n",
       "</table>\n",
       "</div>"
      ],
      "text/plain": [
       "                                                   Title  \\\n",
       "27650  ETL in Java Spring Batch vs Apache Spark Bench...   \n",
       "27651  Errors installing Composer on macOS (JIT compi...   \n",
       "27652  Performant cartesian product (CROSS JOIN) with...   \n",
       "27653  What is the spring-boot-configuration-processo...   \n",
       "27654  Cannot add task 'wrapper' as a task with that ...   \n",
       "\n",
       "                                                    Body  \\\n",
       "27650  <p>I have been working with Apache Spark + Sca...   \n",
       "27651  <p>When I run <code>composer --version</code> ...   \n",
       "27652  <blockquote>\\n  <p>The contents of this post w...   \n",
       "27653  <h1>Introduction</h1>\\n\\n<p>So I noticed the f...   \n",
       "27654  <p>When installing <strong>'react-native init ...   \n",
       "\n",
       "                                                    Tags        Id  Score  \\\n",
       "27650  <spring><spring-boot><apache-spark><spring-bat...  53689531     20   \n",
       "27651           <php><macos><composer-php><jit><php-7.3>  53690624     63   \n",
       "27652          <python><pandas><numpy><dataframe><merge>  53699012     68   \n",
       "27653         <java><spring><maven><spring-boot><gradle>  53707080     59   \n",
       "27654    <android><reactjs><react-native><wrapper><expo>  53709282    141   \n",
       "\n",
       "       ViewCount  FavoriteCount  AnswerCount  \n",
       "27650      11914             12            1  \n",
       "27651      34213             18            8  \n",
       "27652      23298             24            5  \n",
       "27653      53974             12            2  \n",
       "27654      97914             19            7  "
      ]
     },
     "execution_count": 7,
     "metadata": {},
     "output_type": "execute_result"
    }
   ],
   "source": [
    "#5 derniers éléments\n",
    "df.tail(5)"
   ]
  },
  {
   "cell_type": "code",
   "execution_count": 8,
   "id": "c04316ca",
   "metadata": {},
   "outputs": [
    {
     "data": {
      "text/html": [
       "<div>\n",
       "<style scoped>\n",
       "    .dataframe tbody tr th:only-of-type {\n",
       "        vertical-align: middle;\n",
       "    }\n",
       "\n",
       "    .dataframe tbody tr th {\n",
       "        vertical-align: top;\n",
       "    }\n",
       "\n",
       "    .dataframe thead th {\n",
       "        text-align: right;\n",
       "    }\n",
       "</style>\n",
       "<table border=\"1\" class=\"dataframe\">\n",
       "  <thead>\n",
       "    <tr style=\"text-align: right;\">\n",
       "      <th></th>\n",
       "      <th>Title</th>\n",
       "      <th>Body</th>\n",
       "      <th>Tags</th>\n",
       "      <th>Id</th>\n",
       "      <th>Score</th>\n",
       "      <th>ViewCount</th>\n",
       "      <th>FavoriteCount</th>\n",
       "      <th>AnswerCount</th>\n",
       "    </tr>\n",
       "  </thead>\n",
       "  <tbody>\n",
       "    <tr>\n",
       "      <th>12656</th>\n",
       "      <td>Remove whitespace and line breaks between HTML...</td>\n",
       "      <td>&lt;p&gt;Using jQuery, I'd like to remove the whites...</td>\n",
       "      <td>&lt;javascript&gt;&lt;jquery&gt;&lt;regex&gt;&lt;string&gt;&lt;replace&gt;</td>\n",
       "      <td>1539367</td>\n",
       "      <td>40</td>\n",
       "      <td>58859</td>\n",
       "      <td>22</td>\n",
       "      <td>8</td>\n",
       "    </tr>\n",
       "    <tr>\n",
       "      <th>25416</th>\n",
       "      <td>Android Data Binding using include tag</td>\n",
       "      <td>&lt;h2&gt;Update note:&lt;/h2&gt;\\n\\n&lt;p&gt;The above example ...</td>\n",
       "      <td>&lt;java&gt;&lt;android&gt;&lt;data-binding&gt;&lt;android-button&gt;&lt;...</td>\n",
       "      <td>32947440</td>\n",
       "      <td>168</td>\n",
       "      <td>97269</td>\n",
       "      <td>31</td>\n",
       "      <td>8</td>\n",
       "    </tr>\n",
       "    <tr>\n",
       "      <th>13252</th>\n",
       "      <td>memset() or value initialization to zero out a...</td>\n",
       "      <td>&lt;p&gt;In Win32 API programming it's typical to us...</td>\n",
       "      <td>&lt;c++&gt;&lt;c&gt;&lt;visual-c++&gt;&lt;struct&gt;&lt;initialization&gt;</td>\n",
       "      <td>1998752</td>\n",
       "      <td>91</td>\n",
       "      <td>111865</td>\n",
       "      <td>41</td>\n",
       "      <td>8</td>\n",
       "    </tr>\n",
       "    <tr>\n",
       "      <th>7691</th>\n",
       "      <td>Is there a grep equivalent for find's -print0 ...</td>\n",
       "      <td>&lt;p&gt;I often want to write commands like this (i...</td>\n",
       "      <td>&lt;bash&gt;&lt;unix&gt;&lt;grep&gt;&lt;find&gt;&lt;xargs&gt;</td>\n",
       "      <td>15976570</td>\n",
       "      <td>55</td>\n",
       "      <td>20718</td>\n",
       "      <td>14</td>\n",
       "      <td>6</td>\n",
       "    </tr>\n",
       "    <tr>\n",
       "      <th>22757</th>\n",
       "      <td>Most efficient method to groupby on an array o...</td>\n",
       "      <td>&lt;p&gt;What is the most efficient way to groupby o...</td>\n",
       "      <td>&lt;javascript&gt;&lt;arrays&gt;&lt;object&gt;&lt;group-by&gt;&lt;undersc...</td>\n",
       "      <td>14446511</td>\n",
       "      <td>809</td>\n",
       "      <td>978380</td>\n",
       "      <td>255</td>\n",
       "      <td>56</td>\n",
       "    </tr>\n",
       "  </tbody>\n",
       "</table>\n",
       "</div>"
      ],
      "text/plain": [
       "                                                   Title  \\\n",
       "12656  Remove whitespace and line breaks between HTML...   \n",
       "25416             Android Data Binding using include tag   \n",
       "13252  memset() or value initialization to zero out a...   \n",
       "7691   Is there a grep equivalent for find's -print0 ...   \n",
       "22757  Most efficient method to groupby on an array o...   \n",
       "\n",
       "                                                    Body  \\\n",
       "12656  <p>Using jQuery, I'd like to remove the whites...   \n",
       "25416  <h2>Update note:</h2>\\n\\n<p>The above example ...   \n",
       "13252  <p>In Win32 API programming it's typical to us...   \n",
       "7691   <p>I often want to write commands like this (i...   \n",
       "22757  <p>What is the most efficient way to groupby o...   \n",
       "\n",
       "                                                    Tags        Id  Score  \\\n",
       "12656       <javascript><jquery><regex><string><replace>   1539367     40   \n",
       "25416  <java><android><data-binding><android-button><...  32947440    168   \n",
       "13252       <c++><c><visual-c++><struct><initialization>   1998752     91   \n",
       "7691                     <bash><unix><grep><find><xargs>  15976570     55   \n",
       "22757  <javascript><arrays><object><group-by><undersc...  14446511    809   \n",
       "\n",
       "       ViewCount  FavoriteCount  AnswerCount  \n",
       "12656      58859             22            8  \n",
       "25416      97269             31            8  \n",
       "13252     111865             41            8  \n",
       "7691       20718             14            6  \n",
       "22757     978380            255           56  "
      ]
     },
     "execution_count": 8,
     "metadata": {},
     "output_type": "execute_result"
    }
   ],
   "source": [
    "#5 individus au hasard (sample)\n",
    "df.sample(5)"
   ]
  },
  {
   "cell_type": "markdown",
   "id": "d51c1b9d",
   "metadata": {},
   "source": [
    "Suite à cette première analyse,\n",
    "</br>nous remarquons des choses intéréssantes :\n",
    "- la présence de balises html dans le body\n",
    "- la présence de mots particulier, C# par exemple ou encore .NET\n",
    "- la présence des caractères <> pour séparer les tags"
   ]
  },
  {
   "cell_type": "markdown",
   "id": "294a125f",
   "metadata": {},
   "source": [
    "### <font color = grey>2.2. Structure</font>"
   ]
  },
  {
   "cell_type": "code",
   "execution_count": 9,
   "id": "265a80ee",
   "metadata": {},
   "outputs": [
    {
     "data": {
      "text/plain": [
       "(27655, 8)"
      ]
     },
     "execution_count": 9,
     "metadata": {},
     "output_type": "execute_result"
    }
   ],
   "source": [
    "#Taille du dataframe\n",
    "df.shape"
   ]
  },
  {
   "cell_type": "code",
   "execution_count": 10,
   "id": "da912d72",
   "metadata": {},
   "outputs": [
    {
     "data": {
      "text/plain": [
       "Title            object\n",
       "Body             object\n",
       "Tags             object\n",
       "Id                int64\n",
       "Score             int64\n",
       "ViewCount         int64\n",
       "FavoriteCount     int64\n",
       "AnswerCount       int64\n",
       "dtype: object"
      ]
     },
     "execution_count": 10,
     "metadata": {},
     "output_type": "execute_result"
    }
   ],
   "source": [
    "#Type de données\n",
    "df.dtypes"
   ]
  },
  {
   "cell_type": "code",
   "execution_count": 11,
   "id": "732e3be3",
   "metadata": {},
   "outputs": [
    {
     "name": "stdout",
     "output_type": "stream",
     "text": [
      "<class 'pandas.core.frame.DataFrame'>\n",
      "Int64Index: 27655 entries, 0 to 27654\n",
      "Data columns (total 8 columns):\n",
      " #   Column         Non-Null Count  Dtype \n",
      "---  ------         --------------  ----- \n",
      " 0   Title          27655 non-null  object\n",
      " 1   Body           27655 non-null  object\n",
      " 2   Tags           27655 non-null  object\n",
      " 3   Id             27655 non-null  int64 \n",
      " 4   Score          27655 non-null  int64 \n",
      " 5   ViewCount      27655 non-null  int64 \n",
      " 6   FavoriteCount  27655 non-null  int64 \n",
      " 7   AnswerCount    27655 non-null  int64 \n",
      "dtypes: int64(5), object(3)\n",
      "memory usage: 1.9+ MB\n"
     ]
    }
   ],
   "source": [
    "#Information du Dataframe\n",
    "df.info()"
   ]
  },
  {
   "cell_type": "code",
   "execution_count": 12,
   "id": "d07101e9",
   "metadata": {},
   "outputs": [
    {
     "data": {
      "text/plain": [
       "int64     5\n",
       "object    3\n",
       "dtype: int64"
      ]
     },
     "execution_count": 12,
     "metadata": {},
     "output_type": "execute_result"
    }
   ],
   "source": [
    "#Nombre de colonne par type (Utile pour beaucoup de colonne)\n",
    "df.dtypes.value_counts()"
   ]
  },
  {
   "cell_type": "code",
   "execution_count": 13,
   "id": "f1ceb5ef",
   "metadata": {},
   "outputs": [
    {
     "data": {
      "text/plain": [
       "Title            27655\n",
       "Body             27655\n",
       "Tags             27183\n",
       "Id               27655\n",
       "Score             1080\n",
       "ViewCount        25245\n",
       "FavoriteCount      589\n",
       "AnswerCount         77\n",
       "dtype: int64"
      ]
     },
     "execution_count": 13,
     "metadata": {},
     "output_type": "execute_result"
    }
   ],
   "source": [
    "#nb de valeurs unique par colonne\n",
    "df.nunique()"
   ]
  },
  {
   "cell_type": "markdown",
   "id": "b13e2938",
   "metadata": {},
   "source": [
    "Nous avons 27655 individus, nous remarquons donc que :\n",
    "- Tous les titres sont différents\n",
    "- Tous les Body sont différents\n",
    "- Un ID est attribué à chaque individu (clef primaire en SQL)"
   ]
  },
  {
   "cell_type": "markdown",
   "id": "b4667968",
   "metadata": {},
   "source": [
    "### <font color = grey>2.3 NaN et valeurs dupliquées</font>"
   ]
  },
  {
   "cell_type": "code",
   "execution_count": 14,
   "id": "f6113a36",
   "metadata": {},
   "outputs": [
    {
     "data": {
      "text/plain": [
       "Title            0\n",
       "Body             0\n",
       "Tags             0\n",
       "Id               0\n",
       "Score            0\n",
       "ViewCount        0\n",
       "FavoriteCount    0\n",
       "AnswerCount      0\n",
       "dtype: int64"
      ]
     },
     "execution_count": 14,
     "metadata": {},
     "output_type": "execute_result"
    }
   ],
   "source": [
    "#Nb de Nan par colonne\n",
    "df.isna().sum().sort_values() "
   ]
  },
  {
   "cell_type": "code",
   "execution_count": 15,
   "id": "32c5d46e",
   "metadata": {},
   "outputs": [
    {
     "data": {
      "text/plain": [
       "Title            0.0\n",
       "Body             0.0\n",
       "Tags             0.0\n",
       "Id               0.0\n",
       "Score            0.0\n",
       "ViewCount        0.0\n",
       "FavoriteCount    0.0\n",
       "AnswerCount      0.0\n",
       "dtype: float64"
      ]
     },
     "execution_count": 15,
     "metadata": {},
     "output_type": "execute_result"
    }
   ],
   "source": [
    "#Ratio Nan par colonne\n",
    "df.isna().mean().sort_values()"
   ]
  },
  {
   "cell_type": "code",
   "execution_count": 16,
   "id": "8e6e2936",
   "metadata": {},
   "outputs": [
    {
     "data": {
      "text/plain": [
       "0"
      ]
     },
     "execution_count": 16,
     "metadata": {},
     "output_type": "execute_result"
    }
   ],
   "source": [
    "#Nombre d'individus dupliquée (i.e. toute les colonnes sont égales)\n",
    "df.duplicated().sum()"
   ]
  },
  {
   "cell_type": "code",
   "execution_count": 17,
   "id": "d22b5792",
   "metadata": {},
   "outputs": [
    {
     "name": "stdout",
     "output_type": "stream",
     "text": [
      "col : Title -> duplicated : 0\n",
      "col : Body -> duplicated : 0\n",
      "col : Tags -> duplicated : 472\n",
      "col : Id -> duplicated : 0\n",
      "col : Score -> duplicated : 26575\n",
      "col : ViewCount -> duplicated : 2410\n",
      "col : FavoriteCount -> duplicated : 27066\n",
      "col : AnswerCount -> duplicated : 27578\n"
     ]
    }
   ],
   "source": [
    "#Nombre d'individus dupliquée par colonne\n",
    "for col in df.columns:\n",
    "    n = df.duplicated(subset = col).sum()\n",
    "    print(f\"col : {col} -> duplicated : {n}\")"
   ]
  },
  {
   "cell_type": "markdown",
   "id": "95806e3a",
   "metadata": {},
   "source": [
    "On remarque qu'il y a <b>472 individus en doublons</b> au niveau des tags.\n",
    "</br>Cela n'est en rien surpprenant. En effet, avoir 2 individus avec les même tags n'est pas incohérent au contraire.\n",
    "</br>Néanmoins, il faudra traiter ces balises pour facilité les traitements futurs"
   ]
  },
  {
   "cell_type": "code",
   "execution_count": 18,
   "id": "364a7087",
   "metadata": {},
   "outputs": [
    {
     "data": {
      "text/html": [
       "<div>\n",
       "<style scoped>\n",
       "    .dataframe tbody tr th:only-of-type {\n",
       "        vertical-align: middle;\n",
       "    }\n",
       "\n",
       "    .dataframe tbody tr th {\n",
       "        vertical-align: top;\n",
       "    }\n",
       "\n",
       "    .dataframe thead th {\n",
       "        text-align: right;\n",
       "    }\n",
       "</style>\n",
       "<table border=\"1\" class=\"dataframe\">\n",
       "  <thead>\n",
       "    <tr style=\"text-align: right;\">\n",
       "      <th></th>\n",
       "      <th>Title</th>\n",
       "      <th>Body</th>\n",
       "      <th>Tags</th>\n",
       "      <th>Id</th>\n",
       "      <th>Score</th>\n",
       "      <th>ViewCount</th>\n",
       "      <th>FavoriteCount</th>\n",
       "      <th>AnswerCount</th>\n",
       "    </tr>\n",
       "  </thead>\n",
       "  <tbody>\n",
       "    <tr>\n",
       "      <th>17511</th>\n",
       "      <td>Add Keypair to existing EC2 instance</td>\n",
       "      <td>&lt;p&gt;I was given &lt;strong&gt;AWS&lt;/strong&gt; Console ac...</td>\n",
       "      <td>&lt;amazon-web-services&gt;&lt;authentication&gt;&lt;ssh&gt;&lt;ama...</td>\n",
       "      <td>3260739</td>\n",
       "      <td>266</td>\n",
       "      <td>245353</td>\n",
       "      <td>96</td>\n",
       "      <td>10</td>\n",
       "    </tr>\n",
       "    <tr>\n",
       "      <th>25456</th>\n",
       "      <td>How can I modify ripple color when using ?attr...</td>\n",
       "      <td>&lt;p&gt;I've seen some SO questions and they gave s...</td>\n",
       "      <td>&lt;android&gt;&lt;android-layout&gt;&lt;android-5.0-lollipop...</td>\n",
       "      <td>33061050</td>\n",
       "      <td>127</td>\n",
       "      <td>74243</td>\n",
       "      <td>50</td>\n",
       "      <td>8</td>\n",
       "    </tr>\n",
       "    <tr>\n",
       "      <th>23241</th>\n",
       "      <td>Disable multi finger touch in my app</td>\n",
       "      <td>&lt;p&gt;My app uses one Activity to host several fr...</td>\n",
       "      <td>&lt;android&gt;&lt;android-layout&gt;&lt;android-intent&gt;&lt;andr...</td>\n",
       "      <td>12777435</td>\n",
       "      <td>22</td>\n",
       "      <td>26614</td>\n",
       "      <td>13</td>\n",
       "      <td>3</td>\n",
       "    </tr>\n",
       "    <tr>\n",
       "      <th>6037</th>\n",
       "      <td>gen already exists but is not a source folder</td>\n",
       "      <td>&lt;p&gt;I am developing my Android project, After I...</td>\n",
       "      <td>&lt;android&gt;&lt;android-layout&gt;&lt;android-intent&gt;&lt;andr...</td>\n",
       "      <td>9532045</td>\n",
       "      <td>92</td>\n",
       "      <td>57225</td>\n",
       "      <td>22</td>\n",
       "      <td>15</td>\n",
       "    </tr>\n",
       "    <tr>\n",
       "      <th>27483</th>\n",
       "      <td>How to add .aar dependency in library module?</td>\n",
       "      <td>&lt;p&gt;I am having one &lt;code&gt;.aar&lt;/code&gt; file of o...</td>\n",
       "      <td>&lt;android&gt;&lt;android-studio&gt;&lt;gradle&gt;&lt;android-grad...</td>\n",
       "      <td>34765190</td>\n",
       "      <td>36</td>\n",
       "      <td>30993</td>\n",
       "      <td>11</td>\n",
       "      <td>5</td>\n",
       "    </tr>\n",
       "    <tr>\n",
       "      <th>...</th>\n",
       "      <td>...</td>\n",
       "      <td>...</td>\n",
       "      <td>...</td>\n",
       "      <td>...</td>\n",
       "      <td>...</td>\n",
       "      <td>...</td>\n",
       "      <td>...</td>\n",
       "      <td>...</td>\n",
       "    </tr>\n",
       "    <tr>\n",
       "      <th>13683</th>\n",
       "      <td>How and/or why is merging in Git better than i...</td>\n",
       "      <td>&lt;p&gt;I've heard in a few places that one of the ...</td>\n",
       "      <td>&lt;svn&gt;&lt;git&gt;&lt;version-control&gt;&lt;mercurial&gt;&lt;merge&gt;</td>\n",
       "      <td>2471606</td>\n",
       "      <td>408</td>\n",
       "      <td>68728</td>\n",
       "      <td>267</td>\n",
       "      <td>7</td>\n",
       "    </tr>\n",
       "    <tr>\n",
       "      <th>26019</th>\n",
       "      <td>Example of delayed expansion in batch file</td>\n",
       "      <td>&lt;p&gt;Can someone give me an example of where a b...</td>\n",
       "      <td>&lt;windows&gt;&lt;batch-file&gt;&lt;cmd&gt;&lt;environment-variabl...</td>\n",
       "      <td>10558316</td>\n",
       "      <td>54</td>\n",
       "      <td>59855</td>\n",
       "      <td>12</td>\n",
       "      <td>5</td>\n",
       "    </tr>\n",
       "    <tr>\n",
       "      <th>27198</th>\n",
       "      <td>Where is the Write-Combining Buffer located? x86</td>\n",
       "      <td>&lt;p&gt;How is the Write-Combine buffer physically ...</td>\n",
       "      <td>&lt;x86&gt;&lt;intel&gt;&lt;cpu-architecture&gt;&lt;cpu-cache&gt;&lt;amd-...</td>\n",
       "      <td>49959963</td>\n",
       "      <td>14</td>\n",
       "      <td>5053</td>\n",
       "      <td>12</td>\n",
       "      <td>3</td>\n",
       "    </tr>\n",
       "    <tr>\n",
       "      <th>19105</th>\n",
       "      <td>xmlns, xmlns:xsi, xsi:schemaLocation, and targ...</td>\n",
       "      <td>&lt;p&gt;For the following XML fragment:&lt;/p&gt;\\n\\n&lt;pre...</td>\n",
       "      <td>&lt;xml&gt;&lt;xsd&gt;&lt;xml-namespaces&gt;&lt;xsd-validation&gt;&lt;xml...</td>\n",
       "      <td>34202967</td>\n",
       "      <td>73</td>\n",
       "      <td>57493</td>\n",
       "      <td>28</td>\n",
       "      <td>2</td>\n",
       "    </tr>\n",
       "    <tr>\n",
       "      <th>7486</th>\n",
       "      <td>What is the difference between xsd and xsi?</td>\n",
       "      <td>&lt;p&gt;What exactly is the difference between &lt;str...</td>\n",
       "      <td>&lt;xml&gt;&lt;xsd&gt;&lt;xml-namespaces&gt;&lt;xsd-validation&gt;&lt;xml...</td>\n",
       "      <td>41035128</td>\n",
       "      <td>35</td>\n",
       "      <td>44401</td>\n",
       "      <td>15</td>\n",
       "      <td>2</td>\n",
       "    </tr>\n",
       "  </tbody>\n",
       "</table>\n",
       "<p>472 rows × 8 columns</p>\n",
       "</div>"
      ],
      "text/plain": [
       "                                                   Title  \\\n",
       "17511               Add Keypair to existing EC2 instance   \n",
       "25456  How can I modify ripple color when using ?attr...   \n",
       "23241               Disable multi finger touch in my app   \n",
       "6037       gen already exists but is not a source folder   \n",
       "27483      How to add .aar dependency in library module?   \n",
       "...                                                  ...   \n",
       "13683  How and/or why is merging in Git better than i...   \n",
       "26019         Example of delayed expansion in batch file   \n",
       "27198   Where is the Write-Combining Buffer located? x86   \n",
       "19105  xmlns, xmlns:xsi, xsi:schemaLocation, and targ...   \n",
       "7486         What is the difference between xsd and xsi?   \n",
       "\n",
       "                                                    Body  \\\n",
       "17511  <p>I was given <strong>AWS</strong> Console ac...   \n",
       "25456  <p>I've seen some SO questions and they gave s...   \n",
       "23241  <p>My app uses one Activity to host several fr...   \n",
       "6037   <p>I am developing my Android project, After I...   \n",
       "27483  <p>I am having one <code>.aar</code> file of o...   \n",
       "...                                                  ...   \n",
       "13683  <p>I've heard in a few places that one of the ...   \n",
       "26019  <p>Can someone give me an example of where a b...   \n",
       "27198  <p>How is the Write-Combine buffer physically ...   \n",
       "19105  <p>For the following XML fragment:</p>\\n\\n<pre...   \n",
       "7486   <p>What exactly is the difference between <str...   \n",
       "\n",
       "                                                    Tags        Id  Score  \\\n",
       "17511  <amazon-web-services><authentication><ssh><ama...   3260739    266   \n",
       "25456  <android><android-layout><android-5.0-lollipop...  33061050    127   \n",
       "23241  <android><android-layout><android-intent><andr...  12777435     22   \n",
       "6037   <android><android-layout><android-intent><andr...   9532045     92   \n",
       "27483  <android><android-studio><gradle><android-grad...  34765190     36   \n",
       "...                                                  ...       ...    ...   \n",
       "13683      <svn><git><version-control><mercurial><merge>   2471606    408   \n",
       "26019  <windows><batch-file><cmd><environment-variabl...  10558316     54   \n",
       "27198  <x86><intel><cpu-architecture><cpu-cache><amd-...  49959963     14   \n",
       "19105  <xml><xsd><xml-namespaces><xsd-validation><xml...  34202967     73   \n",
       "7486   <xml><xsd><xml-namespaces><xsd-validation><xml...  41035128     35   \n",
       "\n",
       "       ViewCount  FavoriteCount  AnswerCount  \n",
       "17511     245353             96           10  \n",
       "25456      74243             50            8  \n",
       "23241      26614             13            3  \n",
       "6037       57225             22           15  \n",
       "27483      30993             11            5  \n",
       "...          ...            ...          ...  \n",
       "13683      68728            267            7  \n",
       "26019      59855             12            5  \n",
       "27198       5053             12            3  \n",
       "19105      57493             28            2  \n",
       "7486       44401             15            2  \n",
       "\n",
       "[472 rows x 8 columns]"
      ]
     },
     "execution_count": 18,
     "metadata": {},
     "output_type": "execute_result"
    }
   ],
   "source": [
    "#Affichage des lignes dupliquées pour \"Tags\"\n",
    "idx = df.duplicated(subset = \"Tags\", keep = \"first\")\n",
    "df.loc[idx, :].sort_values(\"Tags\")"
   ]
  },
  {
   "cell_type": "markdown",
   "id": "25979465",
   "metadata": {},
   "source": [
    "### <font color = grey>2.4 Inspection des données</font>"
   ]
  },
  {
   "cell_type": "code",
   "execution_count": 19,
   "id": "a70189fd",
   "metadata": {},
   "outputs": [
    {
     "data": {
      "text/html": [
       "<div>\n",
       "<style scoped>\n",
       "    .dataframe tbody tr th:only-of-type {\n",
       "        vertical-align: middle;\n",
       "    }\n",
       "\n",
       "    .dataframe tbody tr th {\n",
       "        vertical-align: top;\n",
       "    }\n",
       "\n",
       "    .dataframe thead th {\n",
       "        text-align: right;\n",
       "    }\n",
       "</style>\n",
       "<table border=\"1\" class=\"dataframe\">\n",
       "  <thead>\n",
       "    <tr style=\"text-align: right;\">\n",
       "      <th></th>\n",
       "      <th>Id</th>\n",
       "      <th>Score</th>\n",
       "      <th>ViewCount</th>\n",
       "      <th>FavoriteCount</th>\n",
       "      <th>AnswerCount</th>\n",
       "    </tr>\n",
       "  </thead>\n",
       "  <tbody>\n",
       "    <tr>\n",
       "      <th>count</th>\n",
       "      <td>2.765500e+04</td>\n",
       "      <td>27655.000000</td>\n",
       "      <td>2.765500e+04</td>\n",
       "      <td>27655.000000</td>\n",
       "      <td>27655.000000</td>\n",
       "    </tr>\n",
       "    <tr>\n",
       "      <th>mean</th>\n",
       "      <td>1.672991e+07</td>\n",
       "      <td>113.756102</td>\n",
       "      <td>1.106085e+05</td>\n",
       "      <td>42.779534</td>\n",
       "      <td>7.140409</td>\n",
       "    </tr>\n",
       "    <tr>\n",
       "      <th>std</th>\n",
       "      <td>1.524737e+07</td>\n",
       "      <td>352.306308</td>\n",
       "      <td>2.443554e+05</td>\n",
       "      <td>146.674260</td>\n",
       "      <td>6.784792</td>\n",
       "    </tr>\n",
       "    <tr>\n",
       "      <th>min</th>\n",
       "      <td>4.000000e+00</td>\n",
       "      <td>6.000000</td>\n",
       "      <td>2.710000e+02</td>\n",
       "      <td>11.000000</td>\n",
       "      <td>1.000000</td>\n",
       "    </tr>\n",
       "    <tr>\n",
       "      <th>25%</th>\n",
       "      <td>4.181782e+06</td>\n",
       "      <td>29.000000</td>\n",
       "      <td>2.157400e+04</td>\n",
       "      <td>14.000000</td>\n",
       "      <td>3.000000</td>\n",
       "    </tr>\n",
       "    <tr>\n",
       "      <th>50%</th>\n",
       "      <td>1.200500e+07</td>\n",
       "      <td>51.000000</td>\n",
       "      <td>4.842300e+04</td>\n",
       "      <td>19.000000</td>\n",
       "      <td>5.000000</td>\n",
       "    </tr>\n",
       "    <tr>\n",
       "      <th>75%</th>\n",
       "      <td>2.590548e+07</td>\n",
       "      <td>99.000000</td>\n",
       "      <td>1.108880e+05</td>\n",
       "      <td>35.000000</td>\n",
       "      <td>9.000000</td>\n",
       "    </tr>\n",
       "    <tr>\n",
       "      <th>max</th>\n",
       "      <td>7.256872e+07</td>\n",
       "      <td>26510.000000</td>\n",
       "      <td>1.008203e+07</td>\n",
       "      <td>11616.000000</td>\n",
       "      <td>127.000000</td>\n",
       "    </tr>\n",
       "  </tbody>\n",
       "</table>\n",
       "</div>"
      ],
      "text/plain": [
       "                 Id         Score     ViewCount  FavoriteCount   AnswerCount\n",
       "count  2.765500e+04  27655.000000  2.765500e+04   27655.000000  27655.000000\n",
       "mean   1.672991e+07    113.756102  1.106085e+05      42.779534      7.140409\n",
       "std    1.524737e+07    352.306308  2.443554e+05     146.674260      6.784792\n",
       "min    4.000000e+00      6.000000  2.710000e+02      11.000000      1.000000\n",
       "25%    4.181782e+06     29.000000  2.157400e+04      14.000000      3.000000\n",
       "50%    1.200500e+07     51.000000  4.842300e+04      19.000000      5.000000\n",
       "75%    2.590548e+07     99.000000  1.108880e+05      35.000000      9.000000\n",
       "max    7.256872e+07  26510.000000  1.008203e+07   11616.000000    127.000000"
      ]
     },
     "execution_count": 19,
     "metadata": {},
     "output_type": "execute_result"
    }
   ],
   "source": [
    "# description des colonnes numériques\n",
    "df.describe(include = np.number)"
   ]
  },
  {
   "cell_type": "markdown",
   "id": "d0986260",
   "metadata": {},
   "source": [
    "Ces colonnes ne nous interessent pas."
   ]
  },
  {
   "cell_type": "code",
   "execution_count": 20,
   "id": "0b4eef9f",
   "metadata": {},
   "outputs": [
    {
     "data": {
      "text/html": [
       "<div>\n",
       "<style scoped>\n",
       "    .dataframe tbody tr th:only-of-type {\n",
       "        vertical-align: middle;\n",
       "    }\n",
       "\n",
       "    .dataframe tbody tr th {\n",
       "        vertical-align: top;\n",
       "    }\n",
       "\n",
       "    .dataframe thead th {\n",
       "        text-align: right;\n",
       "    }\n",
       "</style>\n",
       "<table border=\"1\" class=\"dataframe\">\n",
       "  <thead>\n",
       "    <tr style=\"text-align: right;\">\n",
       "      <th></th>\n",
       "      <th>Title</th>\n",
       "      <th>Body</th>\n",
       "      <th>Tags</th>\n",
       "    </tr>\n",
       "  </thead>\n",
       "  <tbody>\n",
       "    <tr>\n",
       "      <th>count</th>\n",
       "      <td>27655</td>\n",
       "      <td>27655</td>\n",
       "      <td>27655</td>\n",
       "    </tr>\n",
       "    <tr>\n",
       "      <th>unique</th>\n",
       "      <td>27655</td>\n",
       "      <td>27655</td>\n",
       "      <td>27183</td>\n",
       "    </tr>\n",
       "    <tr>\n",
       "      <th>top</th>\n",
       "      <td>Differences between declare, typeset and local...</td>\n",
       "      <td>&lt;p&gt;When typing variables in Bash, what is the ...</td>\n",
       "      <td>&lt;java&gt;&lt;spring&gt;&lt;jpa&gt;&lt;spring-data&gt;&lt;spring-data-jpa&gt;</td>\n",
       "    </tr>\n",
       "    <tr>\n",
       "      <th>freq</th>\n",
       "      <td>1</td>\n",
       "      <td>1</td>\n",
       "      <td>19</td>\n",
       "    </tr>\n",
       "  </tbody>\n",
       "</table>\n",
       "</div>"
      ],
      "text/plain": [
       "                                                    Title  \\\n",
       "count                                               27655   \n",
       "unique                                              27655   \n",
       "top     Differences between declare, typeset and local...   \n",
       "freq                                                    1   \n",
       "\n",
       "                                                     Body  \\\n",
       "count                                               27655   \n",
       "unique                                              27655   \n",
       "top     <p>When typing variables in Bash, what is the ...   \n",
       "freq                                                    1   \n",
       "\n",
       "                                                     Tags  \n",
       "count                                               27655  \n",
       "unique                                              27183  \n",
       "top     <java><spring><jpa><spring-data><spring-data-jpa>  \n",
       "freq                                                   19  "
      ]
     },
     "execution_count": 20,
     "metadata": {},
     "output_type": "execute_result"
    }
   ],
   "source": [
    "#description des colonnes texte\n",
    "df.describe(include = object)"
   ]
  },
  {
   "cell_type": "markdown",
   "id": "058b0f9d",
   "metadata": {},
   "source": [
    "Liste des colonnes <font color = green>conservées</font> pour la suite de notre projet :\n",
    "- <b>Title</b> : Il s'agit de la question / du titre du topic\n",
    "- <b>Body</b> : Il s'agit du contenu du topic, dans un premier temps nous ne l'utiliserons pas.\n",
    "- <b>Tags</b> : Il s'agit de la valeur cible (Y)"
   ]
  },
  {
   "cell_type": "markdown",
   "id": "23e244a6",
   "metadata": {},
   "source": [
    "Liste des colonnes <font color = red>non conservées</font> pour la suite de notre projet :\n",
    "- <b>Id</b> : nous conservons les index \n",
    "- <b>Score</b> / <b>ViewCount</b> / <b>FavoriteCount</b> / <b>AnswerCount</b> : Ces colonnes ne nous sont d'aucune utilité dans la suggestion de Tags"
   ]
  },
  {
   "cell_type": "markdown",
   "id": "57c7f001",
   "metadata": {},
   "source": [
    "-----"
   ]
  },
  {
   "cell_type": "markdown",
   "id": "11c4b174",
   "metadata": {},
   "source": [
    "## <font color = Purple>3. Cleaning des Données</font>"
   ]
  },
  {
   "cell_type": "markdown",
   "id": "41613437",
   "metadata": {},
   "source": [
    "### <font color = grey>3.1 Selection des colonnes</font>"
   ]
  },
  {
   "cell_type": "code",
   "execution_count": 21,
   "id": "def5605b",
   "metadata": {},
   "outputs": [
    {
     "data": {
      "text/html": [
       "<div>\n",
       "<style scoped>\n",
       "    .dataframe tbody tr th:only-of-type {\n",
       "        vertical-align: middle;\n",
       "    }\n",
       "\n",
       "    .dataframe tbody tr th {\n",
       "        vertical-align: top;\n",
       "    }\n",
       "\n",
       "    .dataframe thead th {\n",
       "        text-align: right;\n",
       "    }\n",
       "</style>\n",
       "<table border=\"1\" class=\"dataframe\">\n",
       "  <thead>\n",
       "    <tr style=\"text-align: right;\">\n",
       "      <th></th>\n",
       "      <th>Title</th>\n",
       "      <th>Body</th>\n",
       "      <th>Tags</th>\n",
       "    </tr>\n",
       "  </thead>\n",
       "  <tbody>\n",
       "    <tr>\n",
       "      <th>0</th>\n",
       "      <td>Differences between declare, typeset and local...</td>\n",
       "      <td>&lt;p&gt;When typing variables in Bash, what is the ...</td>\n",
       "      <td>&lt;bash&gt;&lt;shell&gt;&lt;variables&gt;&lt;scope&gt;&lt;declare&gt;</td>\n",
       "    </tr>\n",
       "    <tr>\n",
       "      <th>1</th>\n",
       "      <td>Dealing with PHP server and MySQL server in di...</td>\n",
       "      <td>&lt;p&gt;For those of us who use standard shared hos...</td>\n",
       "      <td>&lt;php&gt;&lt;mysql&gt;&lt;datetime&gt;&lt;date&gt;&lt;timezone&gt;</td>\n",
       "    </tr>\n",
       "    <tr>\n",
       "      <th>2</th>\n",
       "      <td>Difference between async/await and ES6 yield w...</td>\n",
       "      <td>&lt;p&gt;I was just reading this fantastic article «...</td>\n",
       "      <td>&lt;javascript&gt;&lt;node.js&gt;&lt;ecmascript-6&gt;&lt;generator&gt;...</td>\n",
       "    </tr>\n",
       "    <tr>\n",
       "      <th>3</th>\n",
       "      <td>Loading System.ServiceModel configuration sect...</td>\n",
       "      <td>&lt;p&gt;Using C# .NET 3.5 and WCF, I'm trying to wr...</td>\n",
       "      <td>&lt;c#&gt;&lt;.net&gt;&lt;xml&gt;&lt;wcf&gt;&lt;configurationmanager&gt;</td>\n",
       "    </tr>\n",
       "    <tr>\n",
       "      <th>4</th>\n",
       "      <td>XML Serialization and Inherited Types</td>\n",
       "      <td>&lt;p&gt;Following on from my &lt;a href=\"https://stack...</td>\n",
       "      <td>&lt;c#&gt;&lt;xml&gt;&lt;inheritance&gt;&lt;serialization&gt;&lt;xml-seri...</td>\n",
       "    </tr>\n",
       "  </tbody>\n",
       "</table>\n",
       "</div>"
      ],
      "text/plain": [
       "                                               Title  \\\n",
       "0  Differences between declare, typeset and local...   \n",
       "1  Dealing with PHP server and MySQL server in di...   \n",
       "2  Difference between async/await and ES6 yield w...   \n",
       "3  Loading System.ServiceModel configuration sect...   \n",
       "4              XML Serialization and Inherited Types   \n",
       "\n",
       "                                                Body  \\\n",
       "0  <p>When typing variables in Bash, what is the ...   \n",
       "1  <p>For those of us who use standard shared hos...   \n",
       "2  <p>I was just reading this fantastic article «...   \n",
       "3  <p>Using C# .NET 3.5 and WCF, I'm trying to wr...   \n",
       "4  <p>Following on from my <a href=\"https://stack...   \n",
       "\n",
       "                                                Tags  \n",
       "0           <bash><shell><variables><scope><declare>  \n",
       "1             <php><mysql><datetime><date><timezone>  \n",
       "2  <javascript><node.js><ecmascript-6><generator>...  \n",
       "3         <c#><.net><xml><wcf><configurationmanager>  \n",
       "4  <c#><xml><inheritance><serialization><xml-seri...  "
      ]
     },
     "execution_count": 21,
     "metadata": {},
     "output_type": "execute_result"
    }
   ],
   "source": [
    "cols = [\"Title\", \"Body\",\"Tags\"]\n",
    "df = df[cols]\n",
    "df.head()"
   ]
  },
  {
   "cell_type": "markdown",
   "id": "4ce83288",
   "metadata": {},
   "source": [
    "### <font color = grey>3.2. Suppression des Nan</font>"
   ]
  },
  {
   "cell_type": "code",
   "execution_count": 22,
   "id": "5a8119e8",
   "metadata": {},
   "outputs": [
    {
     "data": {
      "text/plain": [
       "Title    0.0\n",
       "Body     0.0\n",
       "Tags     0.0\n",
       "dtype: float64"
      ]
     },
     "execution_count": 22,
     "metadata": {},
     "output_type": "execute_result"
    }
   ],
   "source": [
    "df.isna().mean()"
   ]
  },
  {
   "cell_type": "markdown",
   "id": "b920eb69",
   "metadata": {},
   "source": [
    "Pas de Nan ==> pas de suppression. \n",
    "</br>sinon, on utilise la fonction dropna()"
   ]
  },
  {
   "cell_type": "markdown",
   "id": "609d78f6",
   "metadata": {},
   "source": [
    "### <font color = grey>3.3 Gestion des valeurs dupliquées</font>"
   ]
  },
  {
   "cell_type": "code",
   "execution_count": 23,
   "id": "2bda31fb",
   "metadata": {},
   "outputs": [
    {
     "name": "stdout",
     "output_type": "stream",
     "text": [
      "col : Title -> duplicated : 0\n",
      "col : Body -> duplicated : 0\n",
      "col : Tags -> duplicated : 472\n"
     ]
    }
   ],
   "source": [
    "for col in df.columns:\n",
    "    n = df.duplicated(subset = col).sum()\n",
    "    print(f\"col : {col} -> duplicated : {n}\")"
   ]
  },
  {
   "cell_type": "markdown",
   "id": "bf478b7b",
   "metadata": {},
   "source": [
    "Pas d'action car les tags dupliquées sont \"logique\", sinon :"
   ]
  },
  {
   "cell_type": "code",
   "execution_count": 24,
   "id": "ae91880c",
   "metadata": {},
   "outputs": [],
   "source": [
    "#Drop duplciate :\n",
    "#df.drop_duplicates(subset = \"COLONNE\", inplace = True)"
   ]
  },
  {
   "cell_type": "markdown",
   "id": "c8dc73e9",
   "metadata": {},
   "source": [
    "----"
   ]
  },
  {
   "cell_type": "markdown",
   "id": "1b042fc1",
   "metadata": {},
   "source": [
    "## <font color = purple>4. Exploration des Données</font>"
   ]
  },
  {
   "cell_type": "code",
   "execution_count": 25,
   "id": "885318c1",
   "metadata": {},
   "outputs": [],
   "source": [
    "import nltk\n",
    "from wordcloud import WordCloud"
   ]
  },
  {
   "cell_type": "markdown",
   "id": "3ffe1dd3",
   "metadata": {},
   "source": [
    "### <font color = grey>4.1. La cible \"Tags\"</font>"
   ]
  },
  {
   "cell_type": "code",
   "execution_count": 26,
   "id": "d79a66ad",
   "metadata": {},
   "outputs": [],
   "source": [
    "#supression des <, >\n",
    "df[\"Tags\"] = df[\"Tags\"].str.replace(\"><\",\" \")\n",
    "df[\"Tags\"] = df[\"Tags\"].str.replace(\"<\",\"\")\n",
    "df[\"Tags\"] = df[\"Tags\"].str.replace(\">\",\"\")"
   ]
  },
  {
   "cell_type": "code",
   "execution_count": 27,
   "id": "f84cb4eb",
   "metadata": {},
   "outputs": [
    {
     "data": {
      "text/plain": [
       "0                   bash shell variables scope declare\n",
       "1                     php mysql datetime date timezone\n",
       "2    javascript node.js ecmascript-6 generator ecma...\n",
       "3                 c# .net xml wcf configurationmanager\n",
       "4    c# xml inheritance serialization xml-serializa...\n",
       "5             mysql database performance innodb myisam\n",
       "6              python mysql django django-models enums\n",
       "7       sql database-design tags data-modeling tagging\n",
       "8            c++ c include header-files c-preprocessor\n",
       "9                       .net asp.net url uri authority\n",
       "Name: Tags, dtype: object"
      ]
     },
     "execution_count": 27,
     "metadata": {},
     "output_type": "execute_result"
    }
   ],
   "source": [
    "df[\"Tags\"].head(10)"
   ]
  },
  {
   "cell_type": "code",
   "execution_count": 28,
   "id": "5dc37bd7",
   "metadata": {},
   "outputs": [],
   "source": [
    "df['Tags'] = df['Tags'].apply(lambda x: x.split())"
   ]
  },
  {
   "cell_type": "code",
   "execution_count": 29,
   "id": "e8b76890",
   "metadata": {},
   "outputs": [
    {
     "data": {
      "text/plain": [
       "0             [bash, shell, variables, scope, declare]\n",
       "1               [php, mysql, datetime, date, timezone]\n",
       "2    [javascript, node.js, ecmascript-6, generator,...\n",
       "3           [c#, .net, xml, wcf, configurationmanager]\n",
       "4    [c#, xml, inheritance, serialization, xml-seri...\n",
       "5       [mysql, database, performance, innodb, myisam]\n",
       "6        [python, mysql, django, django-models, enums]\n",
       "7    [sql, database-design, tags, data-modeling, ta...\n",
       "8      [c++, c, include, header-files, c-preprocessor]\n",
       "9                 [.net, asp.net, url, uri, authority]\n",
       "Name: Tags, dtype: object"
      ]
     },
     "execution_count": 29,
     "metadata": {},
     "output_type": "execute_result"
    }
   ],
   "source": [
    "df[\"Tags\"].head(10)"
   ]
  },
  {
   "cell_type": "code",
   "execution_count": 30,
   "id": "fa85b3a1",
   "metadata": {},
   "outputs": [],
   "source": [
    "all_tags = [item for sublist in df['Tags'].values for item in sublist]"
   ]
  },
  {
   "cell_type": "code",
   "execution_count": 31,
   "id": "e860903d",
   "metadata": {},
   "outputs": [
    {
     "data": {
      "text/plain": [
       "138275"
      ]
     },
     "execution_count": 31,
     "metadata": {},
     "output_type": "execute_result"
    }
   ],
   "source": [
    "#Nombre de Tags :\n",
    "len(all_tags)"
   ]
  },
  {
   "cell_type": "code",
   "execution_count": 32,
   "id": "3667a275",
   "metadata": {},
   "outputs": [
    {
     "data": {
      "text/plain": [
       "12553"
      ]
     },
     "execution_count": 32,
     "metadata": {},
     "output_type": "execute_result"
    }
   ],
   "source": [
    "#Nombre de Tags sans doublons :\n",
    "my_set = set(all_tags)\n",
    "unique_tags = list(my_set)\n",
    "len(unique_tags)"
   ]
  },
  {
   "cell_type": "code",
   "execution_count": 33,
   "id": "1e4dad4a",
   "metadata": {},
   "outputs": [],
   "source": [
    "#On ne conserve que les 100 Tags les plus utilisés:\n",
    "flat_list = [item for sublist in df['Tags'].values for item in sublist]\n",
    "\n",
    "keywords = nltk.FreqDist(flat_list)\n",
    "\n",
    "keywords = nltk.FreqDist(keywords)\n",
    "\n",
    "frequencies_words = keywords.most_common(100)\n",
    "tags_features = [word[0] for word in frequencies_words]"
   ]
  },
  {
   "cell_type": "code",
   "execution_count": 34,
   "id": "510c14d5",
   "metadata": {},
   "outputs": [
    {
     "data": {
      "text/plain": [
       "['python',\n",
       " 'java',\n",
       " 'javascript',\n",
       " 'c#',\n",
       " 'ios',\n",
       " 'android',\n",
       " 'c++',\n",
       " '.net',\n",
       " 'iphone',\n",
       " 'objective-c',\n",
       " 'html',\n",
       " 'jquery',\n",
       " 'php',\n",
       " 'c',\n",
       " 'linux',\n",
       " 'css',\n",
       " 'node.js',\n",
       " 'sql',\n",
       " 'performance',\n",
       " 'swift',\n",
       " 'xcode',\n",
       " 'asp.net',\n",
       " 'spring',\n",
       " 'windows',\n",
       " 'asp.net-mvc',\n",
       " 'mysql',\n",
       " 'cocoa-touch',\n",
       " 'json',\n",
       " 'algorithm',\n",
       " 'multithreading',\n",
       " 'ruby-on-rails',\n",
       " 'string',\n",
       " 'database',\n",
       " 'arrays',\n",
       " 'macos',\n",
       " 'git',\n",
       " 'django',\n",
       " 'bash',\n",
       " 'pandas',\n",
       " 'sql-server',\n",
       " 'c++11',\n",
       " 'ruby',\n",
       " 'image',\n",
       " 'numpy',\n",
       " 'python-3.x',\n",
       " 'wpf',\n",
       " 'ajax',\n",
       " 'r',\n",
       " 'shell',\n",
       " 'unit-testing',\n",
       " 'security',\n",
       " 'reactjs',\n",
       " 'hibernate',\n",
       " 'rest',\n",
       " 'visual-studio',\n",
       " 'machine-learning',\n",
       " 'http',\n",
       " 'angularjs',\n",
       " 'jpa',\n",
       " 'postgresql',\n",
       " 'gcc',\n",
       " 'google-chrome',\n",
       " 'dataframe',\n",
       " 'entity-framework',\n",
       " 'ipad',\n",
       " 'eclipse',\n",
       " 'authentication',\n",
       " 'unix',\n",
       " 'file',\n",
       " 'asynchronous',\n",
       " 'optimization',\n",
       " 'xml',\n",
       " 'list',\n",
       " 'oop',\n",
       " 'image-processing',\n",
       " 'ssl',\n",
       " 'debugging',\n",
       " 'spring-boot',\n",
       " 'cocoa',\n",
       " 'ubuntu',\n",
       " 'spring-mvc',\n",
       " 'class',\n",
       " 'android-studio',\n",
       " 'datetime',\n",
       " 'opencv',\n",
       " 'scala',\n",
       " 'maven',\n",
       " 'assembly',\n",
       " 'memory',\n",
       " 'math',\n",
       " 'angular',\n",
       " 'mongodb',\n",
       " 'apache-spark',\n",
       " 'python-2.7',\n",
       " 'apache',\n",
       " 'laravel',\n",
       " 'date',\n",
       " 'function',\n",
       " 'gradle',\n",
       " 'matplotlib']"
      ]
     },
     "execution_count": 34,
     "metadata": {},
     "output_type": "execute_result"
    }
   ],
   "source": [
    "#Affichage des 100 tags conservés\n",
    "tags_features"
   ]
  },
  {
   "cell_type": "code",
   "execution_count": 35,
   "id": "69ad6879",
   "metadata": {},
   "outputs": [
    {
     "data": {
      "image/png": "[encoded data removed]",
      "text/plain": [
       "<Figure size 1080x720 with 1 Axes>"
      ]
     },
     "metadata": {},
     "output_type": "display_data"
    },
    {
     "data": {
      "text/plain": [
       "<AxesSubplot:xlabel='Samples', ylabel='Counts'>"
      ]
     },
     "execution_count": 35,
     "metadata": {},
     "output_type": "execute_result"
    }
   ],
   "source": [
    "#Subplot des 100 tags :\n",
    "fig, ax = plt.subplots(figsize=(15, 10))\n",
    "keywords.plot(100, cumulative=False)"
   ]
  },
  {
   "cell_type": "code",
   "execution_count": 36,
   "id": "5c8ea153",
   "metadata": {},
   "outputs": [],
   "source": [
    "def use_wordcloud(corpus):\n",
    "    wordcloud = WordCloud(background_color = \"white\",\n",
    "                     stopwords = [],\n",
    "                     max_words = 50).generate(\" \".join(corpus))\n",
    "    plt.figure(figsize=(10,10))\n",
    "    plt.imshow(wordcloud)\n",
    "    plt.axis(\"off\")\n",
    "    plt.show()"
   ]
  },
  {
   "cell_type": "code",
   "execution_count": 37,
   "id": "45010679",
   "metadata": {},
   "outputs": [
    {
     "data": {
      "image/png": "[encoded data removed]",
      "text/plain": [
       "<Figure size 720x720 with 1 Axes>"
      ]
     },
     "metadata": {},
     "output_type": "display_data"
    }
   ],
   "source": [
    "use_wordcloud(keywords)"
   ]
  },
  {
   "cell_type": "code",
   "execution_count": 38,
   "id": "cd3130f3",
   "metadata": {},
   "outputs": [],
   "source": [
    "#Définition d'une fonction d'extraction des 100 tags les plus fréquents d'un corpus\n",
    "def most_common(tags):\n",
    "    tags_filtered = []\n",
    "    for i in range(0, len(tags)):\n",
    "        if tags[i] in tags_features:\n",
    "            tags_filtered.append(tags[i])\n",
    "    return tags_filtered"
   ]
  },
  {
   "cell_type": "code",
   "execution_count": 39,
   "id": "a7f2f87d",
   "metadata": {},
   "outputs": [],
   "source": [
    "#On applique notre fonction a df[\"Tags\"]\n",
    "df['Tags'] = df['Tags'].apply(lambda x: most_common(x))\n",
    "\n",
    "#On remplace les cellule sans tag par des Nan (faciliter le traitement)\n",
    "df['Tags'] = df['Tags'].apply(lambda x: x if len(x)>0 else None)"
   ]
  },
  {
   "cell_type": "code",
   "execution_count": 40,
   "id": "6231ddea",
   "metadata": {},
   "outputs": [
    {
     "data": {
      "text/plain": [
       "(27655, 3)"
      ]
     },
     "execution_count": 40,
     "metadata": {},
     "output_type": "execute_result"
    }
   ],
   "source": [
    "df.shape"
   ]
  },
  {
   "cell_type": "code",
   "execution_count": 41,
   "id": "8f1e5258",
   "metadata": {},
   "outputs": [],
   "source": [
    "#On supprimme les individu sans Tags\n",
    "df.dropna(subset=['Tags'], inplace=True)"
   ]
  },
  {
   "cell_type": "code",
   "execution_count": 42,
   "id": "76d50063",
   "metadata": {},
   "outputs": [
    {
     "data": {
      "text/plain": [
       "(26081, 3)"
      ]
     },
     "execution_count": 42,
     "metadata": {},
     "output_type": "execute_result"
    }
   ],
   "source": [
    "df.shape"
   ]
  },
  {
   "cell_type": "code",
   "execution_count": 43,
   "id": "df3bc9dd",
   "metadata": {},
   "outputs": [
    {
     "name": "stdout",
     "output_type": "stream",
     "text": [
      "Nous avons supprimmé 1574 individus\n"
     ]
    }
   ],
   "source": [
    "print(\"Nous avons supprimmé \" + str(27655 - 26081) + \" individus\")"
   ]
  },
  {
   "cell_type": "markdown",
   "id": "59ad0fda",
   "metadata": {},
   "source": [
    "### <font color = grey>4.2. body</font>"
   ]
  },
  {
   "cell_type": "code",
   "execution_count": 44,
   "id": "ec7d3a50",
   "metadata": {},
   "outputs": [
    {
     "data": {
      "text/plain": [
       "0    <p>When typing variables in Bash, what is the ...\n",
       "1    <p>For those of us who use standard shared hos...\n",
       "2    <p>I was just reading this fantastic article «...\n",
       "3    <p>Using C# .NET 3.5 and WCF, I'm trying to wr...\n",
       "4    <p>Following on from my <a href=\"https://stack...\n",
       "5    <p>I'm working on a projects which involves a ...\n",
       "6    <p>How do I go about specifying and using an E...\n",
       "7    <p>I've heard of a few ways to implement taggi...\n",
       "8    <p>What is the difference between using angle ...\n",
       "9    <p>Is there a simple way in .NET to quickly ge...\n",
       "Name: Body, dtype: object"
      ]
     },
     "execution_count": 44,
     "metadata": {},
     "output_type": "execute_result"
    }
   ],
   "source": [
    "df[\"Body\"].head(10)"
   ]
  },
  {
   "cell_type": "code",
   "execution_count": 45,
   "id": "451f844e",
   "metadata": {},
   "outputs": [],
   "source": [
    "from bs4 import BeautifulSoup"
   ]
  },
  {
   "cell_type": "code",
   "execution_count": 46,
   "id": "3b7b1d66",
   "metadata": {},
   "outputs": [],
   "source": [
    "#supression des balises html\n",
    "df['Body'] = df['Body'].apply(lambda x: BeautifulSoup(x).get_text()) "
   ]
  },
  {
   "cell_type": "code",
   "execution_count": 47,
   "id": "8da6a553",
   "metadata": {},
   "outputs": [
    {
     "data": {
      "text/plain": [
       "0    When typing variables in Bash, what is the dif...\n",
       "1    For those of us who use standard shared hostin...\n",
       "2    I was just reading this fantastic article «Gen...\n",
       "3    Using C# .NET 3.5 and WCF, I'm trying to write...\n",
       "4    Following on from my previous question I have ...\n",
       "5    I'm working on a projects which involves a lot...\n",
       "6    How do I go about specifying and using an ENUM...\n",
       "7    I've heard of a few ways to implement tagging;...\n",
       "8    What is the difference between using angle bra...\n",
       "9    Is there a simple way in .NET to quickly get t...\n",
       "Name: Body, dtype: object"
      ]
     },
     "execution_count": 47,
     "metadata": {},
     "output_type": "execute_result"
    }
   ],
   "source": [
    "df[\"Body\"].head(10)"
   ]
  },
  {
   "cell_type": "markdown",
   "id": "46c07dc2",
   "metadata": {},
   "source": [
    "### <font color = grey>4.3. Title</font>"
   ]
  },
  {
   "cell_type": "code",
   "execution_count": 48,
   "id": "6a7f653b",
   "metadata": {},
   "outputs": [
    {
     "data": {
      "text/plain": [
       "0         63\n",
       "1         64\n",
       "2         60\n",
       "3         76\n",
       "4         37\n",
       "        ... \n",
       "27650     53\n",
       "27651     60\n",
       "27652     53\n",
       "27653    130\n",
       "27654     65\n",
       "Name: Title, Length: 26081, dtype: int64"
      ]
     },
     "execution_count": 48,
     "metadata": {},
     "output_type": "execute_result"
    }
   ],
   "source": [
    "#Longueur de chaque Document :\n",
    "df.Title.apply(lambda i : len(i))"
   ]
  },
  {
   "cell_type": "code",
   "execution_count": 49,
   "id": "f0a6a79d",
   "metadata": {},
   "outputs": [
    {
     "name": "stderr",
     "output_type": "stream",
     "text": [
      "c:\\Users\\Anthony\\anaconda3\\lib\\site-packages\\seaborn\\_decorators.py:36: FutureWarning: Pass the following variable as a keyword arg: x. From version 0.12, the only valid positional argument will be `data`, and passing other arguments without an explicit keyword will result in an error or misinterpretation.\n",
      "  warnings.warn(\n"
     ]
    },
    {
     "data": {
      "text/plain": [
       "<AxesSubplot:xlabel='Title'>"
      ]
     },
     "execution_count": 49,
     "metadata": {},
     "output_type": "execute_result"
    },
    {
     "data": {
      "image/png": "[encoded data removed]",
      "text/plain": [
       "<Figure size 432x288 with 1 Axes>"
      ]
     },
     "metadata": {},
     "output_type": "display_data"
    }
   ],
   "source": [
    "#Affichage avec un boxplot :\n",
    "tmp = df.Title.str.len()\n",
    "sns.boxplot(tmp)"
   ]
  },
  {
   "cell_type": "code",
   "execution_count": 50,
   "id": "71c7c980",
   "metadata": {},
   "outputs": [
    {
     "data": {
      "text/plain": [
       "<seaborn.axisgrid.FacetGrid at 0x179b7f86970>"
      ]
     },
     "execution_count": 50,
     "metadata": {},
     "output_type": "execute_result"
    },
    {
     "data": {
      "image/png": "[encoded data removed]",
      "text/plain": [
       "<Figure size 360x360 with 1 Axes>"
      ]
     },
     "metadata": {},
     "output_type": "display_data"
    }
   ],
   "source": [
    "#Affichage sous forme de Displot :\n",
    "sns.displot(tmp)"
   ]
  },
  {
   "cell_type": "code",
   "execution_count": 51,
   "id": "a681c833",
   "metadata": {},
   "outputs": [],
   "source": [
    "#Nous Stockons les infos sur la longueur du titre dans la colonne _len_title :\n",
    "df[\"_len_txt\"] = tmp"
   ]
  },
  {
   "cell_type": "markdown",
   "id": "d6265db8",
   "metadata": {},
   "source": [
    "### <font color = grey>4.4. Analyse Multi-variée</font>"
   ]
  },
  {
   "cell_type": "code",
   "execution_count": 52,
   "id": "e128321d",
   "metadata": {},
   "outputs": [
    {
     "data": {
      "image/png": "[encoded data removed]",
      "text/plain": [
       "<Figure size 504x360 with 2 Axes>"
      ]
     },
     "metadata": {},
     "output_type": "display_data"
    }
   ],
   "source": [
    "# Matrice de corrélation\n",
    "corr = df.corr()\n",
    "\n",
    "mask = np.zeros_like(corr)\n",
    "mask[np.triu_indices_from(mask)] = True\n",
    "\n",
    "fog, ax = plt.subplots(1, 1, figsize = (7, 5))\n",
    "ax = sns.heatmap(corr, mask = mask, vmin = -1, vmax = 1, cmap = \"coolwarm\", annot = True, fmt = \".2f\", square = True)"
   ]
  },
  {
   "cell_type": "markdown",
   "id": "dd7b07dd",
   "metadata": {},
   "source": [
    "Non utile dans notre cas car nous n'avons pas de variable Numérique !"
   ]
  },
  {
   "cell_type": "code",
   "execution_count": 53,
   "id": "086a1d05",
   "metadata": {},
   "outputs": [
    {
     "data": {
      "text/plain": [
       "<seaborn.axisgrid.PairGrid at 0x179b81a5fd0>"
      ]
     },
     "execution_count": 53,
     "metadata": {},
     "output_type": "execute_result"
    },
    {
     "data": {
      "image/png": "[encoded data removed]",
      "text/plain": [
       "<Figure size 180x180 with 2 Axes>"
      ]
     },
     "metadata": {},
     "output_type": "display_data"
    }
   ],
   "source": [
    "sns.pairplot(df)"
   ]
  },
  {
   "cell_type": "markdown",
   "id": "b70968bb",
   "metadata": {},
   "source": [
    "Non utile dans notre cas car nous n'avons pas de variable Numérique"
   ]
  },
  {
   "cell_type": "code",
   "execution_count": 54,
   "id": "fc294470",
   "metadata": {},
   "outputs": [
    {
     "data": {
      "text/html": [
       "<div>\n",
       "<style scoped>\n",
       "    .dataframe tbody tr th:only-of-type {\n",
       "        vertical-align: middle;\n",
       "    }\n",
       "\n",
       "    .dataframe tbody tr th {\n",
       "        vertical-align: top;\n",
       "    }\n",
       "\n",
       "    .dataframe thead th {\n",
       "        text-align: right;\n",
       "    }\n",
       "</style>\n",
       "<table border=\"1\" class=\"dataframe\">\n",
       "  <thead>\n",
       "    <tr style=\"text-align: right;\">\n",
       "      <th></th>\n",
       "      <th>Title</th>\n",
       "      <th>Body</th>\n",
       "      <th>Tags</th>\n",
       "      <th>_len_txt</th>\n",
       "    </tr>\n",
       "  </thead>\n",
       "  <tbody>\n",
       "    <tr>\n",
       "      <th>514</th>\n",
       "      <td>TFS vs SVN</td>\n",
       "      <td>I am about to start a project (.NET) and need ...</td>\n",
       "      <td>[.net]</td>\n",
       "      <td>10</td>\n",
       "    </tr>\n",
       "    <tr>\n",
       "      <th>3215</th>\n",
       "      <td>.Net Encryption</td>\n",
       "      <td>What I would like to know is the definite appr...</td>\n",
       "      <td>[.net]</td>\n",
       "      <td>15</td>\n",
       "    </tr>\n",
       "    <tr>\n",
       "      <th>1292</th>\n",
       "      <td>Is assert evil?</td>\n",
       "      <td>The Go language creators write:\\n\\nGo doesn't ...</td>\n",
       "      <td>[c++, c]</td>\n",
       "      <td>15</td>\n",
       "    </tr>\n",
       "    <tr>\n",
       "      <th>5787</th>\n",
       "      <td>Spring vs Jboss</td>\n",
       "      <td>What are the advantages and disadvantages for ...</td>\n",
       "      <td>[spring]</td>\n",
       "      <td>15</td>\n",
       "    </tr>\n",
       "    <tr>\n",
       "      <th>14563</th>\n",
       "      <td>Monitor vs lock</td>\n",
       "      <td>When is it appropriate to use either the Monit...</td>\n",
       "      <td>[c#, .net, multithreading]</td>\n",
       "      <td>15</td>\n",
       "    </tr>\n",
       "  </tbody>\n",
       "</table>\n",
       "</div>"
      ],
      "text/plain": [
       "                 Title                                               Body  \\\n",
       "514         TFS vs SVN  I am about to start a project (.NET) and need ...   \n",
       "3215   .Net Encryption  What I would like to know is the definite appr...   \n",
       "1292   Is assert evil?  The Go language creators write:\\n\\nGo doesn't ...   \n",
       "5787   Spring vs Jboss  What are the advantages and disadvantages for ...   \n",
       "14563  Monitor vs lock  When is it appropriate to use either the Monit...   \n",
       "\n",
       "                             Tags  _len_txt  \n",
       "514                        [.net]        10  \n",
       "3215                       [.net]        15  \n",
       "1292                     [c++, c]        15  \n",
       "5787                     [spring]        15  \n",
       "14563  [c#, .net, multithreading]        15  "
      ]
     },
     "execution_count": 54,
     "metadata": {},
     "output_type": "execute_result"
    }
   ],
   "source": [
    "#Affichages des 10 plus court titres\n",
    "df.sort_values(\"_len_txt\").head(5)"
   ]
  },
  {
   "cell_type": "code",
   "execution_count": 55,
   "id": "12e5569c",
   "metadata": {},
   "outputs": [
    {
     "data": {
      "text/html": [
       "<div>\n",
       "<style scoped>\n",
       "    .dataframe tbody tr th:only-of-type {\n",
       "        vertical-align: middle;\n",
       "    }\n",
       "\n",
       "    .dataframe tbody tr th {\n",
       "        vertical-align: top;\n",
       "    }\n",
       "\n",
       "    .dataframe thead th {\n",
       "        text-align: right;\n",
       "    }\n",
       "</style>\n",
       "<table border=\"1\" class=\"dataframe\">\n",
       "  <thead>\n",
       "    <tr style=\"text-align: right;\">\n",
       "      <th></th>\n",
       "      <th>Title</th>\n",
       "      <th>Body</th>\n",
       "      <th>Tags</th>\n",
       "      <th>_len_txt</th>\n",
       "    </tr>\n",
       "  </thead>\n",
       "  <tbody>\n",
       "    <tr>\n",
       "      <th>4344</th>\n",
       "      <td>InvalidArgumentException: Message: invalid arg...</td>\n",
       "      <td>When I am trying to use --user-data-dir for th...</td>\n",
       "      <td>[python, google-chrome]</td>\n",
       "      <td>149</td>\n",
       "    </tr>\n",
       "    <tr>\n",
       "      <th>4687</th>\n",
       "      <td>XCode getting \"target specifies product type '...</td>\n",
       "      <td>When running my project in XCode, my tests giv...</td>\n",
       "      <td>[ios, objective-c, xcode, unit-testing]</td>\n",
       "      <td>149</td>\n",
       "    </tr>\n",
       "    <tr>\n",
       "      <th>19066</th>\n",
       "      <td>MediaSessionCompat:Targeting S+ (version 31 an...</td>\n",
       "      <td>I'm trying to update my application to Android...</td>\n",
       "      <td>[java, android, android-studio]</td>\n",
       "      <td>149</td>\n",
       "    </tr>\n",
       "    <tr>\n",
       "      <th>24888</th>\n",
       "      <td>This app is not authorized to use Firebase Aut...</td>\n",
       "      <td>Firebase auth was working fine, the debug buil...</td>\n",
       "      <td>[java, android, android-studio]</td>\n",
       "      <td>150</td>\n",
       "    </tr>\n",
       "    <tr>\n",
       "      <th>27551</th>\n",
       "      <td>Selenium: WebDriverException:Chrome failed to ...</td>\n",
       "      <td>Recently I switched computers and since then I...</td>\n",
       "      <td>[python, google-chrome]</td>\n",
       "      <td>150</td>\n",
       "    </tr>\n",
       "  </tbody>\n",
       "</table>\n",
       "</div>"
      ],
      "text/plain": [
       "                                                   Title  \\\n",
       "4344   InvalidArgumentException: Message: invalid arg...   \n",
       "4687   XCode getting \"target specifies product type '...   \n",
       "19066  MediaSessionCompat:Targeting S+ (version 31 an...   \n",
       "24888  This app is not authorized to use Firebase Aut...   \n",
       "27551  Selenium: WebDriverException:Chrome failed to ...   \n",
       "\n",
       "                                                    Body  \\\n",
       "4344   When I am trying to use --user-data-dir for th...   \n",
       "4687   When running my project in XCode, my tests giv...   \n",
       "19066  I'm trying to update my application to Android...   \n",
       "24888  Firebase auth was working fine, the debug buil...   \n",
       "27551  Recently I switched computers and since then I...   \n",
       "\n",
       "                                          Tags  _len_txt  \n",
       "4344                   [python, google-chrome]       149  \n",
       "4687   [ios, objective-c, xcode, unit-testing]       149  \n",
       "19066          [java, android, android-studio]       149  \n",
       "24888          [java, android, android-studio]       150  \n",
       "27551                  [python, google-chrome]       150  "
      ]
     },
     "execution_count": 55,
     "metadata": {},
     "output_type": "execute_result"
    }
   ],
   "source": [
    "#Affichages des 10 plus long titre\n",
    "df.sort_values(\"_len_txt\").tail(5)"
   ]
  },
  {
   "cell_type": "markdown",
   "id": "fde4ca65",
   "metadata": {},
   "source": [
    "Nous pouvons nous séparer de la colonne \"len_txt\" qui a été utile pour l'analyse."
   ]
  },
  {
   "cell_type": "code",
   "execution_count": 56,
   "id": "29d6bcf6",
   "metadata": {},
   "outputs": [
    {
     "data": {
      "text/html": [
       "<div>\n",
       "<style scoped>\n",
       "    .dataframe tbody tr th:only-of-type {\n",
       "        vertical-align: middle;\n",
       "    }\n",
       "\n",
       "    .dataframe tbody tr th {\n",
       "        vertical-align: top;\n",
       "    }\n",
       "\n",
       "    .dataframe thead th {\n",
       "        text-align: right;\n",
       "    }\n",
       "</style>\n",
       "<table border=\"1\" class=\"dataframe\">\n",
       "  <thead>\n",
       "    <tr style=\"text-align: right;\">\n",
       "      <th></th>\n",
       "      <th>Title</th>\n",
       "      <th>Body</th>\n",
       "      <th>Tags</th>\n",
       "    </tr>\n",
       "  </thead>\n",
       "  <tbody>\n",
       "    <tr>\n",
       "      <th>0</th>\n",
       "      <td>Differences between declare, typeset and local...</td>\n",
       "      <td>When typing variables in Bash, what is the dif...</td>\n",
       "      <td>[bash, shell]</td>\n",
       "    </tr>\n",
       "    <tr>\n",
       "      <th>1</th>\n",
       "      <td>Dealing with PHP server and MySQL server in di...</td>\n",
       "      <td>For those of us who use standard shared hostin...</td>\n",
       "      <td>[php, mysql, datetime, date]</td>\n",
       "    </tr>\n",
       "    <tr>\n",
       "      <th>2</th>\n",
       "      <td>Difference between async/await and ES6 yield w...</td>\n",
       "      <td>I was just reading this fantastic article «Gen...</td>\n",
       "      <td>[javascript, node.js]</td>\n",
       "    </tr>\n",
       "    <tr>\n",
       "      <th>3</th>\n",
       "      <td>Loading System.ServiceModel configuration sect...</td>\n",
       "      <td>Using C# .NET 3.5 and WCF, I'm trying to write...</td>\n",
       "      <td>[c#, .net, xml]</td>\n",
       "    </tr>\n",
       "    <tr>\n",
       "      <th>4</th>\n",
       "      <td>XML Serialization and Inherited Types</td>\n",
       "      <td>Following on from my previous question I have ...</td>\n",
       "      <td>[c#, xml]</td>\n",
       "    </tr>\n",
       "  </tbody>\n",
       "</table>\n",
       "</div>"
      ],
      "text/plain": [
       "                                               Title  \\\n",
       "0  Differences between declare, typeset and local...   \n",
       "1  Dealing with PHP server and MySQL server in di...   \n",
       "2  Difference between async/await and ES6 yield w...   \n",
       "3  Loading System.ServiceModel configuration sect...   \n",
       "4              XML Serialization and Inherited Types   \n",
       "\n",
       "                                                Body  \\\n",
       "0  When typing variables in Bash, what is the dif...   \n",
       "1  For those of us who use standard shared hostin...   \n",
       "2  I was just reading this fantastic article «Gen...   \n",
       "3  Using C# .NET 3.5 and WCF, I'm trying to write...   \n",
       "4  Following on from my previous question I have ...   \n",
       "\n",
       "                           Tags  \n",
       "0                 [bash, shell]  \n",
       "1  [php, mysql, datetime, date]  \n",
       "2         [javascript, node.js]  \n",
       "3               [c#, .net, xml]  \n",
       "4                     [c#, xml]  "
      ]
     },
     "execution_count": 56,
     "metadata": {},
     "output_type": "execute_result"
    }
   ],
   "source": [
    "df.drop(columns = \"_len_txt\", inplace = True)\n",
    "df.head()"
   ]
  },
  {
   "cell_type": "code",
   "execution_count": 57,
   "id": "da15b565",
   "metadata": {},
   "outputs": [],
   "source": [
    "#Enregistrement en csv :\n",
    "df.to_csv(\"cleaned/df_cleaned.csv\", index = False)"
   ]
  },
  {
   "cell_type": "markdown",
   "id": "bb8f886d",
   "metadata": {},
   "source": [
    "### <font color = grey>4.5. Exploration du Corpus et des Documents</font>"
   ]
  },
  {
   "cell_type": "markdown",
   "id": "92c5c2ea",
   "metadata": {},
   "source": [
    "Création de la fonction \"Print N documents au hasard\""
   ]
  },
  {
   "cell_type": "code",
   "execution_count": 58,
   "id": "27414e75",
   "metadata": {},
   "outputs": [],
   "source": [
    "def print_sample(sub_df, n_samp = 10) :\n",
    "    \"\"\"Visualisation n_samp documents du Corpus\"\"\"\n",
    "    \n",
    "    samp = sub_df.sample(n_samp)\n",
    "    \n",
    "    for idx, ser in samp.iterrows() :\n",
    "        print(\"Title :\" + ser[\"Title\"])\n",
    "        print(\"Tags :\", ser[\"Tags\"])\n",
    "        print(\"Body :\" + ser[\"Body\"] + \"...\" + \"\\n\\n\")"
   ]
  },
  {
   "cell_type": "code",
   "execution_count": 59,
   "id": "c65279e8",
   "metadata": {},
   "outputs": [
    {
     "name": "stdout",
     "output_type": "stream",
     "text": [
      "Title :Compile a version agnostic DLL in .NET\n",
      "Tags : ['c#', '.net']\n",
      "Body :Scenario\n",
      "I have two wrappers around Microsoft Office, one for 2003 and one for 2007. Since having two versions of Microsoft Office running side by side is \"not officially possible\" nor recommended by Microsoft, we have two boxes, one with Office 2003 and the other with Office 2007. We compile the wrappers separately. The DLLs are included in our solution, each box has the same checkout but with either Office 2003 or 2007 \"unloaded\" so it doesn't attempt to compile that particular DLL. Failure to do that will throw errors on compilation due to the Office COM DLLs not available. \n",
      "We use .NET 2.0 and Visual Studio 2008.\n",
      "Facts\n",
      "Since Microsoft mysteriously changed the Office 2003 API in 2007, renaming and changing some methods (sigh) thus making them not backwards compatible, we need the two wrappers.\n",
      "We have each build machine with the solution and one Office DLL activated. E.g.: the machine with Office 2003 has the \"Office 2007\" DLL unloaded, therefore not compiling it. The other box is the same idea but the other way around. All this because we can't have 2 different Office in the same box for programming purposes. (you could technically have two Office together according to Microsoft) but not for programming and not without some issues.\n",
      "Problem\n",
      "When we change the Application Version (from 1.5.0.1 to 1.5.0.2 for example) we need to recompile the DLL to match the new version of the application, this is automatically done, because the Office wrapper is included in the solution. Since the wrappers are contained in the solution, those inherit the APP Version, but we have to do it twice and then \"copy\" the other DLL to the machine that creates the installer. (A Pain…)\n",
      "Question\n",
      "Is it possible to compile a DLL that will work with any version of the application, despite being \"older\"? I've read something about manifests but I have never had to interact with those. Any pointers will be appreciated.\n",
      "The secret reason for this is that we haven't changed our wrappers in \"ages\" and neither did Microsoft with their ancient APIs, yet we are recompiling the DLL to match the app version on every release we make. I'd like to automate this process instead of having to rely on two machines.\n",
      "I can't remove the DLL from the project (neither of them) because there are dependencies. \n",
      "I could create a third \"master wrapper\" but haven't thought about it yet. \n",
      "Any ideas? Anyone else with the same requirement? \n",
      "UPDATE\n",
      "Clarifying:\n",
      "I have 1 solution with N projects. \n",
      "\"Application\" + Office11Wrapper.dll + Office12Wrapper.dll.\n",
      "Both \"wrappers\" use dependencies for application + other libraries in the solution (datalayer, businesslayer, framework, etc.)\n",
      "Each wrapper has references for the respective Office package (2003 and 2007). \n",
      "If I compile and don't have office 12 installed, I get errors from Office12Wrapper.dll not finding the Office 2007 libraries.\n",
      "So what I have are two building machines, one with Office 2003, one with Office 2007. After a full SVN update + compile on each machine, we simply use office12.dll in the \"installer\" to have the wrapper compiled against the \"same code, same version\".\n",
      "Note: The Office 2007 Build Machine, has the Wrapper for Office 2003 \"unloaded\" and viceversa.\n",
      "Thanks in advance.\n",
      "...\n",
      "\n",
      "\n",
      "Title :What are the similarities between the Java memory model and the C++11 memory model?\n",
      "Tags : ['java', 'c++', 'c++11']\n",
      "Body :The new C++ standard introduces the notion of a memory model. There were already questions on Stack Overflow about it, what does it mean, how does it change the way we write code in C++ and so on.\n",
      "I'm interested in getting to know how does the C++ memory model relate to the older, well known Java memory model (1.5). Is it the same? Is it similar? Do they have any significant differences? If so, why?\n",
      "The Java memory model has been around since a long time and many people know it quite decently, so I guess it might be helpful, not only for me, to learn the C++ memory model, by comparing it with the Java one.\n",
      "...\n",
      "\n",
      "\n"
     ]
    }
   ],
   "source": [
    "print_sample(df, n_samp = 2)"
   ]
  },
  {
   "cell_type": "markdown",
   "id": "9267254a",
   "metadata": {},
   "source": [
    "--------\n",
    "--------"
   ]
  },
  {
   "cell_type": "markdown",
   "id": "31628375",
   "metadata": {},
   "source": [
    "# <font color = green>Partie 2 : Text Processing</font>"
   ]
  },
  {
   "cell_type": "markdown",
   "id": "62b26920",
   "metadata": {},
   "source": [
    "## <font color = purple>1. Préliminaires</font>"
   ]
  },
  {
   "cell_type": "markdown",
   "id": "4cb08bd1",
   "metadata": {},
   "source": [
    "### <font color = grey>1.1. Contexte</font>"
   ]
  },
  {
   "cell_type": "markdown",
   "id": "eb1c6b38",
   "metadata": {},
   "source": [
    "L'objectif de cette partie est :\n",
    "- d'Explorer les principales transformations\n",
    "- d'Analyser le corpus\n",
    "- d'Essayer différents transofrmations\n",
    "- de Réduire la dimensionnalité de nos données (réduction du nb de tokens sur notre corpus)\n",
    "\n",
    "Attention : Ce notebook présente l'ensemble des pistes de recherche / essais.\n",
    "Ainsi, vous pouvez ignorer les parties _____ qui détails l'ensemble des teste nous amenans à l'étape _____"
   ]
  },
  {
   "cell_type": "markdown",
   "id": "eb13fe89",
   "metadata": {},
   "source": [
    "### <font color = grey>1.2. Librairies</font>"
   ]
  },
  {
   "cell_type": "code",
   "execution_count": 60,
   "id": "b4071ca2",
   "metadata": {},
   "outputs": [],
   "source": [
    "# builtin :\n",
    "import os, sys, time, random\n",
    "\n",
    "# data :\n",
    "import pandas as pd\n",
    "import numpy as np\n",
    "\n",
    "# NLP :\n",
    "import nltk\n",
    "from nltk.stem import WordNetLemmatizer, PorterStemmer\n",
    "from nltk.tokenize import word_tokenize, wordpunct_tokenize\n",
    "from nltk.corpus import words\n",
    "from nltk.corpus import stopwords\n",
    "from nltk.tokenize import RegexpTokenizer\n",
    "\n",
    "\n",
    "# Vizualisation :\n",
    "import seaborn as sns\n",
    "import matplotlib.pyplot as plt\n",
    "from wordcloud import WordCloud\n",
    "from PIL import Image #Pillow"
   ]
  },
  {
   "cell_type": "markdown",
   "id": "eec3adfc",
   "metadata": {},
   "source": [
    "### <font color = grey>1.3. Librairies externes et Options</font>"
   ]
  },
  {
   "cell_type": "markdown",
   "id": "3af8a18d",
   "metadata": {},
   "source": [
    "Afin d'utiliser certaines fonctionalitées nltk il faut télécharger des librairies externes (Asset).\n",
    "</br>ex: \"stopwords\" contient une liste des stop words anglais."
   ]
  },
  {
   "cell_type": "code",
   "execution_count": 61,
   "id": "2db27b5b",
   "metadata": {},
   "outputs": [
    {
     "name": "stderr",
     "output_type": "stream",
     "text": [
      "[nltk_data] Downloading package omw-1.4 to C:\\nltk_data...\n",
      "[nltk_data]   Package omw-1.4 is already up-to-date!\n",
      "[nltk_data] Downloading package wordnet to C:\\nltk_data...\n",
      "[nltk_data]   Package wordnet is already up-to-date!\n",
      "[nltk_data] Downloading package stopwords to C:\\nltk_data...\n",
      "[nltk_data]   Package stopwords is already up-to-date!\n",
      "[nltk_data] Downloading package words to C:\\nltk_data...\n",
      "[nltk_data]   Package words is already up-to-date!\n"
     ]
    },
    {
     "data": {
      "text/plain": [
       "True"
      ]
     },
     "execution_count": 61,
     "metadata": {},
     "output_type": "execute_result"
    }
   ],
   "source": [
    "#téléchargement :\n",
    "\n",
    "nltk.download(\"omw-1.4\")\n",
    "nltk.download(\"wordnet\")\n",
    "nltk.download(\"stopwords\")\n",
    "nltk.download(\"words\")"
   ]
  },
  {
   "cell_type": "markdown",
   "id": "ede57143",
   "metadata": {},
   "source": [
    "### <font color = grey>1.4. Chargement des données</font>"
   ]
  },
  {
   "cell_type": "code",
   "execution_count": 62,
   "id": "8ee94fe9",
   "metadata": {},
   "outputs": [
    {
     "data": {
      "text/plain": [
       "['.ipynb_checkpoints',\n",
       " 'df_cleaned.csv',\n",
       " 'final_df.csv',\n",
       " 'min_10_words.csv',\n",
       " 'min_5_words.csv',\n",
       " 'tokens_body_list.csv',\n",
       " 'tokens_list.csv',\n",
       " 'tokens_title_list.csv',\n",
       " 'unique_words.csv']"
      ]
     },
     "execution_count": 62,
     "metadata": {},
     "output_type": "execute_result"
    }
   ],
   "source": [
    "# chemin d'accès au fichier :\n",
    "data = \"./cleaned/\"\n",
    "os.listdir(data)"
   ]
  },
  {
   "cell_type": "code",
   "execution_count": 63,
   "id": "0e156e94",
   "metadata": {},
   "outputs": [
    {
     "data": {
      "text/html": [
       "<div>\n",
       "<style scoped>\n",
       "    .dataframe tbody tr th:only-of-type {\n",
       "        vertical-align: middle;\n",
       "    }\n",
       "\n",
       "    .dataframe tbody tr th {\n",
       "        vertical-align: top;\n",
       "    }\n",
       "\n",
       "    .dataframe thead th {\n",
       "        text-align: right;\n",
       "    }\n",
       "</style>\n",
       "<table border=\"1\" class=\"dataframe\">\n",
       "  <thead>\n",
       "    <tr style=\"text-align: right;\">\n",
       "      <th></th>\n",
       "      <th>Title</th>\n",
       "      <th>Body</th>\n",
       "      <th>Tags</th>\n",
       "    </tr>\n",
       "  </thead>\n",
       "  <tbody>\n",
       "    <tr>\n",
       "      <th>0</th>\n",
       "      <td>Differences between declare, typeset and local...</td>\n",
       "      <td>When typing variables in Bash, what is the dif...</td>\n",
       "      <td>['bash', 'shell']</td>\n",
       "    </tr>\n",
       "    <tr>\n",
       "      <th>1</th>\n",
       "      <td>Dealing with PHP server and MySQL server in di...</td>\n",
       "      <td>For those of us who use standard shared hostin...</td>\n",
       "      <td>['php', 'mysql', 'datetime', 'date']</td>\n",
       "    </tr>\n",
       "    <tr>\n",
       "      <th>2</th>\n",
       "      <td>Difference between async/await and ES6 yield w...</td>\n",
       "      <td>I was just reading this fantastic article «Gen...</td>\n",
       "      <td>['javascript', 'node.js']</td>\n",
       "    </tr>\n",
       "    <tr>\n",
       "      <th>3</th>\n",
       "      <td>Loading System.ServiceModel configuration sect...</td>\n",
       "      <td>Using C# .NET 3.5 and WCF, I'm trying to write...</td>\n",
       "      <td>['c#', '.net', 'xml']</td>\n",
       "    </tr>\n",
       "    <tr>\n",
       "      <th>4</th>\n",
       "      <td>XML Serialization and Inherited Types</td>\n",
       "      <td>Following on from my previous question I have ...</td>\n",
       "      <td>['c#', 'xml']</td>\n",
       "    </tr>\n",
       "  </tbody>\n",
       "</table>\n",
       "</div>"
      ],
      "text/plain": [
       "                                               Title  \\\n",
       "0  Differences between declare, typeset and local...   \n",
       "1  Dealing with PHP server and MySQL server in di...   \n",
       "2  Difference between async/await and ES6 yield w...   \n",
       "3  Loading System.ServiceModel configuration sect...   \n",
       "4              XML Serialization and Inherited Types   \n",
       "\n",
       "                                                Body  \\\n",
       "0  When typing variables in Bash, what is the dif...   \n",
       "1  For those of us who use standard shared hostin...   \n",
       "2  I was just reading this fantastic article «Gen...   \n",
       "3  Using C# .NET 3.5 and WCF, I'm trying to write...   \n",
       "4  Following on from my previous question I have ...   \n",
       "\n",
       "                                   Tags  \n",
       "0                     ['bash', 'shell']  \n",
       "1  ['php', 'mysql', 'datetime', 'date']  \n",
       "2             ['javascript', 'node.js']  \n",
       "3                 ['c#', '.net', 'xml']  \n",
       "4                         ['c#', 'xml']  "
      ]
     },
     "execution_count": 63,
     "metadata": {},
     "output_type": "execute_result"
    }
   ],
   "source": [
    "# Chargement du dataframe :\n",
    "fn = data + \"df_cleaned.csv\"\n",
    "df = pd.read_csv(fn)\n",
    "df.head()"
   ]
  },
  {
   "cell_type": "code",
   "execution_count": 64,
   "id": "07f3f1f9",
   "metadata": {},
   "outputs": [
    {
     "data": {
      "text/plain": [
       "(26081, 3)"
      ]
     },
     "execution_count": 64,
     "metadata": {},
     "output_type": "execute_result"
    }
   ],
   "source": [
    "#Taille du dataframe\n",
    "df.shape"
   ]
  },
  {
   "cell_type": "code",
   "execution_count": 65,
   "id": "4ec8c6a3",
   "metadata": {},
   "outputs": [],
   "source": [
    "#En cas de problème de perf, creation du sample\n",
    "# df = df.sample(frac = 0.3)"
   ]
  },
  {
   "cell_type": "markdown",
   "id": "f71a5049",
   "metadata": {},
   "source": [
    "## <font color = purple>2. Processing</font>"
   ]
  },
  {
   "cell_type": "code",
   "execution_count": 66,
   "id": "727a95c8",
   "metadata": {},
   "outputs": [],
   "source": [
    "import re\n",
    "from nltk.tokenize import ToktokTokenizer\n",
    "from string import punctuation"
   ]
  },
  {
   "cell_type": "markdown",
   "id": "064f1d15",
   "metadata": {},
   "source": [
    "### <font color = grey>2.1. RegExp</font>"
   ]
  },
  {
   "cell_type": "code",
   "execution_count": 67,
   "id": "dea9414b",
   "metadata": {},
   "outputs": [],
   "source": [
    "#Déinition de la fonction clean_text afin de passer des expressions Régulières :\n",
    "def clean_text(text):\n",
    "    text = text.lower()\n",
    "    text = re.sub(r\"[0-9]+\", \"\", text) #Remove numeric values\n",
    "    text = re.sub(r\"what's\", \"what is \", text)\n",
    "    text = re.sub(r\"\\'s\", \" \", text)\n",
    "    text = re.sub(r\"\\'ve\", \" have \", text)\n",
    "    text = re.sub(r\"can't\", \"can not \", text)\n",
    "    text = re.sub(r\"n't\", \" not \", text)\n",
    "    text = re.sub(r\"i'm\", \"i am \", text)\n",
    "    text = re.sub(r\"\\'re\", \" are \", text)\n",
    "    text = re.sub(r\"\\'d\", \" would \", text)\n",
    "    text = re.sub(r\"\\'ll\", \" will \", text)\n",
    "    text = re.sub(r\"\\'scuse\", \" excuse \", text)\n",
    "    text = re.sub(r\"\\'\\n\", \" \", text)\n",
    "    text = re.sub(r\"\\'\\xa0\", \" \", text)\n",
    "    text = re.sub('\\s+', ' ', text)\n",
    "    text = text.strip(' ')\n",
    "    return text"
   ]
  },
  {
   "cell_type": "markdown",
   "id": "8e690ff3",
   "metadata": {},
   "source": [
    "### <font color = grey>2.2. Tokenization & punctuation</font>"
   ]
  },
  {
   "cell_type": "code",
   "execution_count": 68,
   "id": "2f46ab13",
   "metadata": {},
   "outputs": [
    {
     "data": {
      "text/plain": [
       "'!\"#$%&\\'()*+,-./:;<=>?@[\\\\]^_`{|}~'"
      ]
     },
     "execution_count": 68,
     "metadata": {},
     "output_type": "execute_result"
    }
   ],
   "source": [
    "punctuation"
   ]
  },
  {
   "cell_type": "code",
   "execution_count": 69,
   "id": "4665b556",
   "metadata": {},
   "outputs": [],
   "source": [
    "punct = '!\"#$%&\\'()*+,-./:;<=>?@[\\\\]^_`{|}~'"
   ]
  },
  {
   "cell_type": "code",
   "execution_count": 70,
   "id": "24b650da",
   "metadata": {},
   "outputs": [],
   "source": [
    "def strip_list_noempty(mylist):\n",
    "    newlist = (item.strip() if hasattr(item, 'strip') else item for item in mylist)\n",
    "    return [item for item in newlist if item != '']"
   ]
  },
  {
   "cell_type": "code",
   "execution_count": 71,
   "id": "1ff1f51f",
   "metadata": {},
   "outputs": [],
   "source": [
    "#Permet de n'enlever que la ponctuation \"unitaire\" , i.e. ne filtre pas les mots comme c#, .net, c++ etc.\n",
    "def clean_punct(text): \n",
    "    words=token.tokenize(text)\n",
    "    punctuation_filtered = []\n",
    "    regex = re.compile('[%s]' % re.escape(punct))\n",
    "    remove_punctuation = str.maketrans(' ', ' ', punct)\n",
    "    for w in words:\n",
    "        if w in tags_features:\n",
    "            punctuation_filtered.append(w)\n",
    "        else:\n",
    "            punctuation_filtered.append(regex.sub('', w))\n",
    "  \n",
    "    filtered_list = strip_list_noempty(punctuation_filtered)\n",
    "        \n",
    "    return ' '.join(map(str, filtered_list))"
   ]
  },
  {
   "cell_type": "markdown",
   "id": "96f07fa0",
   "metadata": {},
   "source": [
    "### <font color = grey>2.3. Lemmatization</font>"
   ]
  },
  {
   "cell_type": "code",
   "execution_count": 72,
   "id": "9fac7c76",
   "metadata": {},
   "outputs": [],
   "source": [
    "def lemitizeWords(text):\n",
    "    words=token.tokenize(text)\n",
    "    listLemma=[]\n",
    "    for w in words:\n",
    "        x=lemma.lemmatize(w, pos=\"v\")\n",
    "        listLemma.append(x)\n",
    "    return ' '.join(map(str, listLemma))"
   ]
  },
  {
   "cell_type": "markdown",
   "id": "46924fe1",
   "metadata": {},
   "source": [
    "### <font color = grey>2.4. Stop Words</font>"
   ]
  },
  {
   "cell_type": "code",
   "execution_count": 73,
   "id": "4e95817d",
   "metadata": {},
   "outputs": [],
   "source": [
    "def stopWordsRemove(text):\n",
    "    \n",
    "    stop_words = set(stopwords.words(\"english\"))\n",
    "    \n",
    "    words=token.tokenize(text) #Essentiel de tokenizer les stop words pour la correspondance\n",
    "    \n",
    "    filtered = [w for w in words if not w in stop_words]\n",
    "    \n",
    "    return ' '.join(map(str, filtered))"
   ]
  },
  {
   "cell_type": "markdown",
   "id": "cb8aef20",
   "metadata": {},
   "source": [
    "### <font color = grey>2.5. Extra Words</font>"
   ]
  },
  {
   "cell_type": "code",
   "execution_count": 74,
   "id": "a560734c",
   "metadata": {},
   "outputs": [],
   "source": [
    "def extraWord(text):\n",
    "\n",
    "    words=token.tokenize(text)\n",
    "\n",
    "    words_without_extra_words = [w for w in words if w not in extra_words]\n",
    "\n",
    "    return ' '.join(map(str, words_without_extra_words))"
   ]
  },
  {
   "cell_type": "markdown",
   "id": "dd456f8a",
   "metadata": {},
   "source": [
    "### <font color = grey>2.6. Len Words</font>"
   ]
  },
  {
   "cell_type": "code",
   "execution_count": 75,
   "id": "7825af32",
   "metadata": {},
   "outputs": [],
   "source": [
    "def lenWord(text):\n",
    "\n",
    "    words=token.tokenize(text)\n",
    "\n",
    "    more_than_N = [w for w in words if len(w) >= min_len_word]\n",
    "\n",
    "    return ' '.join(map(str, more_than_N))"
   ]
  },
  {
   "cell_type": "markdown",
   "id": "0ebed5a2",
   "metadata": {},
   "source": [
    "### <font color = grey>2.7. unique words</font>"
   ]
  },
  {
   "cell_type": "code",
   "execution_count": 76,
   "id": "27fe3378",
   "metadata": {},
   "outputs": [],
   "source": [
    "def rare_words(text):\n",
    "\n",
    "    words=token.tokenize(text)\n",
    "\n",
    "    non_rare_tokens = [w for w in words if w not in List_unique_words]\n",
    "\n",
    "    return ' '.join(map(str, non_rare_tokens))"
   ]
  },
  {
   "cell_type": "markdown",
   "id": "af694ab0",
   "metadata": {},
   "source": [
    "### <font color = grey>2.8. Application des fonctions</font>"
   ]
  },
  {
   "cell_type": "markdown",
   "id": "b734c8e2",
   "metadata": {},
   "source": [
    "#### <font color = brown>2.8.1 Préparation des paramètres</font>"
   ]
  },
  {
   "cell_type": "code",
   "execution_count": 77,
   "id": "7d624cd2",
   "metadata": {},
   "outputs": [],
   "source": [
    "#Tokenizator :\n",
    "token=ToktokTokenizer()\n",
    "\n",
    "#Lemmatizer :\n",
    "lemma=WordNetLemmatizer()\n",
    "\n",
    "#stop words :\n",
    "stop_words = set(stopwords.words(\"english\")) #Besoin de télécharger le dictionnaire externe nltk\n",
    "\n",
    "#extra_words :\n",
    "extra_words = [\"use\", \"get\", \"file\", \"would\", \"like\", \"124\"]\n",
    "\n",
    "#min len word >= :\n",
    "min_len_word = 2\n",
    "\n",
    "\n",
    "#load the list_unique words (please refer to 2.8.4 to refresh the list)\n",
    "with open(\"file.txt\", 'r', encoding=\"utf-8\") as f:\n",
    "    List_unique_words = [line.rstrip('\\n') for line in f]"
   ]
  },
  {
   "cell_type": "markdown",
   "id": "6121fd46",
   "metadata": {},
   "source": [
    "#### <font color = brown>2.8.2 Applications sur Body</font>"
   ]
  },
  {
   "cell_type": "code",
   "execution_count": 78,
   "id": "b4d40fcc",
   "metadata": {},
   "outputs": [
    {
     "data": {
      "text/plain": [
       "0    When typing variables in Bash, what is the dif...\n",
       "1    For those of us who use standard shared hostin...\n",
       "2    I was just reading this fantastic article «Gen...\n",
       "3    Using C# .NET 3.5 and WCF, I'm trying to write...\n",
       "4    Following on from my previous question I have ...\n",
       "Name: Body, dtype: object"
      ]
     },
     "execution_count": 78,
     "metadata": {},
     "output_type": "execute_result"
    }
   ],
   "source": [
    "df[\"Body\"].head(5)"
   ]
  },
  {
   "cell_type": "code",
   "execution_count": 79,
   "id": "51cddc13",
   "metadata": {},
   "outputs": [],
   "source": [
    "df['Body'] = df['Body'].apply(lambda x: clean_text(x))\n",
    "df['Body'] = df['Body'].apply(lambda x: clean_punct(x))\n",
    "df['Body'] = df['Body'].apply(lambda x: lemitizeWords(x))\n",
    "df['Body'] = df['Body'].apply(lambda x: stopWordsRemove(x))\n",
    "df['Body'] = df['Body'].apply(lambda x: extraWord(x))\n",
    "df['Body'] = df['Body'].apply(lambda x: lenWord(x))\n",
    "df['Body'] = df['Body'].apply(lambda x: rare_words(x))"
   ]
  },
  {
   "cell_type": "code",
   "execution_count": 80,
   "id": "c1698580",
   "metadata": {},
   "outputs": [
    {
     "data": {
      "text/plain": [
       "0    type variables bash difference declare inside ...\n",
       "1    us standard share host package godaddy network...\n",
       "2    read fantastic article clearly highlight funct...\n",
       "3    c# .net wcf try write wcf configuration client...\n",
       "4    follow previous question work object model ser...\n",
       "Name: Body, dtype: object"
      ]
     },
     "execution_count": 80,
     "metadata": {},
     "output_type": "execute_result"
    }
   ],
   "source": [
    "df[\"Body\"].head(5)"
   ]
  },
  {
   "cell_type": "markdown",
   "id": "acdde03d",
   "metadata": {},
   "source": [
    "#### <font color = brown>2.8.3 Applications sur Title</font>"
   ]
  },
  {
   "cell_type": "code",
   "execution_count": 81,
   "id": "1f86aba5",
   "metadata": {},
   "outputs": [
    {
     "data": {
      "text/plain": [
       "0    Differences between declare, typeset and local...\n",
       "1    Dealing with PHP server and MySQL server in di...\n",
       "2    Difference between async/await and ES6 yield w...\n",
       "3    Loading System.ServiceModel configuration sect...\n",
       "4                XML Serialization and Inherited Types\n",
       "Name: Title, dtype: object"
      ]
     },
     "execution_count": 81,
     "metadata": {},
     "output_type": "execute_result"
    }
   ],
   "source": [
    "df[\"Title\"].head(5)"
   ]
  },
  {
   "cell_type": "code",
   "execution_count": 82,
   "id": "58ea9af7",
   "metadata": {},
   "outputs": [],
   "source": [
    "df['Title'] = df['Title'].apply(lambda x: clean_text(x))\n",
    "df['Title'] = df['Title'].apply(lambda x: clean_punct(x))\n",
    "df['Title'] = df['Title'].apply(lambda x: lemitizeWords(x)) \n",
    "df['Title'] = df['Title'].apply(lambda x: stopWordsRemove(x))\n",
    "df['Title'] = df['Title'].apply(lambda x: extraWord(x))\n",
    "df['Title'] = df['Title'].apply(lambda x: lenWord(x))\n",
    "df['Title'] = df['Title'].apply(lambda x: rare_words(x))"
   ]
  },
  {
   "cell_type": "code",
   "execution_count": 83,
   "id": "b476d2db",
   "metadata": {},
   "outputs": [
    {
     "data": {
      "text/plain": [
       "0             differences declare local variable bash\n",
       "1    deal php server mysql server different time zone\n",
       "2           difference asyncawait es yield generators\n",
       "3     load configuration section configurationmanager\n",
       "4                      xml serialization inherit type\n",
       "Name: Title, dtype: object"
      ]
     },
     "execution_count": 83,
     "metadata": {},
     "output_type": "execute_result"
    }
   ],
   "source": [
    "df[\"Title\"].head(5)"
   ]
  },
  {
   "cell_type": "markdown",
   "id": "a2c4ce49",
   "metadata": {},
   "source": [
    "#### <font color = brown>2.8.4 Création list unique words (A ne lancer qu'une fois pour obtenir la liste ou pour la refresh)</font>"
   ]
  },
  {
   "cell_type": "code",
   "execution_count": 84,
   "id": "9f34b621",
   "metadata": {},
   "outputs": [
    {
     "data": {
      "text/plain": [
       "'#concaténate words\\nraw_corpus_title = \"\".join(df.Title.values)\\nraw_corpus_body = \"\".join(df.Body.values)\\n\\n#Tokenize\\ntitle_tokens=token.tokenize(raw_corpus_title)\\nbody_tokens=token.tokenize(raw_corpus_body)\\n\\n#Calcul frequency\\ntitle_freq = pd.Series(title_tokens).value_counts()\\nbody_freq = pd.Series(body_tokens).value_counts()\\n\\n#filter on unique words\\nlist_unique_words_title = title_freq[title_freq == 1]\\nlist_unique_words_body = body_freq[body_freq == 1]\\n\\n#list creation\\nlist_title = list_unique_words_title.index.tolist()\\nlist_body = list_unique_words_body.index.tolist()\\n\\n#list concatenation\\nList_unique_words = list_title + list_body\\n\\n#remove duplicates\\nList_unique_words = list(dict.fromkeys(List_unique_words))\\n\\n#save to txt\\nwith open(\"file.txt\", \"w\", encoding=\"utf-8\") as f:\\n    for s in List_unique_words:\\n        f.write(str(s) +\"\\n\")'"
      ]
     },
     "execution_count": 84,
     "metadata": {},
     "output_type": "execute_result"
    }
   ],
   "source": [
    "\"\"\"#concaténate words\n",
    "raw_corpus_title = \"\".join(df.Title.values)\n",
    "raw_corpus_body = \"\".join(df.Body.values)\n",
    "\n",
    "#Tokenize\n",
    "title_tokens=token.tokenize(raw_corpus_title)\n",
    "body_tokens=token.tokenize(raw_corpus_body)\n",
    "\n",
    "#Calcul frequency\n",
    "title_freq = pd.Series(title_tokens).value_counts()\n",
    "body_freq = pd.Series(body_tokens).value_counts()\n",
    "\n",
    "#filter on unique words\n",
    "list_unique_words_title = title_freq[title_freq == 1]\n",
    "list_unique_words_body = body_freq[body_freq == 1]\n",
    "\n",
    "#list creation\n",
    "list_title = list_unique_words_title.index.tolist()\n",
    "list_body = list_unique_words_body.index.tolist()\n",
    "\n",
    "#list concatenation\n",
    "List_unique_words = list_title + list_body\n",
    "\n",
    "#remove duplicates\n",
    "List_unique_words = list(dict.fromkeys(List_unique_words))\n",
    "\n",
    "#save to txt\n",
    "with open(\"file.txt\", \"w\", encoding=\"utf-8\") as f:\n",
    "    for s in List_unique_words:\n",
    "        f.write(str(s) +\"\\n\")\"\"\"\n"
   ]
  },
  {
   "cell_type": "markdown",
   "id": "d61f9b20",
   "metadata": {},
   "source": [
    "### <font color = grey>2.9. Visualisation</font>"
   ]
  },
  {
   "cell_type": "code",
   "execution_count": 88,
   "id": "d49102e6",
   "metadata": {},
   "outputs": [],
   "source": [
    "def plot_20_most_frequent_tokens(columns):\n",
    "    raw_corpus = \"\".join(columns.values)\n",
    "    words=token.tokenize(raw_corpus)\n",
    "    use_wordcloud(words)\n",
    "    frequency = pd.Series(words).value_counts()\n",
    "    plt.figure(figsize=(10,6))\n",
    "    barplot = sns.barplot(x=frequency.head(20).values, y=frequency.head(20).index)\n",
    "    "
   ]
  },
  {
   "cell_type": "code",
   "execution_count": 89,
   "id": "3e7dfee1",
   "metadata": {},
   "outputs": [
    {
     "data": {
      "image/png": "[encoded data removed]",
      "text/plain": [
       "<Figure size 720x720 with 1 Axes>"
      ]
     },
     "metadata": {},
     "output_type": "display_data"
    },
    {
     "data": {
      "image/png": "[encoded data removed]",
      "text/plain": [
       "<Figure size 720x432 with 1 Axes>"
      ]
     },
     "metadata": {},
     "output_type": "display_data"
    }
   ],
   "source": [
    "plot_20_most_frequent_tokens(df[\"Title\"])"
   ]
  },
  {
   "cell_type": "code",
   "execution_count": 90,
   "id": "bccab06f",
   "metadata": {},
   "outputs": [
    {
     "data": {
      "image/png": "[encoded data removed]",
      "text/plain": [
       "<Figure size 720x720 with 1 Axes>"
      ]
     },
     "metadata": {},
     "output_type": "display_data"
    },
    {
     "data": {
      "image/png": "[encoded data removed]",
      "text/plain": [
       "<Figure size 720x432 with 1 Axes>"
      ]
     },
     "metadata": {},
     "output_type": "display_data"
    }
   ],
   "source": [
    "plot_20_most_frequent_tokens(df[\"Body\"])"
   ]
  },
  {
   "cell_type": "markdown",
   "id": "902c68af",
   "metadata": {},
   "source": [
    "## <font color = purple>3. delete Nan & Save results as CSV</font>"
   ]
  },
  {
   "cell_type": "code",
   "execution_count": null,
   "id": "938dd487",
   "metadata": {},
   "outputs": [],
   "source": [
    "#display Nan\n",
    "is_NaN = df.isnull()\n",
    "row_has_NaN = is_NaN.any(axis=1)\n",
    "rows_with_NaN = df[row_has_NaN]\n",
    "rows_with_NaN"
   ]
  },
  {
   "cell_type": "code",
   "execution_count": null,
   "id": "6eec2a28",
   "metadata": {},
   "outputs": [],
   "source": [
    "#delete nan\n",
    "df = df.dropna()"
   ]
  },
  {
   "cell_type": "code",
   "execution_count": 91,
   "id": "6f0ed783",
   "metadata": {},
   "outputs": [],
   "source": [
    "df.to_csv(\"cleaned/df_post_processing.csv\", index = False)"
   ]
  },
  {
   "cell_type": "markdown",
   "id": "0be23017",
   "metadata": {},
   "source": [
    "# <font color = green>Partie 3 : Features Extraction</font>"
   ]
  },
  {
   "cell_type": "markdown",
   "id": "d1227864",
   "metadata": {},
   "source": [
    "## <font color = purple>1. Librairies and loading</font>"
   ]
  },
  {
   "cell_type": "code",
   "execution_count": 111,
   "id": "135e64d2",
   "metadata": {},
   "outputs": [],
   "source": [
    "#Feature extraction\n",
    "from sklearn.feature_extraction.text import CountVectorizer #pour le bag of word et n-grams\n",
    "from sklearn.feature_extraction.text import TfidfVectorizer #pour le tf idf\n",
    "\n",
    "\n",
    "#Train Test\n",
    "from sklearn.model_selection import train_test_split\n",
    "\n",
    "#Gensim & setup login\n",
    "import gensim \n",
    "import logging\n",
    "logging.basicConfig(format='%(asctime)s : %(levelname)s : %(message)s', level=logging.INFO) #set up login\n",
    "from gensim.models.doc2vec import Doc2Vec, TaggedDocument"
   ]
  },
  {
   "cell_type": "code",
   "execution_count": 93,
   "id": "a94ec70c",
   "metadata": {},
   "outputs": [],
   "source": [
    "#load csv\n",
    "data = \"cleaned/\"\n",
    "os.listdir(data)\n",
    "fn = data + 'df_post_processing.csv'\n",
    "df = pd.read_csv(fn)\n",
    "df.head()\n",
    "\n",
    "#create titel + body column\n",
    "df[\"title_body\"] = df[\"Title\"]+\" \"+df[\"Body\"]"
   ]
  },
  {
   "cell_type": "markdown",
   "id": "e5b77ecf",
   "metadata": {},
   "source": [
    "## <font color = purple>2. Bag of words & Bigrams</font>"
   ]
  },
  {
   "cell_type": "code",
   "execution_count": 99,
   "id": "0434e172",
   "metadata": {},
   "outputs": [],
   "source": [
    "#Bag of Words\n",
    "#Initialize\n",
    "CountVec = CountVectorizer(ngram_range=(1,1),\n",
    "                                       analyzer = 'word', #AJOUTER LES COMMENTAIRES !\n",
    "                                       min_df=0.0,\n",
    "                                       max_df = 1.0,\n",
    "                                       strip_accents = None,\n",
    "                                       encoding = 'utf-8', \n",
    "                                       preprocessor=None,\n",
    "                                       token_pattern=r\"(?u)\\S\\S+\",\n",
    "                                       max_features=1000)\n",
    "\n",
    "#transform\n",
    "X_bow = CountVec.fit_transform(df[\"title_body\"])\n",
    "\n",
    "#create dataframe\n",
    "df_X_bow=pd.DataFrame(X_bow.toarray(),columns=CountVec.get_feature_names_out())"
   ]
  },
  {
   "cell_type": "code",
   "execution_count": 100,
   "id": "9f1c6eb7",
   "metadata": {},
   "outputs": [
    {
     "data": {
      "text/html": [
       "<div>\n",
       "<style scoped>\n",
       "    .dataframe tbody tr th:only-of-type {\n",
       "        vertical-align: middle;\n",
       "    }\n",
       "\n",
       "    .dataframe tbody tr th {\n",
       "        vertical-align: top;\n",
       "    }\n",
       "\n",
       "    .dataframe thead th {\n",
       "        text-align: right;\n",
       "    }\n",
       "</style>\n",
       "<table border=\"1\" class=\"dataframe\">\n",
       "  <thead>\n",
       "    <tr style=\"text-align: right;\">\n",
       "      <th></th>\n",
       "      <th>.net</th>\n",
       "      <th>able</th>\n",
       "      <th>accept</th>\n",
       "      <th>access</th>\n",
       "      <th>accord</th>\n",
       "      <th>account</th>\n",
       "      <th>achieve</th>\n",
       "      <th>across</th>\n",
       "      <th>action</th>\n",
       "      <th>active</th>\n",
       "      <th>...</th>\n",
       "      <th>write</th>\n",
       "      <th>wrong</th>\n",
       "      <th>xcode</th>\n",
       "      <th>xml</th>\n",
       "      <th>xmlns</th>\n",
       "      <th>xmm</th>\n",
       "      <th>yes</th>\n",
       "      <th>yet</th>\n",
       "      <th>ymm</th>\n",
       "      <th>zip</th>\n",
       "    </tr>\n",
       "  </thead>\n",
       "  <tbody>\n",
       "    <tr>\n",
       "      <th>0</th>\n",
       "      <td>0</td>\n",
       "      <td>0</td>\n",
       "      <td>0</td>\n",
       "      <td>0</td>\n",
       "      <td>0</td>\n",
       "      <td>0</td>\n",
       "      <td>0</td>\n",
       "      <td>1</td>\n",
       "      <td>0</td>\n",
       "      <td>0</td>\n",
       "      <td>...</td>\n",
       "      <td>0</td>\n",
       "      <td>0</td>\n",
       "      <td>0</td>\n",
       "      <td>0</td>\n",
       "      <td>0</td>\n",
       "      <td>0</td>\n",
       "      <td>0</td>\n",
       "      <td>0</td>\n",
       "      <td>0</td>\n",
       "      <td>0</td>\n",
       "    </tr>\n",
       "    <tr>\n",
       "      <th>1</th>\n",
       "      <td>0</td>\n",
       "      <td>0</td>\n",
       "      <td>0</td>\n",
       "      <td>0</td>\n",
       "      <td>0</td>\n",
       "      <td>0</td>\n",
       "      <td>0</td>\n",
       "      <td>0</td>\n",
       "      <td>0</td>\n",
       "      <td>0</td>\n",
       "      <td>...</td>\n",
       "      <td>0</td>\n",
       "      <td>0</td>\n",
       "      <td>0</td>\n",
       "      <td>0</td>\n",
       "      <td>0</td>\n",
       "      <td>0</td>\n",
       "      <td>0</td>\n",
       "      <td>0</td>\n",
       "      <td>0</td>\n",
       "      <td>0</td>\n",
       "    </tr>\n",
       "    <tr>\n",
       "      <th>2</th>\n",
       "      <td>0</td>\n",
       "      <td>0</td>\n",
       "      <td>0</td>\n",
       "      <td>0</td>\n",
       "      <td>0</td>\n",
       "      <td>0</td>\n",
       "      <td>0</td>\n",
       "      <td>0</td>\n",
       "      <td>0</td>\n",
       "      <td>0</td>\n",
       "      <td>...</td>\n",
       "      <td>0</td>\n",
       "      <td>0</td>\n",
       "      <td>0</td>\n",
       "      <td>0</td>\n",
       "      <td>0</td>\n",
       "      <td>0</td>\n",
       "      <td>0</td>\n",
       "      <td>0</td>\n",
       "      <td>0</td>\n",
       "      <td>0</td>\n",
       "    </tr>\n",
       "    <tr>\n",
       "      <th>3</th>\n",
       "      <td>1</td>\n",
       "      <td>0</td>\n",
       "      <td>0</td>\n",
       "      <td>0</td>\n",
       "      <td>0</td>\n",
       "      <td>0</td>\n",
       "      <td>0</td>\n",
       "      <td>0</td>\n",
       "      <td>0</td>\n",
       "      <td>0</td>\n",
       "      <td>...</td>\n",
       "      <td>2</td>\n",
       "      <td>0</td>\n",
       "      <td>0</td>\n",
       "      <td>0</td>\n",
       "      <td>0</td>\n",
       "      <td>0</td>\n",
       "      <td>0</td>\n",
       "      <td>0</td>\n",
       "      <td>0</td>\n",
       "      <td>0</td>\n",
       "    </tr>\n",
       "    <tr>\n",
       "      <th>4</th>\n",
       "      <td>0</td>\n",
       "      <td>0</td>\n",
       "      <td>0</td>\n",
       "      <td>0</td>\n",
       "      <td>0</td>\n",
       "      <td>0</td>\n",
       "      <td>0</td>\n",
       "      <td>1</td>\n",
       "      <td>0</td>\n",
       "      <td>0</td>\n",
       "      <td>...</td>\n",
       "      <td>0</td>\n",
       "      <td>0</td>\n",
       "      <td>0</td>\n",
       "      <td>4</td>\n",
       "      <td>0</td>\n",
       "      <td>0</td>\n",
       "      <td>0</td>\n",
       "      <td>1</td>\n",
       "      <td>0</td>\n",
       "      <td>0</td>\n",
       "    </tr>\n",
       "  </tbody>\n",
       "</table>\n",
       "<p>5 rows × 1000 columns</p>\n",
       "</div>"
      ],
      "text/plain": [
       "   .net  able  accept  access  accord  account  achieve  across  action  \\\n",
       "0     0     0       0       0       0        0        0       1       0   \n",
       "1     0     0       0       0       0        0        0       0       0   \n",
       "2     0     0       0       0       0        0        0       0       0   \n",
       "3     1     0       0       0       0        0        0       0       0   \n",
       "4     0     0       0       0       0        0        0       1       0   \n",
       "\n",
       "   active  ...  write  wrong  xcode  xml  xmlns  xmm  yes  yet  ymm  zip  \n",
       "0       0  ...      0      0      0    0      0    0    0    0    0    0  \n",
       "1       0  ...      0      0      0    0      0    0    0    0    0    0  \n",
       "2       0  ...      0      0      0    0      0    0    0    0    0    0  \n",
       "3       0  ...      2      0      0    0      0    0    0    0    0    0  \n",
       "4       0  ...      0      0      0    4      0    0    0    1    0    0  \n",
       "\n",
       "[5 rows x 1000 columns]"
      ]
     },
     "execution_count": 100,
     "metadata": {},
     "output_type": "execute_result"
    }
   ],
   "source": [
    "df_X_bow.head(5)"
   ]
  },
  {
   "cell_type": "code",
   "execution_count": 101,
   "id": "9f242c04",
   "metadata": {},
   "outputs": [],
   "source": [
    "#Avec les bigram\n",
    "#Initialize\n",
    "CountVec = CountVectorizer(ngram_range=(2,2),\n",
    "                                       analyzer = 'word',\n",
    "                                       min_df=0.0,\n",
    "                                       max_df = 1.0,\n",
    "                                       strip_accents = None,\n",
    "                                       encoding = 'utf-8', \n",
    "                                       preprocessor=None,\n",
    "                                       token_pattern=r\"(?u)\\S\\S+\",\n",
    "                                       max_features=1000) # to use bigrams ngram_range=(2,2)\n",
    "\n",
    "#transform\n",
    "X_bigram = CountVec.fit_transform(df[\"title_body\"])\n",
    "\n",
    "#create dataframe\n",
    "df_X_bigram=pd.DataFrame(X_bigram.toarray(),columns=CountVec.get_feature_names_out())"
   ]
  },
  {
   "cell_type": "code",
   "execution_count": 102,
   "id": "6031ad7b",
   "metadata": {},
   "outputs": [
    {
     "data": {
      "text/html": [
       "<div>\n",
       "<style scoped>\n",
       "    .dataframe tbody tr th:only-of-type {\n",
       "        vertical-align: middle;\n",
       "    }\n",
       "\n",
       "    .dataframe tbody tr th {\n",
       "        vertical-align: top;\n",
       "    }\n",
       "\n",
       "    .dataframe thead th {\n",
       "        text-align: right;\n",
       "    }\n",
       "</style>\n",
       "<table border=\"1\" class=\"dataframe\">\n",
       "  <thead>\n",
       "    <tr style=\"text-align: right;\">\n",
       "      <th></th>\n",
       "      <th>.net core</th>\n",
       "      <th>.net framework</th>\n",
       "      <th>able find</th>\n",
       "      <th>abstract class</th>\n",
       "      <th>accept answer</th>\n",
       "      <th>access token</th>\n",
       "      <th>action android</th>\n",
       "      <th>action bar</th>\n",
       "      <th>activation lu</th>\n",
       "      <th>activity android</th>\n",
       "      <th>...</th>\n",
       "      <th>work without</th>\n",
       "      <th>wrapcontent android</th>\n",
       "      <th>write code</th>\n",
       "      <th>xml version</th>\n",
       "      <th>xmlns android</th>\n",
       "      <th>xmlns xsi</th>\n",
       "      <th>xmm xmm</th>\n",
       "      <th>xsi httpwwwworgxmlschemainstance</th>\n",
       "      <th>yes check</th>\n",
       "      <th>ymm ymm</th>\n",
       "    </tr>\n",
       "  </thead>\n",
       "  <tbody>\n",
       "    <tr>\n",
       "      <th>0</th>\n",
       "      <td>0</td>\n",
       "      <td>0</td>\n",
       "      <td>0</td>\n",
       "      <td>0</td>\n",
       "      <td>0</td>\n",
       "      <td>0</td>\n",
       "      <td>0</td>\n",
       "      <td>0</td>\n",
       "      <td>0</td>\n",
       "      <td>0</td>\n",
       "      <td>...</td>\n",
       "      <td>0</td>\n",
       "      <td>0</td>\n",
       "      <td>0</td>\n",
       "      <td>0</td>\n",
       "      <td>0</td>\n",
       "      <td>0</td>\n",
       "      <td>0</td>\n",
       "      <td>0</td>\n",
       "      <td>0</td>\n",
       "      <td>0</td>\n",
       "    </tr>\n",
       "    <tr>\n",
       "      <th>1</th>\n",
       "      <td>0</td>\n",
       "      <td>0</td>\n",
       "      <td>0</td>\n",
       "      <td>0</td>\n",
       "      <td>0</td>\n",
       "      <td>0</td>\n",
       "      <td>0</td>\n",
       "      <td>0</td>\n",
       "      <td>0</td>\n",
       "      <td>0</td>\n",
       "      <td>...</td>\n",
       "      <td>0</td>\n",
       "      <td>0</td>\n",
       "      <td>0</td>\n",
       "      <td>0</td>\n",
       "      <td>0</td>\n",
       "      <td>0</td>\n",
       "      <td>0</td>\n",
       "      <td>0</td>\n",
       "      <td>0</td>\n",
       "      <td>0</td>\n",
       "    </tr>\n",
       "    <tr>\n",
       "      <th>2</th>\n",
       "      <td>0</td>\n",
       "      <td>0</td>\n",
       "      <td>0</td>\n",
       "      <td>0</td>\n",
       "      <td>0</td>\n",
       "      <td>0</td>\n",
       "      <td>0</td>\n",
       "      <td>0</td>\n",
       "      <td>0</td>\n",
       "      <td>0</td>\n",
       "      <td>...</td>\n",
       "      <td>0</td>\n",
       "      <td>0</td>\n",
       "      <td>0</td>\n",
       "      <td>0</td>\n",
       "      <td>0</td>\n",
       "      <td>0</td>\n",
       "      <td>0</td>\n",
       "      <td>0</td>\n",
       "      <td>0</td>\n",
       "      <td>0</td>\n",
       "    </tr>\n",
       "    <tr>\n",
       "      <th>3</th>\n",
       "      <td>0</td>\n",
       "      <td>0</td>\n",
       "      <td>0</td>\n",
       "      <td>0</td>\n",
       "      <td>0</td>\n",
       "      <td>0</td>\n",
       "      <td>0</td>\n",
       "      <td>0</td>\n",
       "      <td>0</td>\n",
       "      <td>0</td>\n",
       "      <td>...</td>\n",
       "      <td>0</td>\n",
       "      <td>0</td>\n",
       "      <td>0</td>\n",
       "      <td>0</td>\n",
       "      <td>0</td>\n",
       "      <td>0</td>\n",
       "      <td>0</td>\n",
       "      <td>0</td>\n",
       "      <td>0</td>\n",
       "      <td>0</td>\n",
       "    </tr>\n",
       "    <tr>\n",
       "      <th>4</th>\n",
       "      <td>0</td>\n",
       "      <td>0</td>\n",
       "      <td>0</td>\n",
       "      <td>0</td>\n",
       "      <td>0</td>\n",
       "      <td>0</td>\n",
       "      <td>0</td>\n",
       "      <td>0</td>\n",
       "      <td>0</td>\n",
       "      <td>0</td>\n",
       "      <td>...</td>\n",
       "      <td>0</td>\n",
       "      <td>0</td>\n",
       "      <td>0</td>\n",
       "      <td>0</td>\n",
       "      <td>0</td>\n",
       "      <td>0</td>\n",
       "      <td>0</td>\n",
       "      <td>0</td>\n",
       "      <td>0</td>\n",
       "      <td>0</td>\n",
       "    </tr>\n",
       "  </tbody>\n",
       "</table>\n",
       "<p>5 rows × 1000 columns</p>\n",
       "</div>"
      ],
      "text/plain": [
       "   .net core  .net framework  able find  abstract class  accept answer  \\\n",
       "0          0               0          0               0              0   \n",
       "1          0               0          0               0              0   \n",
       "2          0               0          0               0              0   \n",
       "3          0               0          0               0              0   \n",
       "4          0               0          0               0              0   \n",
       "\n",
       "   access token  action android  action bar  activation lu  activity android  \\\n",
       "0             0               0           0              0                 0   \n",
       "1             0               0           0              0                 0   \n",
       "2             0               0           0              0                 0   \n",
       "3             0               0           0              0                 0   \n",
       "4             0               0           0              0                 0   \n",
       "\n",
       "   ...  work without  wrapcontent android  write code  xml version  \\\n",
       "0  ...             0                    0           0            0   \n",
       "1  ...             0                    0           0            0   \n",
       "2  ...             0                    0           0            0   \n",
       "3  ...             0                    0           0            0   \n",
       "4  ...             0                    0           0            0   \n",
       "\n",
       "   xmlns android  xmlns xsi  xmm xmm  xsi httpwwwworgxmlschemainstance  \\\n",
       "0              0          0        0                                 0   \n",
       "1              0          0        0                                 0   \n",
       "2              0          0        0                                 0   \n",
       "3              0          0        0                                 0   \n",
       "4              0          0        0                                 0   \n",
       "\n",
       "   yes check  ymm ymm  \n",
       "0          0        0  \n",
       "1          0        0  \n",
       "2          0        0  \n",
       "3          0        0  \n",
       "4          0        0  \n",
       "\n",
       "[5 rows x 1000 columns]"
      ]
     },
     "execution_count": 102,
     "metadata": {},
     "output_type": "execute_result"
    }
   ],
   "source": [
    "df_X_bigram.head(5)"
   ]
  },
  {
   "cell_type": "markdown",
   "id": "2a2e5672",
   "metadata": {},
   "source": [
    "## <font color = purple>3. TF-IDF</font>"
   ]
  },
  {
   "cell_type": "code",
   "execution_count": 103,
   "id": "7e30bdb8",
   "metadata": {},
   "outputs": [],
   "source": [
    "tfidf = TfidfVectorizer(analyzer = 'word',\n",
    "                                       min_df=0.0,\n",
    "                                       max_df = 1.0,\n",
    "                                       strip_accents = None,\n",
    "                                       encoding = 'utf-8', \n",
    "                                       preprocessor=None,\n",
    "                                       token_pattern=r\"(?u)\\S\\S+\",\n",
    "                                       max_features=1000)"
   ]
  },
  {
   "cell_type": "code",
   "execution_count": 104,
   "id": "29ce506a",
   "metadata": {},
   "outputs": [],
   "source": [
    "X_tfidf = tfidf.fit_transform(df[\"title_body\"])"
   ]
  },
  {
   "cell_type": "code",
   "execution_count": 105,
   "id": "b9dc18a4",
   "metadata": {},
   "outputs": [],
   "source": [
    "#create dataframe\n",
    "df_X_tfidf=pd.DataFrame(X_tfidf.toarray(),columns=tfidf.get_feature_names_out())"
   ]
  },
  {
   "cell_type": "code",
   "execution_count": 106,
   "id": "affe949d",
   "metadata": {},
   "outputs": [
    {
     "data": {
      "text/html": [
       "<div>\n",
       "<style scoped>\n",
       "    .dataframe tbody tr th:only-of-type {\n",
       "        vertical-align: middle;\n",
       "    }\n",
       "\n",
       "    .dataframe tbody tr th {\n",
       "        vertical-align: top;\n",
       "    }\n",
       "\n",
       "    .dataframe thead th {\n",
       "        text-align: right;\n",
       "    }\n",
       "</style>\n",
       "<table border=\"1\" class=\"dataframe\">\n",
       "  <thead>\n",
       "    <tr style=\"text-align: right;\">\n",
       "      <th></th>\n",
       "      <th>.net</th>\n",
       "      <th>able</th>\n",
       "      <th>accept</th>\n",
       "      <th>access</th>\n",
       "      <th>accord</th>\n",
       "      <th>account</th>\n",
       "      <th>achieve</th>\n",
       "      <th>across</th>\n",
       "      <th>action</th>\n",
       "      <th>active</th>\n",
       "      <th>...</th>\n",
       "      <th>write</th>\n",
       "      <th>wrong</th>\n",
       "      <th>xcode</th>\n",
       "      <th>xml</th>\n",
       "      <th>xmlns</th>\n",
       "      <th>xmm</th>\n",
       "      <th>yes</th>\n",
       "      <th>yet</th>\n",
       "      <th>ymm</th>\n",
       "      <th>zip</th>\n",
       "    </tr>\n",
       "  </thead>\n",
       "  <tbody>\n",
       "    <tr>\n",
       "      <th>0</th>\n",
       "      <td>0.000000</td>\n",
       "      <td>0.0</td>\n",
       "      <td>0.0</td>\n",
       "      <td>0.0</td>\n",
       "      <td>0.0</td>\n",
       "      <td>0.0</td>\n",
       "      <td>0.0</td>\n",
       "      <td>0.162019</td>\n",
       "      <td>0.0</td>\n",
       "      <td>0.0</td>\n",
       "      <td>...</td>\n",
       "      <td>0.000000</td>\n",
       "      <td>0.0</td>\n",
       "      <td>0.0</td>\n",
       "      <td>0.000000</td>\n",
       "      <td>0.0</td>\n",
       "      <td>0.0</td>\n",
       "      <td>0.0</td>\n",
       "      <td>0.000000</td>\n",
       "      <td>0.0</td>\n",
       "      <td>0.0</td>\n",
       "    </tr>\n",
       "    <tr>\n",
       "      <th>1</th>\n",
       "      <td>0.000000</td>\n",
       "      <td>0.0</td>\n",
       "      <td>0.0</td>\n",
       "      <td>0.0</td>\n",
       "      <td>0.0</td>\n",
       "      <td>0.0</td>\n",
       "      <td>0.0</td>\n",
       "      <td>0.000000</td>\n",
       "      <td>0.0</td>\n",
       "      <td>0.0</td>\n",
       "      <td>...</td>\n",
       "      <td>0.000000</td>\n",
       "      <td>0.0</td>\n",
       "      <td>0.0</td>\n",
       "      <td>0.000000</td>\n",
       "      <td>0.0</td>\n",
       "      <td>0.0</td>\n",
       "      <td>0.0</td>\n",
       "      <td>0.000000</td>\n",
       "      <td>0.0</td>\n",
       "      <td>0.0</td>\n",
       "    </tr>\n",
       "    <tr>\n",
       "      <th>2</th>\n",
       "      <td>0.000000</td>\n",
       "      <td>0.0</td>\n",
       "      <td>0.0</td>\n",
       "      <td>0.0</td>\n",
       "      <td>0.0</td>\n",
       "      <td>0.0</td>\n",
       "      <td>0.0</td>\n",
       "      <td>0.000000</td>\n",
       "      <td>0.0</td>\n",
       "      <td>0.0</td>\n",
       "      <td>...</td>\n",
       "      <td>0.000000</td>\n",
       "      <td>0.0</td>\n",
       "      <td>0.0</td>\n",
       "      <td>0.000000</td>\n",
       "      <td>0.0</td>\n",
       "      <td>0.0</td>\n",
       "      <td>0.0</td>\n",
       "      <td>0.000000</td>\n",
       "      <td>0.0</td>\n",
       "      <td>0.0</td>\n",
       "    </tr>\n",
       "    <tr>\n",
       "      <th>3</th>\n",
       "      <td>0.118750</td>\n",
       "      <td>0.0</td>\n",
       "      <td>0.0</td>\n",
       "      <td>0.0</td>\n",
       "      <td>0.0</td>\n",
       "      <td>0.0</td>\n",
       "      <td>0.0</td>\n",
       "      <td>0.000000</td>\n",
       "      <td>0.0</td>\n",
       "      <td>0.0</td>\n",
       "      <td>...</td>\n",
       "      <td>0.169047</td>\n",
       "      <td>0.0</td>\n",
       "      <td>0.0</td>\n",
       "      <td>0.000000</td>\n",
       "      <td>0.0</td>\n",
       "      <td>0.0</td>\n",
       "      <td>0.0</td>\n",
       "      <td>0.000000</td>\n",
       "      <td>0.0</td>\n",
       "      <td>0.0</td>\n",
       "    </tr>\n",
       "    <tr>\n",
       "      <th>4</th>\n",
       "      <td>0.000000</td>\n",
       "      <td>0.0</td>\n",
       "      <td>0.0</td>\n",
       "      <td>0.0</td>\n",
       "      <td>0.0</td>\n",
       "      <td>0.0</td>\n",
       "      <td>0.0</td>\n",
       "      <td>0.125322</td>\n",
       "      <td>0.0</td>\n",
       "      <td>0.0</td>\n",
       "      <td>...</td>\n",
       "      <td>0.000000</td>\n",
       "      <td>0.0</td>\n",
       "      <td>0.0</td>\n",
       "      <td>0.480844</td>\n",
       "      <td>0.0</td>\n",
       "      <td>0.0</td>\n",
       "      <td>0.0</td>\n",
       "      <td>0.116814</td>\n",
       "      <td>0.0</td>\n",
       "      <td>0.0</td>\n",
       "    </tr>\n",
       "    <tr>\n",
       "      <th>5</th>\n",
       "      <td>0.000000</td>\n",
       "      <td>0.0</td>\n",
       "      <td>0.0</td>\n",
       "      <td>0.0</td>\n",
       "      <td>0.0</td>\n",
       "      <td>0.0</td>\n",
       "      <td>0.0</td>\n",
       "      <td>0.000000</td>\n",
       "      <td>0.0</td>\n",
       "      <td>0.0</td>\n",
       "      <td>...</td>\n",
       "      <td>0.193065</td>\n",
       "      <td>0.0</td>\n",
       "      <td>0.0</td>\n",
       "      <td>0.000000</td>\n",
       "      <td>0.0</td>\n",
       "      <td>0.0</td>\n",
       "      <td>0.0</td>\n",
       "      <td>0.000000</td>\n",
       "      <td>0.0</td>\n",
       "      <td>0.0</td>\n",
       "    </tr>\n",
       "    <tr>\n",
       "      <th>6</th>\n",
       "      <td>0.000000</td>\n",
       "      <td>0.0</td>\n",
       "      <td>0.0</td>\n",
       "      <td>0.0</td>\n",
       "      <td>0.0</td>\n",
       "      <td>0.0</td>\n",
       "      <td>0.0</td>\n",
       "      <td>0.000000</td>\n",
       "      <td>0.0</td>\n",
       "      <td>0.0</td>\n",
       "      <td>...</td>\n",
       "      <td>0.000000</td>\n",
       "      <td>0.0</td>\n",
       "      <td>0.0</td>\n",
       "      <td>0.000000</td>\n",
       "      <td>0.0</td>\n",
       "      <td>0.0</td>\n",
       "      <td>0.0</td>\n",
       "      <td>0.000000</td>\n",
       "      <td>0.0</td>\n",
       "      <td>0.0</td>\n",
       "    </tr>\n",
       "    <tr>\n",
       "      <th>7</th>\n",
       "      <td>0.000000</td>\n",
       "      <td>0.0</td>\n",
       "      <td>0.0</td>\n",
       "      <td>0.0</td>\n",
       "      <td>0.0</td>\n",
       "      <td>0.0</td>\n",
       "      <td>0.0</td>\n",
       "      <td>0.000000</td>\n",
       "      <td>0.0</td>\n",
       "      <td>0.0</td>\n",
       "      <td>...</td>\n",
       "      <td>0.000000</td>\n",
       "      <td>0.0</td>\n",
       "      <td>0.0</td>\n",
       "      <td>0.000000</td>\n",
       "      <td>0.0</td>\n",
       "      <td>0.0</td>\n",
       "      <td>0.0</td>\n",
       "      <td>0.000000</td>\n",
       "      <td>0.0</td>\n",
       "      <td>0.0</td>\n",
       "    </tr>\n",
       "    <tr>\n",
       "      <th>8</th>\n",
       "      <td>0.000000</td>\n",
       "      <td>0.0</td>\n",
       "      <td>0.0</td>\n",
       "      <td>0.0</td>\n",
       "      <td>0.0</td>\n",
       "      <td>0.0</td>\n",
       "      <td>0.0</td>\n",
       "      <td>0.000000</td>\n",
       "      <td>0.0</td>\n",
       "      <td>0.0</td>\n",
       "      <td>...</td>\n",
       "      <td>0.000000</td>\n",
       "      <td>0.0</td>\n",
       "      <td>0.0</td>\n",
       "      <td>0.000000</td>\n",
       "      <td>0.0</td>\n",
       "      <td>0.0</td>\n",
       "      <td>0.0</td>\n",
       "      <td>0.000000</td>\n",
       "      <td>0.0</td>\n",
       "      <td>0.0</td>\n",
       "    </tr>\n",
       "    <tr>\n",
       "      <th>9</th>\n",
       "      <td>0.304295</td>\n",
       "      <td>0.0</td>\n",
       "      <td>0.0</td>\n",
       "      <td>0.0</td>\n",
       "      <td>0.0</td>\n",
       "      <td>0.0</td>\n",
       "      <td>0.0</td>\n",
       "      <td>0.000000</td>\n",
       "      <td>0.0</td>\n",
       "      <td>0.0</td>\n",
       "      <td>...</td>\n",
       "      <td>0.000000</td>\n",
       "      <td>0.0</td>\n",
       "      <td>0.0</td>\n",
       "      <td>0.000000</td>\n",
       "      <td>0.0</td>\n",
       "      <td>0.0</td>\n",
       "      <td>0.0</td>\n",
       "      <td>0.000000</td>\n",
       "      <td>0.0</td>\n",
       "      <td>0.0</td>\n",
       "    </tr>\n",
       "  </tbody>\n",
       "</table>\n",
       "<p>10 rows × 1000 columns</p>\n",
       "</div>"
      ],
      "text/plain": [
       "       .net  able  accept  access  accord  account  achieve    across  action  \\\n",
       "0  0.000000   0.0     0.0     0.0     0.0      0.0      0.0  0.162019     0.0   \n",
       "1  0.000000   0.0     0.0     0.0     0.0      0.0      0.0  0.000000     0.0   \n",
       "2  0.000000   0.0     0.0     0.0     0.0      0.0      0.0  0.000000     0.0   \n",
       "3  0.118750   0.0     0.0     0.0     0.0      0.0      0.0  0.000000     0.0   \n",
       "4  0.000000   0.0     0.0     0.0     0.0      0.0      0.0  0.125322     0.0   \n",
       "5  0.000000   0.0     0.0     0.0     0.0      0.0      0.0  0.000000     0.0   \n",
       "6  0.000000   0.0     0.0     0.0     0.0      0.0      0.0  0.000000     0.0   \n",
       "7  0.000000   0.0     0.0     0.0     0.0      0.0      0.0  0.000000     0.0   \n",
       "8  0.000000   0.0     0.0     0.0     0.0      0.0      0.0  0.000000     0.0   \n",
       "9  0.304295   0.0     0.0     0.0     0.0      0.0      0.0  0.000000     0.0   \n",
       "\n",
       "   active  ...     write  wrong  xcode       xml  xmlns  xmm  yes       yet  \\\n",
       "0     0.0  ...  0.000000    0.0    0.0  0.000000    0.0  0.0  0.0  0.000000   \n",
       "1     0.0  ...  0.000000    0.0    0.0  0.000000    0.0  0.0  0.0  0.000000   \n",
       "2     0.0  ...  0.000000    0.0    0.0  0.000000    0.0  0.0  0.0  0.000000   \n",
       "3     0.0  ...  0.169047    0.0    0.0  0.000000    0.0  0.0  0.0  0.000000   \n",
       "4     0.0  ...  0.000000    0.0    0.0  0.480844    0.0  0.0  0.0  0.116814   \n",
       "5     0.0  ...  0.193065    0.0    0.0  0.000000    0.0  0.0  0.0  0.000000   \n",
       "6     0.0  ...  0.000000    0.0    0.0  0.000000    0.0  0.0  0.0  0.000000   \n",
       "7     0.0  ...  0.000000    0.0    0.0  0.000000    0.0  0.0  0.0  0.000000   \n",
       "8     0.0  ...  0.000000    0.0    0.0  0.000000    0.0  0.0  0.0  0.000000   \n",
       "9     0.0  ...  0.000000    0.0    0.0  0.000000    0.0  0.0  0.0  0.000000   \n",
       "\n",
       "   ymm  zip  \n",
       "0  0.0  0.0  \n",
       "1  0.0  0.0  \n",
       "2  0.0  0.0  \n",
       "3  0.0  0.0  \n",
       "4  0.0  0.0  \n",
       "5  0.0  0.0  \n",
       "6  0.0  0.0  \n",
       "7  0.0  0.0  \n",
       "8  0.0  0.0  \n",
       "9  0.0  0.0  \n",
       "\n",
       "[10 rows x 1000 columns]"
      ]
     },
     "execution_count": 106,
     "metadata": {},
     "output_type": "execute_result"
    }
   ],
   "source": [
    "df_X_tfidf.head(10)"
   ]
  },
  {
   "cell_type": "markdown",
   "id": "2a2e5672",
   "metadata": {},
   "source": [
    "## <font color = purple>4. Word2Vec et Doc2Vec</font>"
   ]
  },
  {
   "cell_type": "markdown",
   "id": "fbd79872",
   "metadata": {},
   "source": [
    "### <font color = grey>4.1. Word2Vec</font>"
   ]
  },
  {
   "cell_type": "code",
   "execution_count": 107,
   "id": "a1ff7b00",
   "metadata": {},
   "outputs": [],
   "source": [
    "# Create list of tokens\n",
    "tokens = df[\"title_body\"].values.tolist()\n",
    "\n",
    "# Tokenizing strings in list of strings\n",
    "res = [sub.split() for sub in tokens]"
   ]
  },
  {
   "cell_type": "code",
   "execution_count": 112,
   "id": "ee361c2b",
   "metadata": {},
   "outputs": [
    {
     "name": "stderr",
     "output_type": "stream",
     "text": [
      "2022-10-25 16:48:57,674 : INFO : collecting all words and their counts\n",
      "2022-10-25 16:48:57,675 : INFO : PROGRESS: at sentence #0, processed 0 words, keeping 0 word types\n",
      "2022-10-25 16:48:57,827 : INFO : PROGRESS: at sentence #10000, processed 843061 words, keeping 41469 word types\n",
      "2022-10-25 16:48:57,948 : INFO : PROGRESS: at sentence #20000, processed 1706130 words, keeping 62875 word types\n",
      "2022-10-25 16:48:58,028 : INFO : collected 73858 word types from a corpus of 2276786 raw words and 26054 sentences\n",
      "2022-10-25 16:48:58,029 : INFO : Creating a fresh vocabulary\n",
      "2022-10-25 16:48:58,221 : INFO : Word2Vec lifecycle event {'msg': 'effective_min_count=2 retains 71898 unique words (97.34625903761271%% of original 73858, drops 1960)', 'datetime': '2022-10-25T16:48:58.220659', 'gensim': '4.1.2', 'python': '3.9.12 (main, Apr  4 2022, 05:22:27) [MSC v.1916 64 bit (AMD64)]', 'platform': 'Windows-10-10.0.22000-SP0', 'event': 'prepare_vocab'}\n",
      "2022-10-25 16:48:58,221 : INFO : Word2Vec lifecycle event {'msg': 'effective_min_count=2 leaves 2274826 word corpus (99.91391373629318%% of original 2276786, drops 1960)', 'datetime': '2022-10-25T16:48:58.221770', 'gensim': '4.1.2', 'python': '3.9.12 (main, Apr  4 2022, 05:22:27) [MSC v.1916 64 bit (AMD64)]', 'platform': 'Windows-10-10.0.22000-SP0', 'event': 'prepare_vocab'}\n",
      "2022-10-25 16:48:58,523 : INFO : deleting the raw counts dictionary of 73858 items\n",
      "2022-10-25 16:48:58,525 : INFO : sample=0.001 downsamples 37 most-common words\n",
      "2022-10-25 16:48:58,526 : INFO : Word2Vec lifecycle event {'msg': 'downsampling leaves estimated 2191676.3227584576 word corpus (96.3%% of prior 2274826)', 'datetime': '2022-10-25T16:48:58.526660', 'gensim': '4.1.2', 'python': '3.9.12 (main, Apr  4 2022, 05:22:27) [MSC v.1916 64 bit (AMD64)]', 'platform': 'Windows-10-10.0.22000-SP0', 'event': 'prepare_vocab'}\n",
      "2022-10-25 16:48:59,072 : INFO : estimated required memory for 71898 words and 100 dimensions: 93467400 bytes\n",
      "2022-10-25 16:48:59,072 : INFO : resetting layer weights\n",
      "2022-10-25 16:48:59,099 : INFO : Word2Vec lifecycle event {'update': False, 'trim_rule': 'None', 'datetime': '2022-10-25T16:48:59.099552', 'gensim': '4.1.2', 'python': '3.9.12 (main, Apr  4 2022, 05:22:27) [MSC v.1916 64 bit (AMD64)]', 'platform': 'Windows-10-10.0.22000-SP0', 'event': 'build_vocab'}\n",
      "2022-10-25 16:48:59,100 : INFO : Word2Vec lifecycle event {'msg': 'training model with 10 workers on 71898 vocabulary and 100 features, using sg=0 hs=0 sample=0.001 negative=5 window=10 shrink_windows=True', 'datetime': '2022-10-25T16:48:59.100562', 'gensim': '4.1.2', 'python': '3.9.12 (main, Apr  4 2022, 05:22:27) [MSC v.1916 64 bit (AMD64)]', 'platform': 'Windows-10-10.0.22000-SP0', 'event': 'train'}\n",
      "2022-10-25 16:49:00,104 : INFO : worker thread finished; awaiting finish of 9 more threads\n",
      "2022-10-25 16:49:00,109 : INFO : worker thread finished; awaiting finish of 8 more threads\n",
      "2022-10-25 16:49:00,110 : INFO : EPOCH 1 - PROGRESS: at 97.56% examples, 2123246 words/s, in_qsize 4, out_qsize 7\n",
      "2022-10-25 16:49:00,111 : INFO : worker thread finished; awaiting finish of 7 more threads\n",
      "2022-10-25 16:49:00,112 : INFO : worker thread finished; awaiting finish of 6 more threads\n",
      "2022-10-25 16:49:00,112 : INFO : worker thread finished; awaiting finish of 5 more threads\n",
      "2022-10-25 16:49:00,113 : INFO : worker thread finished; awaiting finish of 4 more threads\n",
      "2022-10-25 16:49:00,117 : INFO : worker thread finished; awaiting finish of 3 more threads\n",
      "2022-10-25 16:49:00,125 : INFO : worker thread finished; awaiting finish of 2 more threads\n",
      "2022-10-25 16:49:00,127 : INFO : worker thread finished; awaiting finish of 1 more threads\n",
      "2022-10-25 16:49:00,129 : INFO : worker thread finished; awaiting finish of 0 more threads\n",
      "2022-10-25 16:49:00,129 : INFO : EPOCH - 1 : training on 2276786 raw words (2192041 effective words) took 1.0s, 2148772 effective words/s\n",
      "2022-10-25 16:49:01,137 : INFO : EPOCH 2 - PROGRESS: at 93.05% examples, 2016501 words/s, in_qsize 16, out_qsize 2\n",
      "2022-10-25 16:49:01,171 : INFO : worker thread finished; awaiting finish of 9 more threads\n",
      "2022-10-25 16:49:01,175 : INFO : worker thread finished; awaiting finish of 8 more threads\n",
      "2022-10-25 16:49:01,177 : INFO : worker thread finished; awaiting finish of 7 more threads\n",
      "2022-10-25 16:49:01,181 : INFO : worker thread finished; awaiting finish of 6 more threads\n",
      "2022-10-25 16:49:01,182 : INFO : worker thread finished; awaiting finish of 5 more threads\n",
      "2022-10-25 16:49:01,188 : INFO : worker thread finished; awaiting finish of 4 more threads\n",
      "2022-10-25 16:49:01,197 : INFO : worker thread finished; awaiting finish of 3 more threads\n",
      "2022-10-25 16:49:01,198 : INFO : worker thread finished; awaiting finish of 2 more threads\n",
      "2022-10-25 16:49:01,201 : INFO : worker thread finished; awaiting finish of 1 more threads\n",
      "2022-10-25 16:49:01,202 : INFO : worker thread finished; awaiting finish of 0 more threads\n",
      "2022-10-25 16:49:01,202 : INFO : EPOCH - 2 : training on 2276786 raw words (2191717 effective words) took 1.1s, 2052409 effective words/s\n",
      "2022-10-25 16:49:02,105 : INFO : worker thread finished; awaiting finish of 9 more threads\n",
      "2022-10-25 16:49:02,116 : INFO : worker thread finished; awaiting finish of 8 more threads\n",
      "2022-10-25 16:49:02,117 : INFO : worker thread finished; awaiting finish of 7 more threads\n",
      "2022-10-25 16:49:02,118 : INFO : worker thread finished; awaiting finish of 6 more threads\n",
      "2022-10-25 16:49:02,122 : INFO : worker thread finished; awaiting finish of 5 more threads\n",
      "2022-10-25 16:49:02,125 : INFO : worker thread finished; awaiting finish of 4 more threads\n",
      "2022-10-25 16:49:02,132 : INFO : worker thread finished; awaiting finish of 3 more threads\n",
      "2022-10-25 16:49:02,138 : INFO : worker thread finished; awaiting finish of 2 more threads\n",
      "2022-10-25 16:49:02,139 : INFO : worker thread finished; awaiting finish of 1 more threads\n",
      "2022-10-25 16:49:02,140 : INFO : worker thread finished; awaiting finish of 0 more threads\n",
      "2022-10-25 16:49:02,140 : INFO : EPOCH - 3 : training on 2276786 raw words (2191945 effective words) took 0.9s, 2349097 effective words/s\n",
      "2022-10-25 16:49:03,105 : INFO : worker thread finished; awaiting finish of 9 more threads\n",
      "2022-10-25 16:49:03,107 : INFO : worker thread finished; awaiting finish of 8 more threads\n",
      "2022-10-25 16:49:03,114 : INFO : worker thread finished; awaiting finish of 7 more threads\n",
      "2022-10-25 16:49:03,116 : INFO : worker thread finished; awaiting finish of 6 more threads\n",
      "2022-10-25 16:49:03,117 : INFO : worker thread finished; awaiting finish of 5 more threads\n",
      "2022-10-25 16:49:03,118 : INFO : worker thread finished; awaiting finish of 4 more threads\n",
      "2022-10-25 16:49:03,129 : INFO : worker thread finished; awaiting finish of 3 more threads\n",
      "2022-10-25 16:49:03,131 : INFO : worker thread finished; awaiting finish of 2 more threads\n",
      "2022-10-25 16:49:03,135 : INFO : worker thread finished; awaiting finish of 1 more threads\n",
      "2022-10-25 16:49:03,136 : INFO : worker thread finished; awaiting finish of 0 more threads\n",
      "2022-10-25 16:49:03,137 : INFO : EPOCH - 4 : training on 2276786 raw words (2191324 effective words) took 1.0s, 2210469 effective words/s\n",
      "2022-10-25 16:49:04,153 : INFO : EPOCH 5 - PROGRESS: at 80.03% examples, 1702658 words/s, in_qsize 19, out_qsize 0\n",
      "2022-10-25 16:49:04,407 : INFO : worker thread finished; awaiting finish of 9 more threads\n",
      "2022-10-25 16:49:04,414 : INFO : worker thread finished; awaiting finish of 8 more threads\n",
      "2022-10-25 16:49:04,424 : INFO : worker thread finished; awaiting finish of 7 more threads\n",
      "2022-10-25 16:49:04,425 : INFO : worker thread finished; awaiting finish of 6 more threads\n",
      "2022-10-25 16:49:04,435 : INFO : worker thread finished; awaiting finish of 5 more threads\n",
      "2022-10-25 16:49:04,445 : INFO : worker thread finished; awaiting finish of 4 more threads\n",
      "2022-10-25 16:49:04,447 : INFO : worker thread finished; awaiting finish of 3 more threads\n",
      "2022-10-25 16:49:04,450 : INFO : worker thread finished; awaiting finish of 2 more threads\n",
      "2022-10-25 16:49:04,456 : INFO : worker thread finished; awaiting finish of 1 more threads\n",
      "2022-10-25 16:49:04,457 : INFO : worker thread finished; awaiting finish of 0 more threads\n",
      "2022-10-25 16:49:04,457 : INFO : EPOCH - 5 : training on 2276786 raw words (2191817 effective words) took 1.3s, 1668717 effective words/s\n",
      "2022-10-25 16:49:04,458 : INFO : Word2Vec lifecycle event {'msg': 'training on 11383930 raw words (10958844 effective words) took 5.4s, 2045356 effective words/s', 'datetime': '2022-10-25T16:49:04.458569', 'gensim': '4.1.2', 'python': '3.9.12 (main, Apr  4 2022, 05:22:27) [MSC v.1916 64 bit (AMD64)]', 'platform': 'Windows-10-10.0.22000-SP0', 'event': 'train'}\n",
      "2022-10-25 16:49:04,459 : INFO : Word2Vec lifecycle event {'params': 'Word2Vec(vocab=71898, vector_size=100, alpha=0.025)', 'datetime': '2022-10-25T16:49:04.459570', 'gensim': '4.1.2', 'python': '3.9.12 (main, Apr  4 2022, 05:22:27) [MSC v.1916 64 bit (AMD64)]', 'platform': 'Windows-10-10.0.22000-SP0', 'event': 'created'}\n",
      "2022-10-25 16:49:04,461 : WARNING : Effective 'alpha' higher than previous training cycles\n",
      "2022-10-25 16:49:04,462 : INFO : Word2Vec lifecycle event {'msg': 'training model with 10 workers on 71898 vocabulary and 100 features, using sg=0 hs=0 sample=0.001 negative=5 window=10 shrink_windows=True', 'datetime': '2022-10-25T16:49:04.462570', 'gensim': '4.1.2', 'python': '3.9.12 (main, Apr  4 2022, 05:22:27) [MSC v.1916 64 bit (AMD64)]', 'platform': 'Windows-10-10.0.22000-SP0', 'event': 'train'}\n",
      "2022-10-25 16:49:05,488 : INFO : EPOCH 1 - PROGRESS: at 71.34% examples, 1499282 words/s, in_qsize 19, out_qsize 0\n",
      "2022-10-25 16:49:05,872 : INFO : worker thread finished; awaiting finish of 9 more threads\n",
      "2022-10-25 16:49:05,914 : INFO : worker thread finished; awaiting finish of 8 more threads\n",
      "2022-10-25 16:49:05,917 : INFO : worker thread finished; awaiting finish of 7 more threads\n",
      "2022-10-25 16:49:05,922 : INFO : worker thread finished; awaiting finish of 6 more threads\n",
      "2022-10-25 16:49:05,923 : INFO : worker thread finished; awaiting finish of 5 more threads\n",
      "2022-10-25 16:49:05,929 : INFO : worker thread finished; awaiting finish of 4 more threads\n",
      "2022-10-25 16:49:05,930 : INFO : worker thread finished; awaiting finish of 3 more threads\n",
      "2022-10-25 16:49:05,931 : INFO : worker thread finished; awaiting finish of 2 more threads\n",
      "2022-10-25 16:49:05,936 : INFO : worker thread finished; awaiting finish of 1 more threads\n",
      "2022-10-25 16:49:05,952 : INFO : worker thread finished; awaiting finish of 0 more threads\n",
      "2022-10-25 16:49:05,953 : INFO : EPOCH - 1 : training on 2276786 raw words (2191769 effective words) took 1.5s, 1478817 effective words/s\n",
      "2022-10-25 16:49:06,975 : INFO : EPOCH 2 - PROGRESS: at 70.10% examples, 1483343 words/s, in_qsize 18, out_qsize 1\n",
      "2022-10-25 16:49:07,408 : INFO : worker thread finished; awaiting finish of 9 more threads\n",
      "2022-10-25 16:49:07,415 : INFO : worker thread finished; awaiting finish of 8 more threads\n",
      "2022-10-25 16:49:07,430 : INFO : worker thread finished; awaiting finish of 7 more threads\n",
      "2022-10-25 16:49:07,433 : INFO : worker thread finished; awaiting finish of 6 more threads\n",
      "2022-10-25 16:49:07,434 : INFO : worker thread finished; awaiting finish of 5 more threads\n",
      "2022-10-25 16:49:07,438 : INFO : worker thread finished; awaiting finish of 4 more threads\n",
      "2022-10-25 16:49:07,439 : INFO : worker thread finished; awaiting finish of 3 more threads\n",
      "2022-10-25 16:49:07,448 : INFO : worker thread finished; awaiting finish of 2 more threads\n",
      "2022-10-25 16:49:07,450 : INFO : worker thread finished; awaiting finish of 1 more threads\n",
      "2022-10-25 16:49:07,453 : INFO : worker thread finished; awaiting finish of 0 more threads\n",
      "2022-10-25 16:49:07,454 : INFO : EPOCH - 2 : training on 2276786 raw words (2191696 effective words) took 1.5s, 1472604 effective words/s\n",
      "2022-10-25 16:49:08,469 : INFO : EPOCH 3 - PROGRESS: at 66.89% examples, 1414541 words/s, in_qsize 19, out_qsize 0\n",
      "2022-10-25 16:49:08,961 : INFO : worker thread finished; awaiting finish of 9 more threads\n",
      "2022-10-25 16:49:08,963 : INFO : worker thread finished; awaiting finish of 8 more threads\n",
      "2022-10-25 16:49:08,971 : INFO : worker thread finished; awaiting finish of 7 more threads\n",
      "2022-10-25 16:49:08,974 : INFO : worker thread finished; awaiting finish of 6 more threads\n",
      "2022-10-25 16:49:08,980 : INFO : worker thread finished; awaiting finish of 5 more threads\n",
      "2022-10-25 16:49:08,985 : INFO : worker thread finished; awaiting finish of 4 more threads\n",
      "2022-10-25 16:49:08,990 : INFO : worker thread finished; awaiting finish of 3 more threads\n",
      "2022-10-25 16:49:08,993 : INFO : worker thread finished; awaiting finish of 2 more threads\n",
      "2022-10-25 16:49:09,001 : INFO : worker thread finished; awaiting finish of 1 more threads\n",
      "2022-10-25 16:49:09,002 : INFO : worker thread finished; awaiting finish of 0 more threads\n",
      "2022-10-25 16:49:09,002 : INFO : EPOCH - 3 : training on 2276786 raw words (2191645 effective words) took 1.5s, 1424681 effective words/s\n",
      "2022-10-25 16:49:10,016 : INFO : EPOCH 4 - PROGRESS: at 73.40% examples, 1563721 words/s, in_qsize 19, out_qsize 0\n",
      "2022-10-25 16:49:10,311 : INFO : worker thread finished; awaiting finish of 9 more threads\n",
      "2022-10-25 16:49:10,325 : INFO : worker thread finished; awaiting finish of 8 more threads\n",
      "2022-10-25 16:49:10,330 : INFO : worker thread finished; awaiting finish of 7 more threads\n",
      "2022-10-25 16:49:10,339 : INFO : worker thread finished; awaiting finish of 6 more threads\n",
      "2022-10-25 16:49:10,341 : INFO : worker thread finished; awaiting finish of 5 more threads\n",
      "2022-10-25 16:49:10,346 : INFO : worker thread finished; awaiting finish of 4 more threads\n",
      "2022-10-25 16:49:10,356 : INFO : worker thread finished; awaiting finish of 3 more threads\n",
      "2022-10-25 16:49:10,357 : INFO : worker thread finished; awaiting finish of 2 more threads\n",
      "2022-10-25 16:49:10,358 : INFO : worker thread finished; awaiting finish of 1 more threads\n",
      "2022-10-25 16:49:10,360 : INFO : worker thread finished; awaiting finish of 0 more threads\n",
      "2022-10-25 16:49:10,361 : INFO : EPOCH - 4 : training on 2276786 raw words (2191657 effective words) took 1.4s, 1622383 effective words/s\n",
      "2022-10-25 16:49:11,373 : INFO : EPOCH 5 - PROGRESS: at 72.24% examples, 1537245 words/s, in_qsize 19, out_qsize 0\n",
      "2022-10-25 16:49:11,800 : INFO : worker thread finished; awaiting finish of 9 more threads\n",
      "2022-10-25 16:49:11,802 : INFO : worker thread finished; awaiting finish of 8 more threads\n",
      "2022-10-25 16:49:11,817 : INFO : worker thread finished; awaiting finish of 7 more threads\n",
      "2022-10-25 16:49:11,831 : INFO : worker thread finished; awaiting finish of 6 more threads\n",
      "2022-10-25 16:49:11,832 : INFO : worker thread finished; awaiting finish of 5 more threads\n",
      "2022-10-25 16:49:11,837 : INFO : worker thread finished; awaiting finish of 4 more threads\n",
      "2022-10-25 16:49:11,849 : INFO : worker thread finished; awaiting finish of 3 more threads\n",
      "2022-10-25 16:49:11,851 : INFO : worker thread finished; awaiting finish of 2 more threads\n",
      "2022-10-25 16:49:11,853 : INFO : worker thread finished; awaiting finish of 1 more threads\n",
      "2022-10-25 16:49:11,855 : INFO : worker thread finished; awaiting finish of 0 more threads\n",
      "2022-10-25 16:49:11,855 : INFO : EPOCH - 5 : training on 2276786 raw words (2191325 effective words) took 1.5s, 1474156 effective words/s\n",
      "2022-10-25 16:49:12,872 : INFO : EPOCH 6 - PROGRESS: at 67.34% examples, 1419033 words/s, in_qsize 19, out_qsize 0\n",
      "2022-10-25 16:49:13,310 : INFO : worker thread finished; awaiting finish of 9 more threads\n",
      "2022-10-25 16:49:13,318 : INFO : worker thread finished; awaiting finish of 8 more threads\n",
      "2022-10-25 16:49:13,322 : INFO : worker thread finished; awaiting finish of 7 more threads\n",
      "2022-10-25 16:49:13,324 : INFO : worker thread finished; awaiting finish of 6 more threads\n",
      "2022-10-25 16:49:13,325 : INFO : worker thread finished; awaiting finish of 5 more threads\n",
      "2022-10-25 16:49:13,336 : INFO : worker thread finished; awaiting finish of 4 more threads\n",
      "2022-10-25 16:49:13,340 : INFO : worker thread finished; awaiting finish of 3 more threads\n",
      "2022-10-25 16:49:13,341 : INFO : worker thread finished; awaiting finish of 2 more threads\n",
      "2022-10-25 16:49:13,343 : INFO : worker thread finished; awaiting finish of 1 more threads\n",
      "2022-10-25 16:49:13,352 : INFO : worker thread finished; awaiting finish of 0 more threads\n",
      "2022-10-25 16:49:13,353 : INFO : EPOCH - 6 : training on 2276786 raw words (2191742 effective words) took 1.5s, 1471630 effective words/s\n",
      "2022-10-25 16:49:14,368 : INFO : EPOCH 7 - PROGRESS: at 71.43% examples, 1514179 words/s, in_qsize 19, out_qsize 0\n",
      "2022-10-25 16:49:14,737 : INFO : worker thread finished; awaiting finish of 9 more threads\n",
      "2022-10-25 16:49:14,741 : INFO : worker thread finished; awaiting finish of 8 more threads\n",
      "2022-10-25 16:49:14,745 : INFO : worker thread finished; awaiting finish of 7 more threads\n",
      "2022-10-25 16:49:14,747 : INFO : worker thread finished; awaiting finish of 6 more threads\n",
      "2022-10-25 16:49:14,751 : INFO : worker thread finished; awaiting finish of 5 more threads\n",
      "2022-10-25 16:49:14,752 : INFO : worker thread finished; awaiting finish of 4 more threads\n",
      "2022-10-25 16:49:14,755 : INFO : worker thread finished; awaiting finish of 3 more threads\n",
      "2022-10-25 16:49:14,756 : INFO : worker thread finished; awaiting finish of 2 more threads\n",
      "2022-10-25 16:49:14,758 : INFO : worker thread finished; awaiting finish of 1 more threads\n",
      "2022-10-25 16:49:14,760 : INFO : worker thread finished; awaiting finish of 0 more threads\n",
      "2022-10-25 16:49:14,761 : INFO : EPOCH - 7 : training on 2276786 raw words (2191902 effective words) took 1.4s, 1564918 effective words/s\n",
      "2022-10-25 16:49:15,773 : INFO : EPOCH 8 - PROGRESS: at 73.50% examples, 1565549 words/s, in_qsize 19, out_qsize 0\n",
      "2022-10-25 16:49:16,220 : INFO : worker thread finished; awaiting finish of 9 more threads\n",
      "2022-10-25 16:49:16,231 : INFO : worker thread finished; awaiting finish of 8 more threads\n",
      "2022-10-25 16:49:16,233 : INFO : worker thread finished; awaiting finish of 7 more threads\n",
      "2022-10-25 16:49:16,234 : INFO : worker thread finished; awaiting finish of 6 more threads\n",
      "2022-10-25 16:49:16,240 : INFO : worker thread finished; awaiting finish of 5 more threads\n",
      "2022-10-25 16:49:16,246 : INFO : worker thread finished; awaiting finish of 4 more threads\n",
      "2022-10-25 16:49:16,248 : INFO : worker thread finished; awaiting finish of 3 more threads\n",
      "2022-10-25 16:49:16,254 : INFO : worker thread finished; awaiting finish of 2 more threads\n",
      "2022-10-25 16:49:16,255 : INFO : worker thread finished; awaiting finish of 1 more threads\n",
      "2022-10-25 16:49:16,257 : INFO : worker thread finished; awaiting finish of 0 more threads\n",
      "2022-10-25 16:49:16,258 : INFO : EPOCH - 8 : training on 2276786 raw words (2191910 effective words) took 1.5s, 1472077 effective words/s\n",
      "2022-10-25 16:49:17,287 : INFO : EPOCH 9 - PROGRESS: at 60.74% examples, 1261055 words/s, in_qsize 19, out_qsize 0\n",
      "2022-10-25 16:49:17,828 : INFO : worker thread finished; awaiting finish of 9 more threads\n",
      "2022-10-25 16:49:17,847 : INFO : worker thread finished; awaiting finish of 8 more threads\n",
      "2022-10-25 16:49:17,861 : INFO : worker thread finished; awaiting finish of 7 more threads\n",
      "2022-10-25 16:49:17,863 : INFO : worker thread finished; awaiting finish of 6 more threads\n",
      "2022-10-25 16:49:17,864 : INFO : worker thread finished; awaiting finish of 5 more threads\n",
      "2022-10-25 16:49:17,866 : INFO : worker thread finished; awaiting finish of 4 more threads\n",
      "2022-10-25 16:49:17,870 : INFO : worker thread finished; awaiting finish of 3 more threads\n",
      "2022-10-25 16:49:17,874 : INFO : worker thread finished; awaiting finish of 2 more threads\n",
      "2022-10-25 16:49:17,875 : INFO : worker thread finished; awaiting finish of 1 more threads\n",
      "2022-10-25 16:49:17,881 : INFO : worker thread finished; awaiting finish of 0 more threads\n",
      "2022-10-25 16:49:17,882 : INFO : EPOCH - 9 : training on 2276786 raw words (2191862 effective words) took 1.6s, 1356550 effective words/s\n",
      "2022-10-25 16:49:18,892 : INFO : EPOCH 10 - PROGRESS: at 70.10% examples, 1492362 words/s, in_qsize 19, out_qsize 0\n",
      "2022-10-25 16:49:19,266 : INFO : worker thread finished; awaiting finish of 9 more threads\n",
      "2022-10-25 16:49:19,271 : INFO : worker thread finished; awaiting finish of 8 more threads\n",
      "2022-10-25 16:49:19,283 : INFO : worker thread finished; awaiting finish of 7 more threads\n",
      "2022-10-25 16:49:19,287 : INFO : worker thread finished; awaiting finish of 6 more threads\n",
      "2022-10-25 16:49:19,288 : INFO : worker thread finished; awaiting finish of 5 more threads\n",
      "2022-10-25 16:49:19,297 : INFO : worker thread finished; awaiting finish of 4 more threads\n",
      "2022-10-25 16:49:19,298 : INFO : worker thread finished; awaiting finish of 3 more threads\n",
      "2022-10-25 16:49:19,299 : INFO : worker thread finished; awaiting finish of 2 more threads\n",
      "2022-10-25 16:49:19,301 : INFO : worker thread finished; awaiting finish of 1 more threads\n",
      "2022-10-25 16:49:19,309 : INFO : worker thread finished; awaiting finish of 0 more threads\n",
      "2022-10-25 16:49:19,310 : INFO : EPOCH - 10 : training on 2276786 raw words (2191806 effective words) took 1.4s, 1541864 effective words/s\n",
      "2022-10-25 16:49:19,311 : INFO : Word2Vec lifecycle event {'msg': 'training on 22767860 raw words (21917314 effective words) took 14.8s, 1476030 effective words/s', 'datetime': '2022-10-25T16:49:19.311789', 'gensim': '4.1.2', 'python': '3.9.12 (main, Apr  4 2022, 05:22:27) [MSC v.1916 64 bit (AMD64)]', 'platform': 'Windows-10-10.0.22000-SP0', 'event': 'train'}\n"
     ]
    },
    {
     "data": {
      "text/plain": [
       "(21917314, 22767860)"
      ]
     },
     "execution_count": 112,
     "metadata": {},
     "output_type": "execute_result"
    }
   ],
   "source": [
    "# Initialize model\n",
    "model = gensim.models.Word2Vec(res, vector_size = 100, window=10, min_count=2, workers=10)\n",
    "\n",
    "# Train the model\n",
    "model.train(res,total_examples=len(res),epochs=10)"
   ]
  },
  {
   "cell_type": "code",
   "execution_count": 113,
   "id": "43355f32",
   "metadata": {},
   "outputs": [
    {
     "data": {
      "text/plain": [
       "array([ 1.6806803 ,  2.380128  , -0.24369374, -4.670824  , -0.60813826,\n",
       "        0.904776  ,  1.075097  , -2.7322383 ,  0.2673416 , -2.5717688 ,\n",
       "        3.578992  , -2.1982114 , -2.9204693 ,  0.33225456, -0.41679984,\n",
       "        1.1173911 , -1.8628709 ,  0.5343412 ,  1.0738882 ,  3.7326858 ,\n",
       "       -0.13529308, -3.4661534 , -5.5486226 ,  2.719829  ,  0.96092695,\n",
       "       -0.6317599 , -0.19254982, -0.6695301 , -0.49372163, -2.1030934 ,\n",
       "       -3.8633127 ,  0.08594791,  1.2116747 ,  2.1775608 ,  0.5650029 ,\n",
       "        0.39139736,  4.726535  ,  4.0133348 , -2.6467938 , -1.4541429 ,\n",
       "       -0.4181709 ,  0.5998296 ,  2.9762285 , -1.2742451 ,  3.2566223 ,\n",
       "       -2.6661625 , -1.3309442 ,  3.655903  ,  2.07547   ,  0.41691896,\n",
       "       -2.1208496 ,  1.26003   ,  1.6280109 , -1.2572124 ,  0.25475425,\n",
       "        2.3028073 ,  0.22285911,  1.9104055 , -2.5334294 ,  0.3692101 ,\n",
       "       -3.6844113 ,  2.530406  , -3.2987974 , -2.3534849 , -1.0169474 ,\n",
       "        1.3563601 , -2.3184218 ,  0.35318843,  1.1339093 , -5.32876   ,\n",
       "       -0.59626573,  2.0526354 ,  1.0760071 , -4.191253  ,  0.27207777,\n",
       "       -0.6716249 ,  0.7581456 , -0.42695683,  3.3299618 , -0.40720767,\n",
       "        2.6729798 ,  1.7564968 , -2.0602725 , -0.10029309, -2.3255777 ,\n",
       "        0.1741911 , -2.263417  ,  1.5787483 , -1.8455938 ,  0.7988539 ,\n",
       "       -0.35713863, -0.24950211, -1.2039347 ,  2.3259506 , -1.9661111 ,\n",
       "        2.761257  ,  1.4926183 , -0.4824713 ,  0.23947121, -1.6299883 ],\n",
       "      dtype=float32)"
      ]
     },
     "execution_count": 113,
     "metadata": {},
     "output_type": "execute_result"
    }
   ],
   "source": [
    "#Observer le vecteur de \"python\"\n",
    "model.wv[\"python\"]"
   ]
  },
  {
   "cell_type": "code",
   "execution_count": 114,
   "id": "cb358ee0",
   "metadata": {},
   "outputs": [
    {
     "data": {
      "text/plain": [
       "[('interpreter', 0.6729508638381958),\n",
       " ('perl', 0.6392409205436707),\n",
       " ('anaconda', 0.5751824378967285),\n",
       " ('ipython', 0.5744950771331787),\n",
       " ('subprocess', 0.561710774898529),\n",
       " ('pip', 0.5601561069488525)]"
      ]
     },
     "execution_count": 114,
     "metadata": {},
     "output_type": "execute_result"
    }
   ],
   "source": [
    "#Les 6 mots les plus similaire à python\n",
    "w1 = [\"python\"]\n",
    "model.wv.most_similar (positive=w1,topn=6)"
   ]
  },
  {
   "cell_type": "code",
   "execution_count": 115,
   "id": "e4d586d4",
   "metadata": {},
   "outputs": [
    {
     "data": {
      "text/plain": [
       "0.3481676"
      ]
     },
     "execution_count": 115,
     "metadata": {},
     "output_type": "execute_result"
    }
   ],
   "source": [
    "#Similarité entre 2 mots :\n",
    "model.wv.similarity(w1=\"java\", w2=\"python\")"
   ]
  },
  {
   "cell_type": "code",
   "execution_count": 116,
   "id": "639aef80",
   "metadata": {},
   "outputs": [
    {
     "data": {
      "text/plain": [
       "{'python': ['interpreter', 'perl', 'anaconda', 'ipython', 'subprocess']}"
      ]
     },
     "execution_count": 116,
     "metadata": {},
     "output_type": "execute_result"
    }
   ],
   "source": [
    "# view similar words based on gensim's model\n",
    "similar_words = {search_term: [item[0] for item in model.wv.most_similar([search_term], topn=5)]\n",
    "                  for search_term in ['python']}\n",
    "similar_words"
   ]
  },
  {
   "cell_type": "markdown",
   "id": "4ab15836",
   "metadata": {},
   "source": [
    "### <font color = grey>4.2. Doc2Vec</font>"
   ]
  },
  {
   "cell_type": "code",
   "execution_count": 117,
   "id": "f46a9bc0",
   "metadata": {},
   "outputs": [],
   "source": [
    "data = df[\"title_body\"]\n",
    "tagged_data = [TaggedDocument(words=_d, tags=[str(i)]) for i, _d in enumerate(data)]"
   ]
  },
  {
   "cell_type": "code",
   "execution_count": 118,
   "id": "9b37615c",
   "metadata": {},
   "outputs": [
    {
     "name": "stderr",
     "output_type": "stream",
     "text": [
      "2022-10-25 16:51:25,178 : INFO : Doc2Vec lifecycle event {'params': 'Doc2Vec(dm/m,d20,n5,w5,s0.001,t3)', 'datetime': '2022-10-25T16:51:25.178342', 'gensim': '4.1.2', 'python': '3.9.12 (main, Apr  4 2022, 05:22:27) [MSC v.1916 64 bit (AMD64)]', 'platform': 'Windows-10-10.0.22000-SP0', 'event': 'created'}\n",
      "2022-10-25 16:51:25,186 : INFO : collecting all words and their counts\n",
      "2022-10-25 16:51:25,187 : WARNING : Each 'words' should be a list of words (usually unicode strings). First 'words' here is instead plain <class 'str'>.\n",
      "2022-10-25 16:51:25,188 : INFO : PROGRESS: at example #0, processed 0 words (0/s), 0 word types, 0 tags\n",
      "2022-10-25 16:51:25,643 : INFO : PROGRESS: at example #10000, processed 6498651 words (14290595/s), 108 word types, 10000 tags\n",
      "2022-10-25 16:51:26,087 : INFO : PROGRESS: at example #20000, processed 13132968 words (14948986/s), 197 word types, 20000 tags\n",
      "2022-10-25 16:51:26,476 : INFO : collected 216 word types and 26054 unique tags from a corpus of 26054 examples and 17577726 words\n",
      "2022-10-25 16:51:26,478 : INFO : Creating a fresh vocabulary\n",
      "2022-10-25 16:51:26,479 : INFO : Doc2Vec lifecycle event {'msg': 'effective_min_count=1 retains 216 unique words (100.0%% of original 216, drops 0)', 'datetime': '2022-10-25T16:51:26.479219', 'gensim': '4.1.2', 'python': '3.9.12 (main, Apr  4 2022, 05:22:27) [MSC v.1916 64 bit (AMD64)]', 'platform': 'Windows-10-10.0.22000-SP0', 'event': 'prepare_vocab'}\n",
      "2022-10-25 16:51:26,480 : INFO : Doc2Vec lifecycle event {'msg': 'effective_min_count=1 leaves 17577726 word corpus (100.0%% of original 17577726, drops 0)', 'datetime': '2022-10-25T16:51:26.480216', 'gensim': '4.1.2', 'python': '3.9.12 (main, Apr  4 2022, 05:22:27) [MSC v.1916 64 bit (AMD64)]', 'platform': 'Windows-10-10.0.22000-SP0', 'event': 'prepare_vocab'}\n",
      "2022-10-25 16:51:26,482 : INFO : deleting the raw counts dictionary of 216 items\n",
      "2022-10-25 16:51:26,482 : INFO : sample=0.001 downsamples 25 most-common words\n",
      "2022-10-25 16:51:26,483 : INFO : Doc2Vec lifecycle event {'msg': 'downsampling leaves estimated 3075441.7413028968 word corpus (17.5%% of prior 17577726)', 'datetime': '2022-10-25T16:51:26.483220', 'gensim': '4.1.2', 'python': '3.9.12 (main, Apr  4 2022, 05:22:27) [MSC v.1916 64 bit (AMD64)]', 'platform': 'Windows-10-10.0.22000-SP0', 'event': 'prepare_vocab'}\n",
      "2022-10-25 16:51:26,485 : INFO : estimated required memory for 216 words and 20 dimensions: 7437680 bytes\n",
      "2022-10-25 16:51:26,485 : INFO : resetting layer weights\n"
     ]
    }
   ],
   "source": [
    "max_epochs = 100\n",
    "vec_size = 20\n",
    "alpha = 0.025\n",
    "\n",
    "model = Doc2Vec(vector_size=vec_size,\n",
    "                alpha=alpha, \n",
    "                min_alpha=0.00025,\n",
    "                min_count=1,\n",
    "                dm =1)\n",
    "  \n",
    "model.build_vocab(tagged_data)"
   ]
  },
  {
   "cell_type": "code",
   "execution_count": 119,
   "id": "702d2d4a",
   "metadata": {},
   "outputs": [
    {
     "data": {
      "text/plain": [
       "(26054,)"
      ]
     },
     "execution_count": 119,
     "metadata": {},
     "output_type": "execute_result"
    }
   ],
   "source": [
    "df[\"title_body\"].shape"
   ]
  },
  {
   "cell_type": "code",
   "execution_count": 120,
   "id": "a71c41ef",
   "metadata": {},
   "outputs": [],
   "source": [
    "#creation de la matrice des vecteurs de chaque phrases\n",
    "X_doc2vec = np.zeros((26054,20)) #20 correpsond au vector_size\n",
    "\n",
    "for i in range(26054):\n",
    "    X_doc2vec[i] = model[str(i)]"
   ]
  },
  {
   "cell_type": "code",
   "execution_count": 121,
   "id": "51c7732c",
   "metadata": {},
   "outputs": [
    {
     "data": {
      "text/plain": [
       "array([[-0.02615408, -0.02989564, -0.04940378, ...,  0.04612811,\n",
       "        -0.04750933, -0.01729044],\n",
       "       [-0.01884955,  0.01303691, -0.02845779, ..., -0.04271271,\n",
       "        -0.01801307,  0.00865812],\n",
       "       [-0.0102846 , -0.03615022,  0.02092299, ...,  0.01767989,\n",
       "        -0.02875156,  0.04407407],\n",
       "       ...,\n",
       "       [-0.02841936,  0.00282226,  0.02942412, ...,  0.04854989,\n",
       "         0.04384113, -0.00650169],\n",
       "       [ 0.03011979, -0.04326785,  0.02485073, ..., -0.00590817,\n",
       "        -0.045671  ,  0.02410632],\n",
       "       [-0.00834982,  0.00958341, -0.00774117, ..., -0.04799619,\n",
       "         0.02863705,  0.03295622]])"
      ]
     },
     "execution_count": 121,
     "metadata": {},
     "output_type": "execute_result"
    }
   ],
   "source": [
    "X_doc2vec"
   ]
  },
  {
   "cell_type": "markdown",
   "id": "2a2e5672",
   "metadata": {},
   "source": [
    "## <font color = purple>5. USE</font>"
   ]
  },
  {
   "cell_type": "markdown",
   "id": "2a2e5672",
   "metadata": {},
   "source": [
    "## <font color = purple>6. BERT</font>"
   ]
  },
  {
   "cell_type": "markdown",
   "id": "1956fe5b",
   "metadata": {},
   "source": [
    "# <font color = green>Partie 4 : Machine Learning</font>"
   ]
  },
  {
   "cell_type": "markdown",
   "id": "677f9ee5",
   "metadata": {},
   "source": [
    "## <font color = purple>1. Librairies</font>"
   ]
  },
  {
   "cell_type": "code",
   "execution_count": 122,
   "id": "f4912132",
   "metadata": {},
   "outputs": [],
   "source": [
    "#Binarizer\n",
    "from sklearn.preprocessing import MultiLabelBinarizer\n",
    "\n",
    "#Models\n",
    "from sklearn.decomposition import LatentDirichletAllocation\n",
    "from sklearn.multiclass import OneVsRestClassifier\n",
    "from sklearn.dummy import DummyClassifier\n",
    "from sklearn.linear_model import SGDClassifier\n",
    "from sklearn.linear_model import LogisticRegression\n",
    "from sklearn.naive_bayes import MultinomialNB\n",
    "from sklearn.svm import LinearSVC\n",
    "from sklearn.linear_model import Perceptron\n",
    "from sklearn.linear_model import PassiveAggressiveClassifier\n",
    "from sklearn.neural_network import MLPClassifier\n",
    "from sklearn.ensemble import RandomForestClassifier\n",
    "from sklearn import model_selection\n",
    "\n",
    "#Metrics\n",
    "from sklearn.metrics import accuracy_score\n",
    "from sklearn.metrics import jaccard_score\n",
    "from sklearn.metrics import make_scorer\n",
    "\n",
    "#Confusion Matrix\n",
    "from sklearn.metrics import confusion_matrix\n",
    "\n",
    "#Warning ignore\n",
    "import warnings\n",
    "warnings.filterwarnings(\"ignore\")"
   ]
  },
  {
   "cell_type": "markdown",
   "id": "62528284",
   "metadata": {},
   "source": [
    "## <font color = purple>2. LDA (Unsupervised)</font>"
   ]
  },
  {
   "cell_type": "code",
   "execution_count": null,
   "id": "10972734",
   "metadata": {},
   "outputs": [],
   "source": [
    "# Sampling dataset\n",
    "vectorizer_X = TfidfVectorizer(analyzer='word', min_df=0.0, max_df = 1.0, \n",
    "                                   strip_accents = None, encoding = 'utf-8', \n",
    "                                   preprocessor=None, \n",
    "                                   token_pattern=r\"(?u)\\S\\S+\", # Need to repeat token pattern\n",
    "                                   max_features=1000)"
   ]
  },
  {
   "cell_type": "code",
   "execution_count": null,
   "id": "60c1f3a1",
   "metadata": {},
   "outputs": [],
   "source": [
    "# 80/20 split\n",
    "X_lda_train, X_lda_test, y_lda_train, y_lda_test = train_test_split(\n",
    "    df['Body'], df['Tags'], test_size=0.2,train_size=0.8, random_state=0)"
   ]
  },
  {
   "cell_type": "code",
   "execution_count": null,
   "id": "14a39825",
   "metadata": {},
   "outputs": [],
   "source": [
    "# TF-IDF matrices\n",
    "X_tfidf_train = vectorizer_X.fit_transform(X_lda_train)\n",
    "X_tfidf_test = vectorizer_X.transform(X_lda_test)"
   ]
  },
  {
   "cell_type": "markdown",
   "id": "d7900b5b",
   "metadata": {},
   "source": [
    "- Nous allons maintenant entrainer différents modèle LDA.\n",
    "- Chacun de ces modèles aura un nb de topics différents.\n",
    "- Nous évaluerons les différent modèles à l'aide du perplexity score :"
   ]
  },
  {
   "cell_type": "markdown",
   "id": "3ca1b3f4",
   "metadata": {},
   "source": [
    "![title](perplexity_score.png)"
   ]
  },
  {
   "cell_type": "code",
   "execution_count": null,
   "id": "997eed3a",
   "metadata": {},
   "outputs": [],
   "source": [
    "def lda(vectorizer, data_train, data_test):\n",
    "\n",
    "    ''' Showing the perplexity score for several LDA models with different values\n",
    "    for n_components parameter, and printing the top words for the best LDA model\n",
    "    (the one with the lowest perplexity)\n",
    "    Parameters:\n",
    "    vectorizer: TF-IDF convertizer                                              \n",
    "    data_train: data to fit the model with\n",
    "    data_test: data to test\n",
    "    '''\n",
    "\n",
    "    best_perplexity = np.inf\n",
    "    best_lda = 0\n",
    "    perplexity_list = []\n",
    "    n_topics_list = []\n",
    "    print(\"Extracting term frequency features for LDA...\")\n",
    "\n",
    "    for n_topics in np.linspace(10, 50, 5, dtype='int'):\n",
    "        lda_model = LatentDirichletAllocation(n_components=n_topics, max_iter=5,\n",
    "                                        learning_method='online',\n",
    "                                        learning_offset=50.,\n",
    "                                        random_state=0).fit(data_train)\n",
    "        n_topics_list.append(n_topics)\n",
    "        perplexity = lda_model.perplexity(data_test)\n",
    "        perplexity_list.append(perplexity)\n",
    "\n",
    "        # Perplexity is defined as exp(-1. * log-likelihood per word)\n",
    "        # Perplexity: The smaller the better\n",
    "        if perplexity <= best_perplexity:\n",
    "            best_perplexity = perplexity\n",
    "            best_lda = lda_model\n",
    "                                \n",
    "    plt.title(\"Evolution of perplexity score depending on number of topics\")\n",
    "    plt.xlabel(\"Number of topics\")\n",
    "    plt.ylabel(\"Perplexity\")\n",
    "    plt.plot(n_topics_list, perplexity_list)\n",
    "    plt.show()"
   ]
  },
  {
   "cell_type": "code",
   "execution_count": null,
   "id": "d1fefb1c",
   "metadata": {},
   "outputs": [],
   "source": [
    "lda(vectorizer_X, X_tfidf_train, X_tfidf_test)"
   ]
  },
  {
   "cell_type": "markdown",
   "id": "d4f1edcc",
   "metadata": {},
   "source": [
    "Le perplexity score le plus bas est obtenu avec 10 topics !"
   ]
  },
  {
   "cell_type": "code",
   "execution_count": null,
   "id": "85887388",
   "metadata": {},
   "outputs": [],
   "source": [
    "best_lda = LatentDirichletAllocation(n_components=10, max_iter=5,\n",
    "                                        learning_method='online',\n",
    "                                        learning_offset=50.,\n",
    "                                        random_state=0).fit(X_tfidf_train)"
   ]
  },
  {
   "cell_type": "code",
   "execution_count": null,
   "id": "64f520cd",
   "metadata": {},
   "outputs": [],
   "source": [
    "def Recommend_tags_lda(text, X_train):\n",
    "    \n",
    "    ''' Recomendation system for stackoverflow posts based on a lda model, \n",
    "    it returns up to 5 tags.\n",
    "    Parameters:\n",
    "    text: the stackoverflow post of user\n",
    "    X_train: data to fit the model with\n",
    "    '''\n",
    "\n",
    "    text = clean_text(text)\n",
    "    text = clean_punct(text)\n",
    "    text = stopWordsRemove(text)\n",
    "    text = lemitizeWords(text)\n",
    "    n_topics = 10\n",
    "    threshold = 0.010\n",
    "    list_scores = []\n",
    "    list_words = []\n",
    "    used = set()\n",
    "\n",
    "    vectorizer_text = TfidfVectorizer(analyzer='word', min_df=0.0, max_df = 1.0, \n",
    "                                    strip_accents = None, encoding = 'utf-8', \n",
    "                                    preprocessor=None, \n",
    "                                    token_pattern=r\"(?u)\\S\\S+\", # Need to repeat token pattern\n",
    "                                    max_features=1000)\n",
    "    vectorizer_text.fit(X_train)\n",
    "    text_tfidf = vectorizer_text.transform([text])\n",
    "\n",
    "    lda_model = LatentDirichletAllocation(n_components=n_topics, max_iter=5,\n",
    "                                        learning_method='online',\n",
    "                                        learning_offset=50.,\n",
    "                                        random_state=0).fit(X_tfidf_train)\n",
    "    text_projection = lda_model.transform(text_tfidf)\n",
    "    feature_names = vectorizer_text.get_feature_names_out()\n",
    "    lda_components = lda_model.components_ / lda_model.components_.sum(axis=1)[:, np.newaxis] # normalization\n",
    "\n",
    "    for topic in range(n_topics):\n",
    "        topic_score = text_projection[0][topic]\n",
    "\n",
    "        for (word_idx, word_score) in zip(lda_components[topic].argsort()[:-5:-1], sorted(lda_components[topic])[:-5:-1]):\n",
    "            score = topic_score*word_score\n",
    "\n",
    "            if score >= threshold:\n",
    "                list_scores.append(score)\n",
    "                list_words.append(feature_names[word_idx])\n",
    "                used.add(feature_names[word_idx])\n",
    "\n",
    "    results = [tag for (y,tag) in sorted(zip(list_scores,list_words), key=lambda pair: pair[0], reverse=True)]\n",
    "    unique_results = [x for x in results if x not in used] # get only unique tags\n",
    "    tags = \" \".join(results[:5])\n",
    "\n",
    "    return tags"
   ]
  },
  {
   "cell_type": "code",
   "execution_count": null,
   "id": "968cf1d8",
   "metadata": {},
   "outputs": [],
   "source": [
    "text = input('Ask a question: ')\n",
    "tags = Recommend_tags_lda(text, X_lda_train)\n",
    "print('Recommended tags are:', tags)"
   ]
  },
  {
   "cell_type": "code",
   "execution_count": null,
   "id": "3c1196fb",
   "metadata": {},
   "outputs": [],
   "source": [
    "def Recommend_tags_lda_test(X_tfidf_test, X_train):\n",
    "    \n",
    "    ''' Recomendation system for stackoverflow posts based on a lda model, \n",
    "    it returns up to 5 tags.\n",
    "\n",
    "    Parameters:\n",
    "\n",
    "    X_tfidf_test: the stackoverflow posts after TF-IDF transformation\n",
    "    X_train: data to fit the model with\n",
    "    '''\n",
    "\n",
    "    df_tags_test_lda = pd.DataFrame(index=[i for i in range(X_tfidf_test.shape[0])], \n",
    "             columns=['0.010', '0.011', '0.012', '0.013'])\n",
    "    corpus = X_tfidf_test\n",
    "    n_topics = 10\n",
    "\n",
    "    vectorizer_text = TfidfVectorizer(analyzer='word', min_df=0.0, max_df = 1.0, \n",
    "                                    strip_accents = None, encoding = 'utf-8', \n",
    "                                    preprocessor=None, \n",
    "                                    token_pattern=r\"(?u)\\S\\S+\", # Need to repeat token pattern\n",
    "                                    max_features=1000)\n",
    "    X_tfidf_train = vectorizer_text.fit_transform(X_train)\n",
    "    lda_model = LatentDirichletAllocation(n_components=n_topics, max_iter=5,\n",
    "                                        learning_method='online',\n",
    "                                        learning_offset=50.,\n",
    "                                        random_state=0).fit(X_tfidf_train)\n",
    "    corpus_projection = lda_model.transform(corpus)\n",
    "    \n",
    "    feature_names = vectorizer_text.get_feature_names()\n",
    "    lda_components = lda_model.components_ / lda_model.components_.sum(axis=1)[:, np.newaxis] # normalization\n",
    "\n",
    "    for column, threshold in zip(range(4), [0.010, 0.011, 0.012, 0.013]): #  threshold to exceed to be considered as a relevant tag\n",
    "\n",
    "        for text in range(corpus.shape[0]):\n",
    "            list_scores = []\n",
    "            list_words = []\n",
    "\n",
    "            for topic in range(n_topics):\n",
    "                topic_score = corpus_projection[text][topic]\n",
    "\n",
    "                for (word_idx, word_score) in zip(lda_components[topic].argsort()[:-5:-1], sorted(lda_components[topic])[:-5:-1]):\n",
    "                    score = topic_score*word_score\n",
    "\n",
    "                    if score >= threshold:\n",
    "                        list_scores.append(score)\n",
    "                        list_words.append(feature_names[word_idx])\n",
    "\n",
    "            results = [tag for (y,tag) in sorted(zip(list_scores,list_words), \n",
    "                                                 key=lambda pair: pair[0], reverse=True)]\n",
    "            df_tags_test_lda.iloc[text, column] = results[:5] #maximum five tags\n",
    "\n",
    "    return df_tags_test_lda"
   ]
  },
  {
   "cell_type": "code",
   "execution_count": null,
   "id": "16a586b9",
   "metadata": {},
   "outputs": [],
   "source": [
    "Recommend_tags_lda_test(X_tfidf_test, X_lda_train)"
   ]
  },
  {
   "cell_type": "code",
   "execution_count": null,
   "id": "68d70265",
   "metadata": {},
   "outputs": [],
   "source": [
    "#no_topics = 20"
   ]
  },
  {
   "cell_type": "code",
   "execution_count": null,
   "id": "02ae886e",
   "metadata": {},
   "outputs": [],
   "source": [
    "#text = df['Body']"
   ]
  },
  {
   "cell_type": "code",
   "execution_count": null,
   "id": "f8fd4dc3",
   "metadata": {},
   "outputs": [],
   "source": [
    "\"\"\"vectorizer_train = TfidfVectorizer(analyzer = 'word',\n",
    "                                       min_df=0.0,\n",
    "                                       max_df = 1.0,\n",
    "                                       strip_accents = None,\n",
    "                                       encoding = 'utf-8', \n",
    "                                       preprocessor=None,\n",
    "                                       token_pattern=r\"(?u)\\S\\S+\", # Need to repeat token pattern\n",
    "                                       max_features=1000)\"\"\""
   ]
  },
  {
   "cell_type": "code",
   "execution_count": null,
   "id": "51c6c41c",
   "metadata": {},
   "outputs": [],
   "source": [
    "#TF_IDF_matrix = vectorizer_train.fit_transform(text)"
   ]
  },
  {
   "cell_type": "code",
   "execution_count": null,
   "id": "64418f0f",
   "metadata": {},
   "outputs": [],
   "source": [
    "#lda = LatentDirichletAllocation(n_components=no_topics, max_iter=5, learning_method='online', learning_offset=50,random_state=11).fit(TF_IDF_matrix)"
   ]
  },
  {
   "cell_type": "code",
   "execution_count": null,
   "id": "7da10909",
   "metadata": {},
   "outputs": [],
   "source": [
    "\"\"\"\"def display_topics(model, feature_names, no_top_words):\n",
    "    for topic_idx, topic in enumerate(model.components_):\n",
    "        print(\"--------------------------------------------\")\n",
    "        print(\"Topic %d:\" % (topic_idx))\n",
    "        print(\" \".join([feature_names[i]\n",
    "                        for i in topic.argsort()[:-no_top_words - 1:-1]]))\n",
    "        print(\"--------------------------------------------\")\"\"\"\""
   ]
  },
  {
   "cell_type": "code",
   "execution_count": null,
   "id": "13fff313",
   "metadata": {},
   "outputs": [],
   "source": [
    "#display_topics(lda, vectorizer_train.get_feature_names(), 10)"
   ]
  },
  {
   "cell_type": "markdown",
   "id": "c03cae84",
   "metadata": {},
   "source": [
    "Pas mal du tout les topics on du sens !"
   ]
  },
  {
   "cell_type": "markdown",
   "id": "854ebecc",
   "metadata": {},
   "source": [
    "## <font color = purple>3. ML Preparation</font>"
   ]
  },
  {
   "cell_type": "markdown",
   "id": "a9cb9947",
   "metadata": {},
   "source": [
    "### <font color = grey>3.1. Target binarize</font>"
   ]
  },
  {
   "cell_type": "code",
   "execution_count": 123,
   "id": "80abe2bb",
   "metadata": {},
   "outputs": [
    {
     "data": {
      "text/html": [
       "<div>\n",
       "<style scoped>\n",
       "    .dataframe tbody tr th:only-of-type {\n",
       "        vertical-align: middle;\n",
       "    }\n",
       "\n",
       "    .dataframe tbody tr th {\n",
       "        vertical-align: top;\n",
       "    }\n",
       "\n",
       "    .dataframe thead th {\n",
       "        text-align: right;\n",
       "    }\n",
       "</style>\n",
       "<table border=\"1\" class=\"dataframe\">\n",
       "  <thead>\n",
       "    <tr style=\"text-align: right;\">\n",
       "      <th></th>\n",
       "      <th>.net</th>\n",
       "      <th>ajax</th>\n",
       "      <th>algorithm</th>\n",
       "      <th>android</th>\n",
       "      <th>android-studio</th>\n",
       "      <th>angular</th>\n",
       "      <th>angularjs</th>\n",
       "      <th>apache</th>\n",
       "      <th>apache-spark</th>\n",
       "      <th>arrays</th>\n",
       "      <th>...</th>\n",
       "      <th>string</th>\n",
       "      <th>swift</th>\n",
       "      <th>ubuntu</th>\n",
       "      <th>unit-testing</th>\n",
       "      <th>unix</th>\n",
       "      <th>visual-studio</th>\n",
       "      <th>windows</th>\n",
       "      <th>wpf</th>\n",
       "      <th>xcode</th>\n",
       "      <th>xml</th>\n",
       "    </tr>\n",
       "  </thead>\n",
       "  <tbody>\n",
       "    <tr>\n",
       "      <th>0</th>\n",
       "      <td>0</td>\n",
       "      <td>0</td>\n",
       "      <td>0</td>\n",
       "      <td>0</td>\n",
       "      <td>0</td>\n",
       "      <td>0</td>\n",
       "      <td>0</td>\n",
       "      <td>0</td>\n",
       "      <td>0</td>\n",
       "      <td>0</td>\n",
       "      <td>...</td>\n",
       "      <td>0</td>\n",
       "      <td>0</td>\n",
       "      <td>0</td>\n",
       "      <td>0</td>\n",
       "      <td>0</td>\n",
       "      <td>0</td>\n",
       "      <td>0</td>\n",
       "      <td>0</td>\n",
       "      <td>0</td>\n",
       "      <td>0</td>\n",
       "    </tr>\n",
       "    <tr>\n",
       "      <th>1</th>\n",
       "      <td>0</td>\n",
       "      <td>0</td>\n",
       "      <td>0</td>\n",
       "      <td>0</td>\n",
       "      <td>0</td>\n",
       "      <td>0</td>\n",
       "      <td>0</td>\n",
       "      <td>0</td>\n",
       "      <td>0</td>\n",
       "      <td>0</td>\n",
       "      <td>...</td>\n",
       "      <td>0</td>\n",
       "      <td>0</td>\n",
       "      <td>0</td>\n",
       "      <td>0</td>\n",
       "      <td>0</td>\n",
       "      <td>0</td>\n",
       "      <td>0</td>\n",
       "      <td>0</td>\n",
       "      <td>0</td>\n",
       "      <td>0</td>\n",
       "    </tr>\n",
       "    <tr>\n",
       "      <th>2</th>\n",
       "      <td>0</td>\n",
       "      <td>0</td>\n",
       "      <td>0</td>\n",
       "      <td>0</td>\n",
       "      <td>0</td>\n",
       "      <td>0</td>\n",
       "      <td>0</td>\n",
       "      <td>0</td>\n",
       "      <td>0</td>\n",
       "      <td>0</td>\n",
       "      <td>...</td>\n",
       "      <td>0</td>\n",
       "      <td>0</td>\n",
       "      <td>0</td>\n",
       "      <td>0</td>\n",
       "      <td>0</td>\n",
       "      <td>0</td>\n",
       "      <td>0</td>\n",
       "      <td>0</td>\n",
       "      <td>0</td>\n",
       "      <td>0</td>\n",
       "    </tr>\n",
       "    <tr>\n",
       "      <th>3</th>\n",
       "      <td>1</td>\n",
       "      <td>0</td>\n",
       "      <td>0</td>\n",
       "      <td>0</td>\n",
       "      <td>0</td>\n",
       "      <td>0</td>\n",
       "      <td>0</td>\n",
       "      <td>0</td>\n",
       "      <td>0</td>\n",
       "      <td>0</td>\n",
       "      <td>...</td>\n",
       "      <td>0</td>\n",
       "      <td>0</td>\n",
       "      <td>0</td>\n",
       "      <td>0</td>\n",
       "      <td>0</td>\n",
       "      <td>0</td>\n",
       "      <td>0</td>\n",
       "      <td>0</td>\n",
       "      <td>0</td>\n",
       "      <td>1</td>\n",
       "    </tr>\n",
       "    <tr>\n",
       "      <th>4</th>\n",
       "      <td>0</td>\n",
       "      <td>0</td>\n",
       "      <td>0</td>\n",
       "      <td>0</td>\n",
       "      <td>0</td>\n",
       "      <td>0</td>\n",
       "      <td>0</td>\n",
       "      <td>0</td>\n",
       "      <td>0</td>\n",
       "      <td>0</td>\n",
       "      <td>...</td>\n",
       "      <td>0</td>\n",
       "      <td>0</td>\n",
       "      <td>0</td>\n",
       "      <td>0</td>\n",
       "      <td>0</td>\n",
       "      <td>0</td>\n",
       "      <td>0</td>\n",
       "      <td>0</td>\n",
       "      <td>0</td>\n",
       "      <td>1</td>\n",
       "    </tr>\n",
       "    <tr>\n",
       "      <th>5</th>\n",
       "      <td>0</td>\n",
       "      <td>0</td>\n",
       "      <td>0</td>\n",
       "      <td>0</td>\n",
       "      <td>0</td>\n",
       "      <td>0</td>\n",
       "      <td>0</td>\n",
       "      <td>0</td>\n",
       "      <td>0</td>\n",
       "      <td>0</td>\n",
       "      <td>...</td>\n",
       "      <td>0</td>\n",
       "      <td>0</td>\n",
       "      <td>0</td>\n",
       "      <td>0</td>\n",
       "      <td>0</td>\n",
       "      <td>0</td>\n",
       "      <td>0</td>\n",
       "      <td>0</td>\n",
       "      <td>0</td>\n",
       "      <td>0</td>\n",
       "    </tr>\n",
       "    <tr>\n",
       "      <th>6</th>\n",
       "      <td>0</td>\n",
       "      <td>0</td>\n",
       "      <td>0</td>\n",
       "      <td>0</td>\n",
       "      <td>0</td>\n",
       "      <td>0</td>\n",
       "      <td>0</td>\n",
       "      <td>0</td>\n",
       "      <td>0</td>\n",
       "      <td>0</td>\n",
       "      <td>...</td>\n",
       "      <td>0</td>\n",
       "      <td>0</td>\n",
       "      <td>0</td>\n",
       "      <td>0</td>\n",
       "      <td>0</td>\n",
       "      <td>0</td>\n",
       "      <td>0</td>\n",
       "      <td>0</td>\n",
       "      <td>0</td>\n",
       "      <td>0</td>\n",
       "    </tr>\n",
       "    <tr>\n",
       "      <th>7</th>\n",
       "      <td>0</td>\n",
       "      <td>0</td>\n",
       "      <td>0</td>\n",
       "      <td>0</td>\n",
       "      <td>0</td>\n",
       "      <td>0</td>\n",
       "      <td>0</td>\n",
       "      <td>0</td>\n",
       "      <td>0</td>\n",
       "      <td>0</td>\n",
       "      <td>...</td>\n",
       "      <td>0</td>\n",
       "      <td>0</td>\n",
       "      <td>0</td>\n",
       "      <td>0</td>\n",
       "      <td>0</td>\n",
       "      <td>0</td>\n",
       "      <td>0</td>\n",
       "      <td>0</td>\n",
       "      <td>0</td>\n",
       "      <td>0</td>\n",
       "    </tr>\n",
       "    <tr>\n",
       "      <th>8</th>\n",
       "      <td>0</td>\n",
       "      <td>0</td>\n",
       "      <td>0</td>\n",
       "      <td>0</td>\n",
       "      <td>0</td>\n",
       "      <td>0</td>\n",
       "      <td>0</td>\n",
       "      <td>0</td>\n",
       "      <td>0</td>\n",
       "      <td>0</td>\n",
       "      <td>...</td>\n",
       "      <td>0</td>\n",
       "      <td>0</td>\n",
       "      <td>0</td>\n",
       "      <td>0</td>\n",
       "      <td>0</td>\n",
       "      <td>0</td>\n",
       "      <td>0</td>\n",
       "      <td>0</td>\n",
       "      <td>0</td>\n",
       "      <td>0</td>\n",
       "    </tr>\n",
       "    <tr>\n",
       "      <th>9</th>\n",
       "      <td>1</td>\n",
       "      <td>0</td>\n",
       "      <td>0</td>\n",
       "      <td>0</td>\n",
       "      <td>0</td>\n",
       "      <td>0</td>\n",
       "      <td>0</td>\n",
       "      <td>0</td>\n",
       "      <td>0</td>\n",
       "      <td>0</td>\n",
       "      <td>...</td>\n",
       "      <td>0</td>\n",
       "      <td>0</td>\n",
       "      <td>0</td>\n",
       "      <td>0</td>\n",
       "      <td>0</td>\n",
       "      <td>0</td>\n",
       "      <td>0</td>\n",
       "      <td>0</td>\n",
       "      <td>0</td>\n",
       "      <td>0</td>\n",
       "    </tr>\n",
       "  </tbody>\n",
       "</table>\n",
       "<p>10 rows × 100 columns</p>\n",
       "</div>"
      ],
      "text/plain": [
       "   .net  ajax  algorithm  android  android-studio  angular  angularjs  apache  \\\n",
       "0     0     0          0        0               0        0          0       0   \n",
       "1     0     0          0        0               0        0          0       0   \n",
       "2     0     0          0        0               0        0          0       0   \n",
       "3     1     0          0        0               0        0          0       0   \n",
       "4     0     0          0        0               0        0          0       0   \n",
       "5     0     0          0        0               0        0          0       0   \n",
       "6     0     0          0        0               0        0          0       0   \n",
       "7     0     0          0        0               0        0          0       0   \n",
       "8     0     0          0        0               0        0          0       0   \n",
       "9     1     0          0        0               0        0          0       0   \n",
       "\n",
       "   apache-spark  arrays  ...  string  swift  ubuntu  unit-testing  unix  \\\n",
       "0             0       0  ...       0      0       0             0     0   \n",
       "1             0       0  ...       0      0       0             0     0   \n",
       "2             0       0  ...       0      0       0             0     0   \n",
       "3             0       0  ...       0      0       0             0     0   \n",
       "4             0       0  ...       0      0       0             0     0   \n",
       "5             0       0  ...       0      0       0             0     0   \n",
       "6             0       0  ...       0      0       0             0     0   \n",
       "7             0       0  ...       0      0       0             0     0   \n",
       "8             0       0  ...       0      0       0             0     0   \n",
       "9             0       0  ...       0      0       0             0     0   \n",
       "\n",
       "   visual-studio  windows  wpf  xcode  xml  \n",
       "0              0        0    0      0    0  \n",
       "1              0        0    0      0    0  \n",
       "2              0        0    0      0    0  \n",
       "3              0        0    0      0    1  \n",
       "4              0        0    0      0    1  \n",
       "5              0        0    0      0    0  \n",
       "6              0        0    0      0    0  \n",
       "7              0        0    0      0    0  \n",
       "8              0        0    0      0    0  \n",
       "9              0        0    0      0    0  \n",
       "\n",
       "[10 rows x 100 columns]"
      ]
     },
     "execution_count": 123,
     "metadata": {},
     "output_type": "execute_result"
    }
   ],
   "source": [
    "#Define y\n",
    "y = df['Tags']\n",
    "\n",
    "#Replace [, ], and '\n",
    "y=y.str.replace(\"[\",\"\")\n",
    "y=y.str.replace(\"]\",\"\")\n",
    "y=y.str.replace(\"'\",\"\")\n",
    "\n",
    "#Create list of list\n",
    "y = y.str.split(', ')\n",
    "\n",
    "#Binarize y\n",
    "multilabel_binarizer = MultiLabelBinarizer()\n",
    "y_bin = multilabel_binarizer.fit_transform(y)\n",
    "\n",
    "#Create a dataframe for vizualisation\n",
    "df_ybin = pd.DataFrame(multilabel_binarizer.fit_transform(y),columns=multilabel_binarizer.classes_)\n",
    "df_ybin.head(10)"
   ]
  },
  {
   "cell_type": "markdown",
   "id": "32f63ae6",
   "metadata": {},
   "source": [
    "### <font color = grey>3.2. Metrics</font>"
   ]
  },
  {
   "cell_type": "code",
   "execution_count": 126,
   "id": "ae0151a2",
   "metadata": {},
   "outputs": [],
   "source": [
    "def avg_jaccard(y_test, y_pred):\n",
    "    score = jaccard_score(y_test, y_pred, average=\"micro\")\n",
    "    return score"
   ]
  },
  {
   "cell_type": "code",
   "execution_count": 127,
   "id": "8d678acc",
   "metadata": {},
   "outputs": [],
   "source": [
    "def print_score(y_pred, clf):\n",
    "    print(\"Clf: \", clf.__class__.__name__)\n",
    "    print(\"Jacard score micro: {}\".format(jaccard_score(y_test, y_pred, average=\"micro\")))\n",
    "    print(\"Jacard score macro: {}\".format(jaccard_score(y_test, y_pred, average=\"macro\")))\n",
    "    print(\"Accuracy: {}\".format(accuracy_score(y_test, y_pred)))\n",
    "    print(\"---\")"
   ]
  },
  {
   "cell_type": "markdown",
   "id": "185591e1",
   "metadata": {},
   "source": [
    "## <font color = purple>4. Modèles</font>"
   ]
  },
  {
   "cell_type": "markdown",
   "id": "e5681af2",
   "metadata": {},
   "source": [
    "https://scikit-learn.org/stable/modules/generated/sklearn.metrics.jaccard_score.html#sklearn.metrics.jaccard_score"
   ]
  },
  {
   "cell_type": "markdown",
   "id": "28751f84",
   "metadata": {},
   "source": [
    "nous allons utiliser X_bow, X_bigram, X_tfidf, X_doc2vec en entrée"
   ]
  },
  {
   "cell_type": "code",
   "execution_count": 142,
   "id": "97d3c8d1",
   "metadata": {},
   "outputs": [],
   "source": [
    "#Split data in train and test (80/20)\n",
    "X_train, X_test, y_train, y_test = train_test_split(X_doc2vec, y_bin, test_size = 0.2, random_state = 0)"
   ]
  },
  {
   "cell_type": "markdown",
   "id": "c76435a1",
   "metadata": {},
   "source": [
    "ONE VS REST"
   ]
  },
  {
   "cell_type": "code",
   "execution_count": 143,
   "id": "fbbfc811",
   "metadata": {},
   "outputs": [],
   "source": [
    "dummy = DummyClassifier()\n",
    "sgd = SGDClassifier()\n",
    "lr = LogisticRegression()\n",
    "mn = MultinomialNB()\n",
    "svc = LinearSVC()\n",
    "perceptron = Perceptron()\n",
    "pac = PassiveAggressiveClassifier()"
   ]
  },
  {
   "cell_type": "code",
   "execution_count": 145,
   "id": "b29f48ed",
   "metadata": {},
   "outputs": [
    {
     "name": "stdout",
     "output_type": "stream",
     "text": [
      "Clf:  DummyClassifier\n",
      "Jacard score micro: 0.0\n",
      "Jacard score macro: 0.0\n",
      "Accuracy: 0.0\n",
      "---\n",
      "Clf:  SGDClassifier\n",
      "Jacard score micro: 0.0\n",
      "Jacard score macro: 0.0\n",
      "Accuracy: 0.0\n",
      "---\n",
      "Clf:  LogisticRegression\n",
      "Jacard score micro: 0.0\n",
      "Jacard score macro: 0.0\n",
      "Accuracy: 0.0\n",
      "---\n",
      "Clf:  LinearSVC\n",
      "Jacard score micro: 0.0\n",
      "Jacard score macro: 0.0\n",
      "Accuracy: 0.0\n",
      "---\n",
      "Clf:  Perceptron\n",
      "Jacard score micro: 0.012371727246571401\n",
      "Jacard score macro: 0.0009725108948917586\n",
      "Accuracy: 0.0\n",
      "---\n",
      "Clf:  PassiveAggressiveClassifier\n",
      "Jacard score micro: 0.058562197092084003\n",
      "Jacard score macro: 0.0022754531695876705\n",
      "Accuracy: 0.002302820955670697\n",
      "---\n"
     ]
    }
   ],
   "source": [
    "for classifier in [dummy, sgd, lr, svc, perceptron, pac]:\n",
    "    clf = OneVsRestClassifier(classifier)\n",
    "    clf.fit(X_train, y_train)\n",
    "    y_pred = clf.predict(X_test)\n",
    "    print_score(y_pred, classifier)"
   ]
  },
  {
   "cell_type": "code",
   "execution_count": 144,
   "id": "329c4cc3",
   "metadata": {},
   "outputs": [
    {
     "name": "stdout",
     "output_type": "stream",
     "text": [
      "Clf:  DummyClassifier\n",
      "Jacard score micro: 0.0\n",
      "Jacard score macro: 0.0\n",
      "Accuracy: 0.0\n",
      "---\n",
      "Clf:  SGDClassifier\n",
      "Jacard score micro: 0.0\n",
      "Jacard score macro: 0.0\n",
      "Accuracy: 0.0\n",
      "---\n",
      "Clf:  LogisticRegression\n",
      "Jacard score micro: 0.0\n",
      "Jacard score macro: 0.0\n",
      "Accuracy: 0.0\n",
      "---\n"
     ]
    },
    {
     "ename": "ValueError",
     "evalue": "Negative values in data passed to MultinomialNB (input X)",
     "output_type": "error",
     "traceback": [
      "\u001b[1;31m---------------------------------------------------------------------------\u001b[0m",
      "\u001b[1;31mValueError\u001b[0m                                Traceback (most recent call last)",
      "\u001b[1;32mc:\\Users\\Anthony\\Documents\\40 - Formation Opencllassroom\\20_Projets\\05 - categorisation question\\05---categorisation-question\\Nettoyage_test_1.ipynb Cell 222\u001b[0m in \u001b[0;36m<cell line: 1>\u001b[1;34m()\u001b[0m\n\u001b[0;32m      <a href='vscode-notebook-cell:/c%3A/Users/Anthony/Documents/40%20-%20Formation%20Opencllassroom/20_Projets/05%20-%20categorisation%20question/05---categorisation-question/Nettoyage_test_1.ipynb#Y422sZmlsZQ%3D%3D?line=0'>1</a>\u001b[0m \u001b[39mfor\u001b[39;00m classifier \u001b[39min\u001b[39;00m [dummy, sgd, lr, mn, svc, perceptron, pac]:\n\u001b[0;32m      <a href='vscode-notebook-cell:/c%3A/Users/Anthony/Documents/40%20-%20Formation%20Opencllassroom/20_Projets/05%20-%20categorisation%20question/05---categorisation-question/Nettoyage_test_1.ipynb#Y422sZmlsZQ%3D%3D?line=1'>2</a>\u001b[0m     clf \u001b[39m=\u001b[39m OneVsRestClassifier(classifier)\n\u001b[1;32m----> <a href='vscode-notebook-cell:/c%3A/Users/Anthony/Documents/40%20-%20Formation%20Opencllassroom/20_Projets/05%20-%20categorisation%20question/05---categorisation-question/Nettoyage_test_1.ipynb#Y422sZmlsZQ%3D%3D?line=2'>3</a>\u001b[0m     clf\u001b[39m.\u001b[39;49mfit(X_train, y_train)\n\u001b[0;32m      <a href='vscode-notebook-cell:/c%3A/Users/Anthony/Documents/40%20-%20Formation%20Opencllassroom/20_Projets/05%20-%20categorisation%20question/05---categorisation-question/Nettoyage_test_1.ipynb#Y422sZmlsZQ%3D%3D?line=3'>4</a>\u001b[0m     y_pred \u001b[39m=\u001b[39m clf\u001b[39m.\u001b[39mpredict(X_test)\n\u001b[0;32m      <a href='vscode-notebook-cell:/c%3A/Users/Anthony/Documents/40%20-%20Formation%20Opencllassroom/20_Projets/05%20-%20categorisation%20question/05---categorisation-question/Nettoyage_test_1.ipynb#Y422sZmlsZQ%3D%3D?line=4'>5</a>\u001b[0m     print_score(y_pred, classifier)\n",
      "File \u001b[1;32mc:\\Users\\Anthony\\anaconda3\\lib\\site-packages\\sklearn\\multiclass.py:337\u001b[0m, in \u001b[0;36mOneVsRestClassifier.fit\u001b[1;34m(self, X, y)\u001b[0m\n\u001b[0;32m    333\u001b[0m columns \u001b[39m=\u001b[39m (col\u001b[39m.\u001b[39mtoarray()\u001b[39m.\u001b[39mravel() \u001b[39mfor\u001b[39;00m col \u001b[39min\u001b[39;00m Y\u001b[39m.\u001b[39mT)\n\u001b[0;32m    334\u001b[0m \u001b[39m# In cases where individual estimators are very fast to train setting\u001b[39;00m\n\u001b[0;32m    335\u001b[0m \u001b[39m# n_jobs > 1 in can results in slower performance due to the overhead\u001b[39;00m\n\u001b[0;32m    336\u001b[0m \u001b[39m# of spawning threads.  See joblib issue #112.\u001b[39;00m\n\u001b[1;32m--> 337\u001b[0m \u001b[39mself\u001b[39m\u001b[39m.\u001b[39mestimators_ \u001b[39m=\u001b[39m Parallel(n_jobs\u001b[39m=\u001b[39;49m\u001b[39mself\u001b[39;49m\u001b[39m.\u001b[39;49mn_jobs)(\n\u001b[0;32m    338\u001b[0m     delayed(_fit_binary)(\n\u001b[0;32m    339\u001b[0m         \u001b[39mself\u001b[39;49m\u001b[39m.\u001b[39;49mestimator,\n\u001b[0;32m    340\u001b[0m         X,\n\u001b[0;32m    341\u001b[0m         column,\n\u001b[0;32m    342\u001b[0m         classes\u001b[39m=\u001b[39;49m[\n\u001b[0;32m    343\u001b[0m             \u001b[39m\"\u001b[39;49m\u001b[39mnot \u001b[39;49m\u001b[39m%s\u001b[39;49;00m\u001b[39m\"\u001b[39;49m \u001b[39m%\u001b[39;49m \u001b[39mself\u001b[39;49m\u001b[39m.\u001b[39;49mlabel_binarizer_\u001b[39m.\u001b[39;49mclasses_[i],\n\u001b[0;32m    344\u001b[0m             \u001b[39mself\u001b[39;49m\u001b[39m.\u001b[39;49mlabel_binarizer_\u001b[39m.\u001b[39;49mclasses_[i],\n\u001b[0;32m    345\u001b[0m         ],\n\u001b[0;32m    346\u001b[0m     )\n\u001b[0;32m    347\u001b[0m     \u001b[39mfor\u001b[39;49;00m i, column \u001b[39min\u001b[39;49;00m \u001b[39menumerate\u001b[39;49m(columns)\n\u001b[0;32m    348\u001b[0m )\n\u001b[0;32m    350\u001b[0m \u001b[39mif\u001b[39;00m \u001b[39mhasattr\u001b[39m(\u001b[39mself\u001b[39m\u001b[39m.\u001b[39mestimators_[\u001b[39m0\u001b[39m], \u001b[39m\"\u001b[39m\u001b[39mn_features_in_\u001b[39m\u001b[39m\"\u001b[39m):\n\u001b[0;32m    351\u001b[0m     \u001b[39mself\u001b[39m\u001b[39m.\u001b[39mn_features_in_ \u001b[39m=\u001b[39m \u001b[39mself\u001b[39m\u001b[39m.\u001b[39mestimators_[\u001b[39m0\u001b[39m]\u001b[39m.\u001b[39mn_features_in_\n",
      "File \u001b[1;32mc:\\Users\\Anthony\\anaconda3\\lib\\site-packages\\joblib\\parallel.py:1043\u001b[0m, in \u001b[0;36mParallel.__call__\u001b[1;34m(self, iterable)\u001b[0m\n\u001b[0;32m   1034\u001b[0m \u001b[39mtry\u001b[39;00m:\n\u001b[0;32m   1035\u001b[0m     \u001b[39m# Only set self._iterating to True if at least a batch\u001b[39;00m\n\u001b[0;32m   1036\u001b[0m     \u001b[39m# was dispatched. In particular this covers the edge\u001b[39;00m\n\u001b[1;32m   (...)\u001b[0m\n\u001b[0;32m   1040\u001b[0m     \u001b[39m# was very quick and its callback already dispatched all the\u001b[39;00m\n\u001b[0;32m   1041\u001b[0m     \u001b[39m# remaining jobs.\u001b[39;00m\n\u001b[0;32m   1042\u001b[0m     \u001b[39mself\u001b[39m\u001b[39m.\u001b[39m_iterating \u001b[39m=\u001b[39m \u001b[39mFalse\u001b[39;00m\n\u001b[1;32m-> 1043\u001b[0m     \u001b[39mif\u001b[39;00m \u001b[39mself\u001b[39;49m\u001b[39m.\u001b[39;49mdispatch_one_batch(iterator):\n\u001b[0;32m   1044\u001b[0m         \u001b[39mself\u001b[39m\u001b[39m.\u001b[39m_iterating \u001b[39m=\u001b[39m \u001b[39mself\u001b[39m\u001b[39m.\u001b[39m_original_iterator \u001b[39mis\u001b[39;00m \u001b[39mnot\u001b[39;00m \u001b[39mNone\u001b[39;00m\n\u001b[0;32m   1046\u001b[0m     \u001b[39mwhile\u001b[39;00m \u001b[39mself\u001b[39m\u001b[39m.\u001b[39mdispatch_one_batch(iterator):\n",
      "File \u001b[1;32mc:\\Users\\Anthony\\anaconda3\\lib\\site-packages\\joblib\\parallel.py:861\u001b[0m, in \u001b[0;36mParallel.dispatch_one_batch\u001b[1;34m(self, iterator)\u001b[0m\n\u001b[0;32m    859\u001b[0m     \u001b[39mreturn\u001b[39;00m \u001b[39mFalse\u001b[39;00m\n\u001b[0;32m    860\u001b[0m \u001b[39melse\u001b[39;00m:\n\u001b[1;32m--> 861\u001b[0m     \u001b[39mself\u001b[39;49m\u001b[39m.\u001b[39;49m_dispatch(tasks)\n\u001b[0;32m    862\u001b[0m     \u001b[39mreturn\u001b[39;00m \u001b[39mTrue\u001b[39;00m\n",
      "File \u001b[1;32mc:\\Users\\Anthony\\anaconda3\\lib\\site-packages\\joblib\\parallel.py:779\u001b[0m, in \u001b[0;36mParallel._dispatch\u001b[1;34m(self, batch)\u001b[0m\n\u001b[0;32m    777\u001b[0m \u001b[39mwith\u001b[39;00m \u001b[39mself\u001b[39m\u001b[39m.\u001b[39m_lock:\n\u001b[0;32m    778\u001b[0m     job_idx \u001b[39m=\u001b[39m \u001b[39mlen\u001b[39m(\u001b[39mself\u001b[39m\u001b[39m.\u001b[39m_jobs)\n\u001b[1;32m--> 779\u001b[0m     job \u001b[39m=\u001b[39m \u001b[39mself\u001b[39;49m\u001b[39m.\u001b[39;49m_backend\u001b[39m.\u001b[39;49mapply_async(batch, callback\u001b[39m=\u001b[39;49mcb)\n\u001b[0;32m    780\u001b[0m     \u001b[39m# A job can complete so quickly than its callback is\u001b[39;00m\n\u001b[0;32m    781\u001b[0m     \u001b[39m# called before we get here, causing self._jobs to\u001b[39;00m\n\u001b[0;32m    782\u001b[0m     \u001b[39m# grow. To ensure correct results ordering, .insert is\u001b[39;00m\n\u001b[0;32m    783\u001b[0m     \u001b[39m# used (rather than .append) in the following line\u001b[39;00m\n\u001b[0;32m    784\u001b[0m     \u001b[39mself\u001b[39m\u001b[39m.\u001b[39m_jobs\u001b[39m.\u001b[39minsert(job_idx, job)\n",
      "File \u001b[1;32mc:\\Users\\Anthony\\anaconda3\\lib\\site-packages\\joblib\\_parallel_backends.py:208\u001b[0m, in \u001b[0;36mSequentialBackend.apply_async\u001b[1;34m(self, func, callback)\u001b[0m\n\u001b[0;32m    206\u001b[0m \u001b[39mdef\u001b[39;00m \u001b[39mapply_async\u001b[39m(\u001b[39mself\u001b[39m, func, callback\u001b[39m=\u001b[39m\u001b[39mNone\u001b[39;00m):\n\u001b[0;32m    207\u001b[0m     \u001b[39m\"\"\"Schedule a func to be run\"\"\"\u001b[39;00m\n\u001b[1;32m--> 208\u001b[0m     result \u001b[39m=\u001b[39m ImmediateResult(func)\n\u001b[0;32m    209\u001b[0m     \u001b[39mif\u001b[39;00m callback:\n\u001b[0;32m    210\u001b[0m         callback(result)\n",
      "File \u001b[1;32mc:\\Users\\Anthony\\anaconda3\\lib\\site-packages\\joblib\\_parallel_backends.py:572\u001b[0m, in \u001b[0;36mImmediateResult.__init__\u001b[1;34m(self, batch)\u001b[0m\n\u001b[0;32m    569\u001b[0m \u001b[39mdef\u001b[39;00m \u001b[39m__init__\u001b[39m(\u001b[39mself\u001b[39m, batch):\n\u001b[0;32m    570\u001b[0m     \u001b[39m# Don't delay the application, to avoid keeping the input\u001b[39;00m\n\u001b[0;32m    571\u001b[0m     \u001b[39m# arguments in memory\u001b[39;00m\n\u001b[1;32m--> 572\u001b[0m     \u001b[39mself\u001b[39m\u001b[39m.\u001b[39mresults \u001b[39m=\u001b[39m batch()\n",
      "File \u001b[1;32mc:\\Users\\Anthony\\anaconda3\\lib\\site-packages\\joblib\\parallel.py:262\u001b[0m, in \u001b[0;36mBatchedCalls.__call__\u001b[1;34m(self)\u001b[0m\n\u001b[0;32m    258\u001b[0m \u001b[39mdef\u001b[39;00m \u001b[39m__call__\u001b[39m(\u001b[39mself\u001b[39m):\n\u001b[0;32m    259\u001b[0m     \u001b[39m# Set the default nested backend to self._backend but do not set the\u001b[39;00m\n\u001b[0;32m    260\u001b[0m     \u001b[39m# change the default number of processes to -1\u001b[39;00m\n\u001b[0;32m    261\u001b[0m     \u001b[39mwith\u001b[39;00m parallel_backend(\u001b[39mself\u001b[39m\u001b[39m.\u001b[39m_backend, n_jobs\u001b[39m=\u001b[39m\u001b[39mself\u001b[39m\u001b[39m.\u001b[39m_n_jobs):\n\u001b[1;32m--> 262\u001b[0m         \u001b[39mreturn\u001b[39;00m [func(\u001b[39m*\u001b[39margs, \u001b[39m*\u001b[39m\u001b[39m*\u001b[39mkwargs)\n\u001b[0;32m    263\u001b[0m                 \u001b[39mfor\u001b[39;00m func, args, kwargs \u001b[39min\u001b[39;00m \u001b[39mself\u001b[39m\u001b[39m.\u001b[39mitems]\n",
      "File \u001b[1;32mc:\\Users\\Anthony\\anaconda3\\lib\\site-packages\\joblib\\parallel.py:262\u001b[0m, in \u001b[0;36m<listcomp>\u001b[1;34m(.0)\u001b[0m\n\u001b[0;32m    258\u001b[0m \u001b[39mdef\u001b[39;00m \u001b[39m__call__\u001b[39m(\u001b[39mself\u001b[39m):\n\u001b[0;32m    259\u001b[0m     \u001b[39m# Set the default nested backend to self._backend but do not set the\u001b[39;00m\n\u001b[0;32m    260\u001b[0m     \u001b[39m# change the default number of processes to -1\u001b[39;00m\n\u001b[0;32m    261\u001b[0m     \u001b[39mwith\u001b[39;00m parallel_backend(\u001b[39mself\u001b[39m\u001b[39m.\u001b[39m_backend, n_jobs\u001b[39m=\u001b[39m\u001b[39mself\u001b[39m\u001b[39m.\u001b[39m_n_jobs):\n\u001b[1;32m--> 262\u001b[0m         \u001b[39mreturn\u001b[39;00m [func(\u001b[39m*\u001b[39margs, \u001b[39m*\u001b[39m\u001b[39m*\u001b[39mkwargs)\n\u001b[0;32m    263\u001b[0m                 \u001b[39mfor\u001b[39;00m func, args, kwargs \u001b[39min\u001b[39;00m \u001b[39mself\u001b[39m\u001b[39m.\u001b[39mitems]\n",
      "File \u001b[1;32mc:\\Users\\Anthony\\anaconda3\\lib\\site-packages\\sklearn\\utils\\fixes.py:216\u001b[0m, in \u001b[0;36m_FuncWrapper.__call__\u001b[1;34m(self, *args, **kwargs)\u001b[0m\n\u001b[0;32m    214\u001b[0m \u001b[39mdef\u001b[39;00m \u001b[39m__call__\u001b[39m(\u001b[39mself\u001b[39m, \u001b[39m*\u001b[39margs, \u001b[39m*\u001b[39m\u001b[39m*\u001b[39mkwargs):\n\u001b[0;32m    215\u001b[0m     \u001b[39mwith\u001b[39;00m config_context(\u001b[39m*\u001b[39m\u001b[39m*\u001b[39m\u001b[39mself\u001b[39m\u001b[39m.\u001b[39mconfig):\n\u001b[1;32m--> 216\u001b[0m         \u001b[39mreturn\u001b[39;00m \u001b[39mself\u001b[39m\u001b[39m.\u001b[39mfunction(\u001b[39m*\u001b[39margs, \u001b[39m*\u001b[39m\u001b[39m*\u001b[39mkwargs)\n",
      "File \u001b[1;32mc:\\Users\\Anthony\\anaconda3\\lib\\site-packages\\sklearn\\multiclass.py:85\u001b[0m, in \u001b[0;36m_fit_binary\u001b[1;34m(estimator, X, y, classes)\u001b[0m\n\u001b[0;32m     83\u001b[0m \u001b[39melse\u001b[39;00m:\n\u001b[0;32m     84\u001b[0m     estimator \u001b[39m=\u001b[39m clone(estimator)\n\u001b[1;32m---> 85\u001b[0m     estimator\u001b[39m.\u001b[39;49mfit(X, y)\n\u001b[0;32m     86\u001b[0m \u001b[39mreturn\u001b[39;00m estimator\n",
      "File \u001b[1;32mc:\\Users\\Anthony\\anaconda3\\lib\\site-packages\\sklearn\\naive_bayes.py:690\u001b[0m, in \u001b[0;36m_BaseDiscreteNB.fit\u001b[1;34m(self, X, y, sample_weight)\u001b[0m\n\u001b[0;32m    688\u001b[0m n_classes \u001b[39m=\u001b[39m Y\u001b[39m.\u001b[39mshape[\u001b[39m1\u001b[39m]\n\u001b[0;32m    689\u001b[0m \u001b[39mself\u001b[39m\u001b[39m.\u001b[39m_init_counters(n_classes, n_features)\n\u001b[1;32m--> 690\u001b[0m \u001b[39mself\u001b[39;49m\u001b[39m.\u001b[39;49m_count(X, Y)\n\u001b[0;32m    691\u001b[0m alpha \u001b[39m=\u001b[39m \u001b[39mself\u001b[39m\u001b[39m.\u001b[39m_check_alpha()\n\u001b[0;32m    692\u001b[0m \u001b[39mself\u001b[39m\u001b[39m.\u001b[39m_update_feature_log_prob(alpha)\n",
      "File \u001b[1;32mc:\\Users\\Anthony\\anaconda3\\lib\\site-packages\\sklearn\\naive_bayes.py:863\u001b[0m, in \u001b[0;36mMultinomialNB._count\u001b[1;34m(self, X, Y)\u001b[0m\n\u001b[0;32m    861\u001b[0m \u001b[39mdef\u001b[39;00m \u001b[39m_count\u001b[39m(\u001b[39mself\u001b[39m, X, Y):\n\u001b[0;32m    862\u001b[0m     \u001b[39m\"\"\"Count and smooth feature occurrences.\"\"\"\u001b[39;00m\n\u001b[1;32m--> 863\u001b[0m     check_non_negative(X, \u001b[39m\"\u001b[39;49m\u001b[39mMultinomialNB (input X)\u001b[39;49m\u001b[39m\"\u001b[39;49m)\n\u001b[0;32m    864\u001b[0m     \u001b[39mself\u001b[39m\u001b[39m.\u001b[39mfeature_count_ \u001b[39m+\u001b[39m\u001b[39m=\u001b[39m safe_sparse_dot(Y\u001b[39m.\u001b[39mT, X)\n\u001b[0;32m    865\u001b[0m     \u001b[39mself\u001b[39m\u001b[39m.\u001b[39mclass_count_ \u001b[39m+\u001b[39m\u001b[39m=\u001b[39m Y\u001b[39m.\u001b[39msum(axis\u001b[39m=\u001b[39m\u001b[39m0\u001b[39m)\n",
      "File \u001b[1;32mc:\\Users\\Anthony\\anaconda3\\lib\\site-packages\\sklearn\\utils\\validation.py:1249\u001b[0m, in \u001b[0;36mcheck_non_negative\u001b[1;34m(X, whom)\u001b[0m\n\u001b[0;32m   1246\u001b[0m     X_min \u001b[39m=\u001b[39m X\u001b[39m.\u001b[39mmin()\n\u001b[0;32m   1248\u001b[0m \u001b[39mif\u001b[39;00m X_min \u001b[39m<\u001b[39m \u001b[39m0\u001b[39m:\n\u001b[1;32m-> 1249\u001b[0m     \u001b[39mraise\u001b[39;00m \u001b[39mValueError\u001b[39;00m(\u001b[39m\"\u001b[39m\u001b[39mNegative values in data passed to \u001b[39m\u001b[39m%s\u001b[39;00m\u001b[39m\"\u001b[39m \u001b[39m%\u001b[39m whom)\n",
      "\u001b[1;31mValueError\u001b[0m: Negative values in data passed to MultinomialNB (input X)"
     ]
    }
   ],
   "source": [
    "for classifier in [dummy, sgd, lr, mn, svc, perceptron, pac]:\n",
    "    clf = OneVsRestClassifier(classifier)\n",
    "    clf.fit(X_train, y_train)\n",
    "    y_pred = clf.predict(X_test)\n",
    "    print_score(y_pred, classifier)"
   ]
  },
  {
   "cell_type": "markdown",
   "id": "3ea9dac1",
   "metadata": {},
   "source": [
    "MLP"
   ]
  },
  {
   "cell_type": "code",
   "execution_count": 146,
   "id": "8e946b18",
   "metadata": {},
   "outputs": [
    {
     "name": "stdout",
     "output_type": "stream",
     "text": [
      "Clf:  MLPClassifier\n",
      "Jacard score micro: 0.0\n",
      "Jacard score macro: 0.0\n",
      "Accuracy: 0.0\n",
      "---\n"
     ]
    }
   ],
   "source": [
    "mlpc = MLPClassifier()\n",
    "mlpc.fit(X_train, y_train)\n",
    "\n",
    "y_pred = mlpc.predict(X_test)\n",
    "\n",
    "print_score(y_pred, mlpc)"
   ]
  },
  {
   "cell_type": "markdown",
   "id": "a56b3725",
   "metadata": {},
   "source": [
    "Random Forest"
   ]
  },
  {
   "cell_type": "code",
   "execution_count": 147,
   "id": "3c44689c",
   "metadata": {},
   "outputs": [
    {
     "name": "stdout",
     "output_type": "stream",
     "text": [
      "Clf:  RandomForestClassifier\n",
      "Jacard score micro: 0.0\n",
      "Jacard score macro: 0.0\n",
      "Accuracy: 0.0\n",
      "---\n"
     ]
    }
   ],
   "source": [
    "rfc = RandomForestClassifier()\n",
    "rfc.fit(X_train, y_train)\n",
    "\n",
    "y_pred = rfc.predict(X_test)\n",
    "\n",
    "print_score(y_pred, rfc)"
   ]
  },
  {
   "cell_type": "markdown",
   "id": "033ae9af",
   "metadata": {},
   "source": [
    "## <font color = purple>4. Tunning</font>"
   ]
  },
  {
   "cell_type": "code",
   "execution_count": null,
   "id": "1d334875",
   "metadata": {},
   "outputs": [],
   "source": [
    "param_grid = {'estimator__C':[1,10,100,1000]\n",
    "              }"
   ]
  },
  {
   "cell_type": "code",
   "execution_count": null,
   "id": "07b4a2ad",
   "metadata": {},
   "outputs": [],
   "source": [
    "svc = OneVsRestClassifier(LinearSVC())\n",
    "CV_svc = model_selection.GridSearchCV(estimator=svc, param_grid=param_grid, cv= 5, verbose=10, scoring=make_scorer(avg_jaccard,greater_is_better=True))\n",
    "CV_svc.fit(X_train, y_train)"
   ]
  },
  {
   "cell_type": "code",
   "execution_count": null,
   "id": "29f8ddb1",
   "metadata": {},
   "outputs": [],
   "source": [
    "CV_svc.best_params_"
   ]
  },
  {
   "cell_type": "code",
   "execution_count": null,
   "id": "ca2b7f19",
   "metadata": {},
   "outputs": [],
   "source": [
    "best_model = CV_svc.best_estimator_"
   ]
  },
  {
   "cell_type": "code",
   "execution_count": null,
   "id": "8cf85f2e",
   "metadata": {},
   "outputs": [],
   "source": [
    "y_pred = best_model.predict(X_test)\n",
    "\n",
    "print_score(y_pred, best_model)"
   ]
  },
  {
   "cell_type": "markdown",
   "id": "053d0318",
   "metadata": {},
   "source": [
    "CONFUSION MATRIX"
   ]
  },
  {
   "cell_type": "code",
   "execution_count": null,
   "id": "55006168",
   "metadata": {},
   "outputs": [],
   "source": [
    "for i in range(y_train.shape[1]):\n",
    "    print(multilabel_binarizer.classes_[i])\n",
    "    print(confusion_matrix(y_test[:,i], y_pred[:,i]))\n",
    "    print(\"\")"
   ]
  },
  {
   "cell_type": "markdown",
   "id": "7a3e4b0c",
   "metadata": {},
   "source": [
    "https://medium.com/@dtuk81/confusion-matrix-visualization-fc31e3f30fea"
   ]
  },
  {
   "cell_type": "code",
   "execution_count": null,
   "id": "4d2b18f9",
   "metadata": {},
   "outputs": [],
   "source": [
    "cf_matrix = confusion_matrix(y_test[:,0], y_pred[:,0])"
   ]
  },
  {
   "cell_type": "code",
   "execution_count": null,
   "id": "284c3fef",
   "metadata": {},
   "outputs": [],
   "source": [
    "import seaborn as sns\n",
    "sns.heatmap(cf_matrix/np.sum(cf_matrix), annot=True, \n",
    "            fmt='.2%', cmap='Blues')"
   ]
  },
  {
   "cell_type": "code",
   "execution_count": null,
   "id": "e4ffbf81",
   "metadata": {},
   "outputs": [],
   "source": [
    "group_names = ['True Neg','False Pos','False Neg','True Pos']\n",
    "group_counts = [\"{0:0.0f}\".format(value) for value in\n",
    "                cf_matrix.flatten()]\n",
    "group_percentages = [\"{0:.2%}\".format(value) for value in\n",
    "                     cf_matrix.flatten()/np.sum(cf_matrix)]\n",
    "labels = [f\"{v1}\\n{v2}\\n{v3}\" for v1, v2, v3 in zip(group_names,group_counts,group_percentages)]\n",
    "labels = np.asarray(labels).reshape(2,2)\n",
    "sns.heatmap(cf_matrix, annot=labels, fmt='', cmap='Blues')"
   ]
  },
  {
   "cell_type": "code",
   "execution_count": null,
   "id": "bc3b785a",
   "metadata": {},
   "outputs": [],
   "source": [
    "for i in range(y_train.shape[1]):\n",
    "    cf_matrix = confusion_matrix(y_test[:,i], y_pred[:,i])\n",
    "    group_names = ['True Neg','False Pos','False Neg','True Pos']\n",
    "    group_counts = [\"{0:0.0f}\".format(value) for value in cf_matrix.flatten()]\n",
    "    group_percentages = [\"{0:.2%}\".format(value) for value in cf_matrix.flatten()/np.sum(cf_matrix)]\n",
    "    labels = [f\"{v1}\\n{v2}\\n{v3}\" for v1, v2, v3 in zip(group_names,group_counts,group_percentages)]\n",
    "    labels = np.asarray(labels).reshape(2,2)\n",
    "    plt.figure(i)\n",
    "    plt.title(multilabel_binarizer.classes_[i])\n",
    "    sns.heatmap(cf_matrix, annot=labels, fmt='', cmap='Blues')\n",
    "    print(\"\")"
   ]
  },
  {
   "cell_type": "markdown",
   "id": "f71c7107",
   "metadata": {},
   "source": [
    "FEATURES IMPORTANCE"
   ]
  },
  {
   "cell_type": "markdown",
   "id": "8e53ca6b",
   "metadata": {},
   "source": [
    "SUGGESSTION D'UN TAG POUR TESTER"
   ]
  },
  {
   "cell_type": "markdown",
   "id": "81dc8c30",
   "metadata": {},
   "source": []
  }
 ],
 "metadata": {
  "kernelspec": {
   "display_name": "Python 3.9.12 ('base')",
   "language": "python",
   "name": "python3"
  },
  "language_info": {
   "codemirror_mode": {
    "name": "ipython",
    "version": 3
   },
   "file_extension": ".py",
   "mimetype": "text/x-python",
   "name": "python",
   "nbconvert_exporter": "python",
   "pygments_lexer": "ipython3",
   "version": "3.9.12"
  },
  "vscode": {
   "interpreter": {
    "hash": "eff762b79131b0a616db2e5d2e2f0cf802027d9b17e52f1566d363b2981a5f09"
   }
  }
 },
 "nbformat": 4,
 "nbformat_minor": 5
}
